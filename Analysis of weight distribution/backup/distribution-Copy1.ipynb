{
 "cells": [
  {
   "cell_type": "markdown",
   "metadata": {},
   "source": [
    "# Notebook initialization"
   ]
  },
  {
   "cell_type": "markdown",
   "metadata": {},
   "source": [
    "## Selecting best GPU"
   ]
  },
  {
   "cell_type": "code",
   "execution_count": 1,
   "metadata": {},
   "outputs": [
    {
     "name": "stdout",
     "output_type": "stream",
     "text": [
      "setGPU: Setting GPU to: 3\n"
     ]
    }
   ],
   "source": [
    "import os\n",
    "os.environ['PYTHONHASHSEED'] = '0'\n",
    "import gpustat\n",
    "\n",
    "stats = gpustat.GPUStatCollection.new_query()\n",
    "ids = map(lambda gpu: int(gpu.entry['index']), stats)\n",
    "ratios = map(lambda gpu: float(gpu.entry['memory.used'])/float(gpu.entry['memory.total']), stats)\n",
    "bestGPU = 3#min(zip(ids, ratios), key=lambda x: x[1])[0]\n",
    "\n",
    "print(\"setGPU: Setting GPU to: {}\".format(bestGPU))\n",
    "os.environ['CUDA_DEVICE_ORDER'] = 'PCI_BUS_ID'\n",
    "os.environ['CUDA_VISIBLE_DEVICES'] = str(bestGPU)"
   ]
  },
  {
   "cell_type": "markdown",
   "metadata": {},
   "source": [
    "##  Global variables"
   ]
  },
  {
   "cell_type": "code",
   "execution_count": 2,
   "metadata": {},
   "outputs": [],
   "source": [
    "# IPython extension to reload modules before executing user code.\n",
    "# 'autoreload' reloads modules automatically before entering the execution of code typed at the IPython prompt.\n",
    "%load_ext autoreload\n",
    "%autoreload 2\n",
    "import sys\n",
    "sys.path.insert(0, \"../\")\n",
    "\n",
    "simulation_id = 4\n",
    "weights_path = lambda wid, name: '../weights/{}/{}/'.format(wid, name)\n",
    "dw_path = lambda name: 'dw/{}/{}'.format(simulation_id, name)\n",
    "figures_path = 'figures/{}/'.format(simulation_id)"
   ]
  },
  {
   "cell_type": "markdown",
   "metadata": {},
   "source": [
    "## Seed initialization (for reproductible results)"
   ]
  },
  {
   "cell_type": "code",
   "execution_count": 3,
   "metadata": {
    "scrolled": true
   },
   "outputs": [],
   "source": [
    "# Setting the seed for NumPy generated random numbers\n",
    "import numpy as np\n",
    "np.random.seed(0)\n",
    "\n",
    "# Setting the seed for Python random numbers\n",
    "import random as rn\n",
    "rn.seed(0)\n",
    "\n",
    "# Setting the seed for TensorFlow random numbers\n",
    "import tensorflow as tf\n",
    "tf.set_random_seed(0)\n",
    "\n",
    "#from keras.backend.tensorflow_backend import set_session\n",
    "#config = tf.ConfigProto()\n",
    "#config.gpu_options.per_process_gpu_memory_fraction = 0.333\n",
    "#set_session(tf.Session(config=config))"
   ]
  },
  {
   "cell_type": "markdown",
   "metadata": {},
   "source": [
    "# Importing weights"
   ]
  },
  {
   "cell_type": "code",
   "execution_count": 4,
   "metadata": {},
   "outputs": [
    {
     "name": "stderr",
     "output_type": "stream",
     "text": [
      "Using TensorFlow backend.\n"
     ]
    }
   ],
   "source": [
    "import sys\n",
    "sys.path.insert(0, \"../\")\n",
    "\n",
    "from models import VGG16_Vanilla, VGG16, VGG16_beta, VGG16_Vanilla_beta\n",
    "import numpy as np\n",
    "import keras\n",
    "import matplotlib.pyplot as plt\n",
    "from collections import defaultdict\n",
    "from numpy.linalg import norm\n",
    "import itertools\n",
    "from keras_utils import get_kernel_layer_names, get_kernel_layer, get_kernel_weights\n",
    "\n",
    "import matplotlib\n",
    "matplotlib.use('nbagg')\n",
    "import matplotlib.pyplot as plt\n",
    "from collections import OrderedDict\n",
    "import pathlib\n",
    "import pickle"
   ]
  },
  {
   "cell_type": "code",
   "execution_count": 5,
   "metadata": {},
   "outputs": [],
   "source": [
    "# Simply loading both the initial and finals weights of our models\n",
    "\n",
    "models = [\n",
    "    (3, 'vgg16_vanilla_layca_bad', VGG16_Vanilla_beta(input_shape=(32,32,3), num_classes=10)),\n",
    "    (1, 'vgg16_vanilla_beta', VGG16_Vanilla_beta(input_shape=(32,32,3), num_classes=10)),\n",
    "    (1, 'vgg16_beta', VGG16_beta(input_shape=(32,32,3), num_classes=10, weight_decay=0.005)),\n",
    "    (1, 'vgg16_vanilla_layca', VGG16_Vanilla_beta(input_shape=(32,32,3), num_classes=10))\n",
    "]\n",
    "\n",
    "layer_names = [name.split('_', 1)[0] for name in get_kernel_layer_names(models[0][2])]\n",
    "n_layers = len(get_kernel_layer_names(models[0][2]))"
   ]
  },
  {
   "cell_type": "code",
   "execution_count": 6,
   "metadata": {},
   "outputs": [],
   "source": [
    "for (_, name, model) in models:\n",
    "    pathlib.Path(figures_path + 'byepoch/initial/distribution').mkdir(parents=True, exist_ok=True)\n",
    "    pathlib.Path(figures_path + 'byepoch/initial/histogram').mkdir(parents=True, exist_ok=True)\n",
    "    #pathlib.Path(figures_path(name) + 'byepoch/initial/mean').mkdir(parents=True, exist_ok=True)\n",
    "    pathlib.Path(figures_path + 'byepoch/final/distribution').mkdir(parents=True, exist_ok=True)\n",
    "    pathlib.Path(figures_path + 'byepoch/final/histogram').mkdir(parents=True, exist_ok=True)\n",
    "    #pathlib.Path(figures_path(name) + 'byepoch/initial/mean').mkdir(parents=True, exist_ok=True)"
   ]
  },
  {
   "cell_type": "code",
   "execution_count": 7,
   "metadata": {},
   "outputs": [],
   "source": [
    "def calculate_weight_difference(w_ref, w):\n",
    "\n",
    "    dw =  np.absolute(w - w_ref)\n",
    "    #dW[name][i] /= np.amax(dW[name][i])\n",
    "    \n",
    "    return dw"
   ]
  },
  {
   "cell_type": "code",
   "execution_count": 8,
   "metadata": {},
   "outputs": [],
   "source": [
    "W_i = list()\n",
    "for wid, name, model in models:\n",
    "    model.load_weights(weights_path(wid, name) + 'initial/weights-initial.hdf5') \n",
    "    W_i.append(get_kernel_weights(model))"
   ]
  },
  {
   "cell_type": "code",
   "execution_count": 19,
   "metadata": {},
   "outputs": [],
   "source": [
    "W_f = list()\n",
    "for wid, name, model in models:\n",
    "    model.load_weights(weights_path(wid, name) + 'byepoch/weights-50.hdf5') \n",
    "    W_f.append(get_kernel_weights(model))"
   ]
  },
  {
   "cell_type": "code",
   "execution_count": 9,
   "metadata": {},
   "outputs": [],
   "source": [
    "import progressbar"
   ]
  },
  {
   "cell_type": "code",
   "execution_count": 10,
   "metadata": {},
   "outputs": [],
   "source": [
    "import time"
   ]
  },
  {
   "cell_type": "code",
   "execution_count": 20,
   "metadata": {},
   "outputs": [
    {
     "name": "stdout",
     "output_type": "stream",
     "text": [
      "epoch 49\n"
     ]
    },
    {
     "name": "stderr",
     "output_type": "stream",
     "text": [
      "[========================================================================] 100%\r"
     ]
    },
    {
     "name": "stdout",
     "output_type": "stream",
     "text": [
      "finished in 50.8206672668457 seconds\n"
     ]
    },
    {
     "name": "stderr",
     "output_type": "stream",
     "text": [
      "\n"
     ]
    }
   ],
   "source": [
    "for epoch in range(49, 50):\n",
    "    start_time = time.time()\n",
    "    \n",
    "    fig1, axes1 = plt.subplots(nrows=n_layers, ncols=len(models), figsize=(15, 30))\n",
    "    #fig2, axes2 = plt.subplots(nrows=n_layers, ncols=len(models), figsize=(15, 30))\n",
    "    #fig3, axes3 = plt.subplots(nrows=1,        ncols=len(models), figsize=(20, 5))\n",
    "    bar = progressbar.ProgressBar(maxval=len(models)*n_layers, widgets=[progressbar.Bar('=', '[', ']'), ' ', progressbar.Percentage()])\n",
    "    \n",
    "    print(\"epoch {}\".format(epoch))\n",
    "    \n",
    "    W = list()\n",
    "    \n",
    "    for j, (wid, name, model) in enumerate(models):\n",
    "        \n",
    "        if epoch == 0:\n",
    "            model.load_weights(weights_path(wid, name) + 'initial/weights-initial.hdf5') \n",
    "        elif epoch == 100:\n",
    "            model.load_weights(weights_path(wid, name) + 'final/weights-final.hdf5') \n",
    "        else:\n",
    "            model.load_weights(weights_path(wid, name) + 'byepoch/weights-{:02d}.hdf5'.format(epoch)) \n",
    "            \n",
    "        W.append(get_kernel_weights(model))\n",
    "\n",
    "    bar.start()\n",
    "    for i in range(n_layers):\n",
    "        dw_max = 0\n",
    "        occ_max = 0\n",
    "        \n",
    "        for j, (wid, name, model) in enumerate(models):\n",
    "                  \n",
    "            means = defaultdict(list)\n",
    "\n",
    "            w = W[j][i].flatten()\n",
    "            w_i = W_i[j][i].flatten()\n",
    "            #w_f = W_f[j][i].flatten()\n",
    "            fuck = (w - w_i)#/np.linalg.norm(w_f, np.inf)\n",
    "            dw = np.absolute(fuck)\n",
    "            dw_max = max(np.max(dw), dw_max)\n",
    "            \n",
    "            dw = -np.sort(-dw)\n",
    "            \n",
    "            mean = np.mean(dw)\n",
    "\n",
    "            axes1[i,j].plot(list(range(len(dw))), dw)\n",
    "            axes1[i,j].set(xlabel='weight index', ylabel='difference in weight ' + r'$\\Delta W$', title=layer_names[i])\n",
    "            axes1[i,j].plot(list(range(len(dw))), np.ones(len(dw))*mean, linestyle='--')            \n",
    "\n",
    "            #n, b, patches = axes2[i,j].hist(dw, bins=np.arange(min(dw), max(dw) + 0.001, 0.001))\n",
    "            #occ_max = max(np.max(n), occ_max)\n",
    "            \n",
    "            #axes2[i,j].set(xlabel=r'$\\Delta W$', ylabel='occurrence', title=layer_names[i])\n",
    "            #axes2[i,j].axvline(dw.mean(), color='r', linestyle='dashed', linewidth=1) \n",
    "            \n",
    "            bar.update(len(models)*i+j)\n",
    "\n",
    "        #for j, (wid, name, model) in enumerate(models):\n",
    "            #axes1[i,j].set_ylim((0, dw_max))\n",
    "            #axes2[i,j].set_xlim((0, dw_max))            \n",
    "            #axes2[i,j].set_ylim((0, occ_max))   \n",
    "            \n",
    "    for fname, fig in zip([\"initial/distribution/dw_distribution\", \"initial/histogram/dw_histogram\"], [fig1]):\n",
    "        fig.tight_layout()\n",
    "        fig.savefig(figures_path + 'byepoch/{}-{:02d}.png'.format(fname, epoch), dpi=100)\n",
    "        plt.close(fig)\n",
    "        \n",
    "    bar.finish()\n",
    "    \n",
    "    del fig1\n",
    "    #del fig2\n",
    "    del axes1\n",
    "    #del axes2\n",
    "    del bar\n",
    "    del W\n",
    "    del dw\n",
    "    del fuck\n",
    "    del w\n",
    "    #del w_f\n",
    "    del w_i\n",
    "    #del patches\n",
    "    #del b\n",
    "    #del n\n",
    "    \n",
    "    elapsed_time = time.time() - start_time\n",
    "    print(\"finished in {} seconds\".format(elapsed_time))"
   ]
  },
  {
   "cell_type": "code",
   "execution_count": 21,
   "metadata": {},
   "outputs": [
    {
     "name": "stdout",
     "output_type": "stream",
     "text": [
      "epoch 49\n"
     ]
    },
    {
     "name": "stderr",
     "output_type": "stream",
     "text": [
      "[========================================================================] 100%\r"
     ]
    },
    {
     "name": "stdout",
     "output_type": "stream",
     "text": [
      "finished in 49.533509254455566 seconds\n"
     ]
    },
    {
     "name": "stderr",
     "output_type": "stream",
     "text": [
      "\n"
     ]
    }
   ],
   "source": [
    "for epoch in range(49, 50):\n",
    "    start_time = time.time()\n",
    "    \n",
    "    fig1, axes1 = plt.subplots(nrows=n_layers, ncols=len(models), figsize=(15, 30))\n",
    "    #fig2, axes2 = plt.subplots(nrows=n_layers, ncols=len(models), figsize=(15, 30))\n",
    "    #fig3, axes3 = plt.subplots(nrows=1,        ncols=len(models), figsize=(20, 5))\n",
    "    bar = progressbar.ProgressBar(maxval=len(models)*n_layers, widgets=[progressbar.Bar('=', '[', ']'), ' ', progressbar.Percentage()])\n",
    "    \n",
    "    print(\"epoch {}\".format(epoch))\n",
    "    \n",
    "    W = list()\n",
    "    \n",
    "    for j, (wid, name, model) in enumerate(models):\n",
    "        \n",
    "        if epoch == 0:\n",
    "            model.load_weights(weights_path(wid, name) + 'initial/weights-initial.hdf5') \n",
    "        elif epoch == 100:\n",
    "            model.load_weights(weights_path(wid, name) + 'final/weights-final.hdf5') \n",
    "        else:\n",
    "            model.load_weights(weights_path(wid, name) + 'byepoch/weights-{:02d}.hdf5'.format(epoch)) \n",
    "            \n",
    "        W.append(get_kernel_weights(model))\n",
    "\n",
    "    bar.start()\n",
    "    for i in range(n_layers):\n",
    "        dw_max = 0\n",
    "        occ_max = 0\n",
    "        \n",
    "        for j, (wid, name, model) in enumerate(models):\n",
    "                  \n",
    "            means = defaultdict(list)\n",
    "\n",
    "            w = W[j][i].flatten()\n",
    "            #w_i = W_i[j][i].flatten()\n",
    "            w_f = W_f[j][i].flatten()\n",
    "            fuck = (w - w_f)#/np.linalg.norm(w_f, np.inf)\n",
    "            dw = np.absolute(fuck)\n",
    "            dw_max = max(np.max(dw), dw_max)\n",
    "            \n",
    "            dw = -np.sort(-dw)\n",
    "            \n",
    "            mean = np.mean(dw)\n",
    "\n",
    "            axes1[i,j].plot(list(range(len(dw))), dw)\n",
    "            axes1[i,j].set(xlabel='weight index', ylabel='difference in weight ' + r'$\\Delta W$', title=layer_names[i])\n",
    "            axes1[i,j].plot(list(range(len(dw))), np.ones(len(dw))*mean, linestyle='--')            \n",
    "\n",
    "            #n, b, patches = axes2[i,j].hist(dw, bins=np.arange(min(dw), max(dw) + 0.001, 0.001))\n",
    "            #occ_max = max(np.max(n), occ_max)\n",
    "            \n",
    "            #axes2[i,j].set(xlabel=r'$\\Delta W$', ylabel='occurrence', title=layer_names[i])\n",
    "            #axes2[i,j].axvline(dw.mean(), color='r', linestyle='dashed', linewidth=1) \n",
    "            \n",
    "            bar.update(len(models)*i+j)\n",
    "\n",
    "        #for j, (wid, name, model) in enumerate(models):\n",
    "            #axes1[i,j].set_ylim((0, dw_max))\n",
    "            #axes2[i,j].set_xlim((0, dw_max))            \n",
    "            #axes2[i,j].set_ylim((0, occ_max))   \n",
    "            \n",
    "    for fname, fig in zip([\"final/distribution/dw_distribution\", \"final/histogram/dw_histogram\"], [fig1]):\n",
    "        fig.tight_layout()\n",
    "        fig.savefig(figures_path + 'byepoch/{}-{:02d}.png'.format(fname, epoch), dpi=100)\n",
    "        plt.close(fig)\n",
    "        \n",
    "    bar.finish()\n",
    "    \n",
    "    del fig1\n",
    "    #del fig2\n",
    "    del axes1\n",
    "    #del axes2\n",
    "    del bar\n",
    "    del W\n",
    "    del dw\n",
    "    del fuck\n",
    "    del w\n",
    "    del w_f\n",
    "    #del w_i\n",
    "    #del patches\n",
    "    #del b\n",
    "    #del n\n",
    "    \n",
    "    elapsed_time = time.time() - start_time\n",
    "    print(\"finished in {} seconds\".format(elapsed_time))"
   ]
  },
  {
   "cell_type": "code",
   "execution_count": 22,
   "metadata": {},
   "outputs": [],
   "source": [
    "for (_, name, model) in models:\n",
    "    pathlib.Path(figures_path + 'byepoch/initial_normalized/distribution').mkdir(parents=True, exist_ok=True)\n",
    "    pathlib.Path(figures_path + 'byepoch/initial_normalized/histogram').mkdir(parents=True, exist_ok=True)\n",
    "    #pathlib.Path(figures_path(name) + 'byepoch/initial/mean').mkdir(parents=True, exist_ok=True)"
   ]
  },
  {
   "cell_type": "code",
   "execution_count": null,
   "metadata": {},
   "outputs": [
    {
     "name": "stdout",
     "output_type": "stream",
     "text": [
      "epoch 49\n"
     ]
    },
    {
     "name": "stderr",
     "output_type": "stream",
     "text": [
      "[======================================================================  ]  98%\r"
     ]
    }
   ],
   "source": [
    "for epoch in range(49, 50):\n",
    "    start_time = time.time()\n",
    "    \n",
    "    fig1, axes1 = plt.subplots(nrows=n_layers, ncols=len(models), figsize=(15, 30))\n",
    "    #fig2, axes2 = plt.subplots(nrows=n_layers, ncols=len(models), figsize=(15, 30))\n",
    "    #fig3, axes3 = plt.subplots(nrows=1,        ncols=len(models), figsize=(20, 5))\n",
    "    bar = progressbar.ProgressBar(maxval=len(models)*n_layers, widgets=[progressbar.Bar('=', '[', ']'), ' ', progressbar.Percentage()])\n",
    "    \n",
    "    print(\"epoch {}\".format(epoch))\n",
    "    \n",
    "    W = list()\n",
    "    \n",
    "    for j, (wid, name, model) in enumerate(models):\n",
    "        \n",
    "        if epoch == 0:\n",
    "            model.load_weights(weights_path(wid, name) + 'initial/weights-initial.hdf5') \n",
    "        elif epoch == 100:\n",
    "            model.load_weights(weights_path(wid, name) + 'final/weights-final.hdf5') \n",
    "        else:\n",
    "            model.load_weights(weights_path(wid, name) + 'byepoch/weights-{:02d}.hdf5'.format(epoch)) \n",
    "            \n",
    "        W.append(get_kernel_weights(model))\n",
    "\n",
    "    bar.start()\n",
    "    for i in range(n_layers):\n",
    "        dw_max = 0\n",
    "        occ_max = 0\n",
    "        \n",
    "        for j, (wid, name, model) in enumerate(models):\n",
    "                  \n",
    "            means = defaultdict(list)\n",
    "\n",
    "            w = W[j][i].flatten()\n",
    "            w_i = W_i[j][i].flatten()\n",
    "            w_f = W_f[j][i].flatten()\n",
    "            fuck = (w - w_i)/np.linalg.norm(w_f)\n",
    "            dw = np.absolute(fuck)\n",
    "            dw_max = max(np.max(dw), dw_max)\n",
    "            \n",
    "            dw = -np.sort(-dw)\n",
    "            \n",
    "            mean = np.mean(dw)\n",
    "\n",
    "            axes1[i,j].plot(list(range(len(dw))), dw)\n",
    "            axes1[i,j].set(xlabel='weight index', ylabel='difference in weight ' + r'$\\Delta W$', title=layer_names[i])\n",
    "            axes1[i,j].plot(list(range(len(dw))), np.ones(len(dw))*mean, linestyle='--')            \n",
    "\n",
    "            #n, b, patches = axes2[i,j].hist(dw, bins=np.arange(min(dw), max(dw) + 0.001, 0.001))\n",
    "            #occ_max = max(np.max(n), occ_max)\n",
    "            \n",
    "            #axes2[i,j].set(xlabel=r'$\\Delta W$', ylabel='occurrence', title=layer_names[i])\n",
    "            #axes2[i,j].axvline(dw.mean(), color='r', linestyle='dashed', linewidth=1) \n",
    "            \n",
    "            bar.update(len(models)*i+j)\n",
    "\n",
    "        for j, (wid, name, model) in enumerate(models):\n",
    "            axes1[i,j].set_ylim((0, dw_max))\n",
    "            #axes2[i,j].set_xlim((0, dw_max))            \n",
    "            #axes2[i,j].set_ylim((0, occ_max))   \n",
    "            \n",
    "    for fname, fig in zip([\"initial_normalized/distribution/dw_distribution\", \"initial_normalized/histogram/dw_histogram\"], [fig1]):\n",
    "        fig.tight_layout()\n",
    "        fig.savefig(figures_path + 'byepoch/{}-{:02d}.png'.format(fname, epoch), dpi=100)\n",
    "        plt.close(fig)\n",
    "        \n",
    "    bar.finish()\n",
    "    \n",
    "    del fig1\n",
    "    #del fig2\n",
    "    del axes1\n",
    "    #del axes2\n",
    "    del bar\n",
    "    del W\n",
    "    del dw\n",
    "    del fuck\n",
    "    del w\n",
    "    del w_f\n",
    "    del w_i\n",
    "    #del patches\n",
    "    #del b\n",
    "    #del n\n",
    "    \n",
    "    elapsed_time = time.time() - start_time\n",
    "    print(\"finished in {} seconds\".format(elapsed_time))"
   ]
  },
  {
   "cell_type": "code",
   "execution_count": null,
   "metadata": {},
   "outputs": [],
   "source": [
    "import sys\n",
    "\n",
    "# These are the usual ipython objects, including this one you are creating\n",
    "ipython_vars = ['In', 'Out', 'exit', 'quit', 'get_ipython', 'ipython_vars']\n",
    "\n",
    "# Get a sorted list of the objects and their sizes\n",
    "sorted([(x, sys.getsizeof(globals().get(x))) for x in dir() if not x.startswith('_') and x not in sys.modules and x not in ipython_vars], key=lambda x: x[1], reverse=True)"
   ]
  },
  {
   "cell_type": "code",
   "execution_count": null,
   "metadata": {},
   "outputs": [],
   "source": []
  }
 ],
 "metadata": {
  "kernelspec": {
   "display_name": "Python 3",
   "language": "python",
   "name": "python3"
  },
  "language_info": {
   "codemirror_mode": {
    "name": "ipython",
    "version": 3
   },
   "file_extension": ".py",
   "mimetype": "text/x-python",
   "name": "python",
   "nbconvert_exporter": "python",
   "pygments_lexer": "ipython3",
   "version": "3.5.2"
  }
 },
 "nbformat": 4,
 "nbformat_minor": 2
}
