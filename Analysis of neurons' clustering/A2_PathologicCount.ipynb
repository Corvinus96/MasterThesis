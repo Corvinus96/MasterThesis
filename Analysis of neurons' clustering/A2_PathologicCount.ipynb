{
 "cells": [
  {
   "cell_type": "markdown",
   "metadata": {},
   "source": [
    "Calcul du nombre de neurones pathologiques dans le reseau\n",
    "\n",
    "Temps estimé: 33 min"
   ]
  },
  {
   "cell_type": "code",
   "execution_count": 1,
   "metadata": {
    "scrolled": true
   },
   "outputs": [],
   "source": [
    "#IPython extension to reload modules before executing user code.\n",
    "#'autoreload' reloads modules automatically before entering the execution of code typed at the IPython prompt.\n",
    "%load_ext autoreload\n",
    "%autoreload 2\n",
    "import os\n",
    "os.environ['PYTHONHASHSEED'] = '0'"
   ]
  },
  {
   "cell_type": "code",
   "execution_count": 2,
   "metadata": {
    "scrolled": true
   },
   "outputs": [
    {
     "name": "stdout",
     "output_type": "stream",
     "text": [
      "setGPU: Setting GPU to: 3\n"
     ]
    },
    {
     "data": {
      "text/plain": [
       "'\\n#set memory usage to 0.5\\nfrom keras.backend.tensorflow_backend import set_session\\nimport tensorflow as tf\\nconfig = tf.ConfigProto()\\nconfig.gpu_options.per_process_gpu_memory_fraction = 0.5\\nset_session(tf.Session(config=config))'"
      ]
     },
     "execution_count": 2,
     "metadata": {},
     "output_type": "execute_result"
    }
   ],
   "source": [
    "import gpustat\n",
    "\n",
    "#select the best free GPU on the nvidia card\n",
    "stats = gpustat.GPUStatCollection.new_query()\n",
    "ids = map(lambda gpu: int(gpu.entry['index']), stats)\n",
    "ratios = map(lambda gpu: float(gpu.entry['memory.used'])/float(gpu.entry['memory.total']), stats)\n",
    "bestGPU = min(zip(ids, ratios), key=lambda x: x[1])[0]\n",
    "bestGPU = 3\n",
    "\n",
    "print(\"setGPU: Setting GPU to: {}\".format(bestGPU))\n",
    "os.environ['CUDA_DEVICE_ORDER'] = 'PCI_BUS_ID'\n",
    "os.environ['CUDA_VISIBLE_DEVICES'] = str(bestGPU)\n",
    "\n",
    "'''\n",
    "#set memory usage to 0.5\n",
    "from keras.backend.tensorflow_backend import set_session\n",
    "import tensorflow as tf\n",
    "config = tf.ConfigProto()\n",
    "config.gpu_options.per_process_gpu_memory_fraction = 0.5\n",
    "set_session(tf.Session(config=config))'''"
   ]
  },
  {
   "cell_type": "code",
   "execution_count": 3,
   "metadata": {
    "colab": {
     "base_uri": "https://localhost:8080/",
     "height": 34
    },
    "colab_type": "code",
    "executionInfo": {
     "elapsed": 7754,
     "status": "ok",
     "timestamp": 1553629292171,
     "user": {
      "displayName": "Antoine Van Hoof",
      "photoUrl": "",
      "userId": "14540243825078360446"
     },
     "user_tz": -60
    },
    "id": "WqsDDrUyOQbM",
    "outputId": "3a0b30e9-8797-4d08-b497-2ecd3eec3c59",
    "scrolled": true
   },
   "outputs": [
    {
     "name": "stderr",
     "output_type": "stream",
     "text": [
      "Using TensorFlow backend.\n"
     ]
    }
   ],
   "source": [
    "#!pip install -q sklearn\n",
    "#!pip install --upgrade pip\n",
    "import collections\n",
    "import numpy as np, numpy\n",
    "from keract import get_activations, display_activations\n",
    "import keras\n",
    "from keras import backend as K\n",
    "from keras import optimizers, regularizers\n",
    "from keras.callbacks import LearningRateScheduler\n",
    "from keras.datasets import cifar10, cifar100 # we can use also cifar100\n",
    "from keras.layers import Input, BatchNormalization, AveragePooling2D, ZeroPadding2D, LeakyReLU, GlobalAveragePooling2D, Dense, Flatten, Activation, Dropout\n",
    "from keras.layers.convolutional import Conv2D, MaxPooling2D\n",
    "from keras.models import Sequential, load_model, Model\n",
    "from keras.regularizers import l2\n",
    "from keras.utils import plot_model, to_categorical\n",
    "from keras.utils.vis_utils import model_to_dot\n",
    "import matplotlib.pyplot as plt\n",
    "import scipy\n",
    "import sklearn\n",
    "import sklearn.metrics\n",
    "import sys\n",
    "#sys.executable\n",
    "#sys.path\n",
    "import time\n",
    "from IPython.display import SVG"
   ]
  },
  {
   "cell_type": "code",
   "execution_count": 4,
   "metadata": {
    "colab": {},
    "colab_type": "code",
    "id": "YbtqLzrROuSj",
    "scrolled": true
   },
   "outputs": [],
   "source": [
    "def normalize(x, mean, std):\n",
    "    # This function normalizes inputs for zero mean and unit variance to speed up learning.\n",
    "    \n",
    "    # In case std = 0, we add eps = 1e-7\n",
    "    eps = K.epsilon()\n",
    "    x = (x-mean)/(std+eps)\n",
    "    return x\n",
    "  \n",
    "def import_cifar(dataset):\n",
    "    if dataset == 10:\n",
    "        (x_train, y_train), (x_test, y_test) = cifar10.load_data()\n",
    "    elif dataset == 100:\n",
    "        (x_train, y_train), (x_test, y_test) = cifar100.load_data(label_mode='fine')\n",
    "\n",
    "    # By default, they are uint8 but we need them float to normalize them\n",
    "    x_train = x_train.astype('float32')\n",
    "    x_test = x_test.astype('float32')\n",
    "    \n",
    "    # Calculating the mean and standard deviation of the training data\n",
    "    mean = np.mean(x_train, axis=(0, 1, 2, 3))\n",
    "    std = np.std(x_train, axis=(0, 1, 2, 3))\n",
    "    \n",
    "    # Normalizing \n",
    "    x_train = normalize(x_train, mean, std)\n",
    "    x_test = normalize(x_test, mean, std)\n",
    "\n",
    "    y_train = to_categorical(y_train, num_classes=dataset)\n",
    "    y_test = to_categorical(y_test,  num_classes=dataset)\n",
    "    \n",
    "    return (x_train, y_train), (x_test, y_test)"
   ]
  },
  {
   "cell_type": "code",
   "execution_count": 5,
   "metadata": {
    "colab": {
     "base_uri": "https://localhost:8080/",
     "height": 51
    },
    "colab_type": "code",
    "executionInfo": {
     "elapsed": 254523,
     "status": "ok",
     "timestamp": 1553629538981,
     "user": {
      "displayName": "Antoine Van Hoof",
      "photoUrl": "",
      "userId": "14540243825078360446"
     },
     "user_tz": -60
    },
    "id": "WV_iymO6PAJP",
    "outputId": "c9f4bcdb-1ba5-4402-ac75-21cb49868b08",
    "scrolled": true
   },
   "outputs": [],
   "source": [
    "# LOAD DATABase\n",
    "num_classes = 10\n",
    "(x_train, y_train), (x_test, y_test) = import_cifar(num_classes)"
   ]
  },
  {
   "cell_type": "code",
   "execution_count": 6,
   "metadata": {
    "colab": {},
    "colab_type": "code",
    "id": "trCmD1WVQlEv",
    "scrolled": true
   },
   "outputs": [],
   "source": [
    "# Architecture taken from https://github.com/geifmany/cifar-vgg\n",
    "# Weight decay and Dropout have been removed\n",
    "# BatchNormalization before activations\n",
    "def VGG16_Vanilla_beta(input_shape, num_classes):\n",
    "    model = Sequential([\n",
    "        #0\n",
    "        Conv2D(64, (3, 3), padding='same', input_shape=input_shape),\n",
    "        BatchNormalization(scale=False, center=False),\n",
    "        Activation('relu'),\n",
    "        #3\n",
    "        Conv2D(64, (3, 3), padding='same'),\n",
    "        BatchNormalization(scale=False, center=False),\n",
    "        Activation('relu'),\n",
    "        MaxPooling2D(pool_size=(2, 2)),\n",
    "        #7\n",
    "        Conv2D(128, (3, 3), padding='same'),\n",
    "        BatchNormalization(scale=False, center=False),\n",
    "        Activation('relu'),\n",
    "        #10\n",
    "        Conv2D(128, (3, 3), padding='same'),\n",
    "        BatchNormalization(scale=False, center=False),\n",
    "        Activation('relu'),\n",
    "        MaxPooling2D(pool_size=(2, 2)),\n",
    "        #14\n",
    "        Conv2D(256, (3, 3), padding='same'),\n",
    "        BatchNormalization(scale=False, center=False),\n",
    "        Activation('relu'),\n",
    "        #17\n",
    "        Conv2D(256, (3, 3), padding='same'),\n",
    "        BatchNormalization(scale=False, center=False),\n",
    "        Activation('relu'),\n",
    "        #20\n",
    "        Conv2D(256, (3, 3), padding='same'),\n",
    "        BatchNormalization(scale=False, center=False),\n",
    "        Activation('relu'),\n",
    "        MaxPooling2D(pool_size=(2, 2)),\n",
    "        #24\n",
    "        Conv2D(512, (3, 3), padding='same'),\n",
    "        BatchNormalization(scale=False, center=False),\n",
    "        Activation('relu'),\n",
    "        #27\n",
    "        Conv2D(512, (3, 3), padding='same'),\n",
    "        BatchNormalization(scale=False, center=False),\n",
    "        Activation('relu'),\n",
    "        #30\n",
    "        Conv2D(512, (3, 3), padding='same'),\n",
    "        BatchNormalization(scale=False, center=False),\n",
    "        Activation('relu'),\n",
    "        MaxPooling2D(pool_size=(2, 2)),\n",
    "        #34\n",
    "        Conv2D(512, (3, 3), padding='same'),\n",
    "        BatchNormalization(scale=False, center=False),\n",
    "        Activation('relu'),\n",
    "        #37\n",
    "        Conv2D(512, (3, 3), padding='same'),\n",
    "        BatchNormalization(scale=False, center=False),\n",
    "        Activation('relu'),\n",
    "        #40\n",
    "        Conv2D(512, (3, 3), padding='same'),\n",
    "        BatchNormalization(scale=False, center=False),\n",
    "        Activation('relu'),\n",
    "        MaxPooling2D(pool_size=(2, 2)),\n",
    "        Flatten(),\n",
    "        #45\n",
    "        Dense(512),\n",
    "        BatchNormalization(scale=False, center=False),\n",
    "        Activation('relu'),\n",
    "        #48\n",
    "        Dense(num_classes),\n",
    "        BatchNormalization(scale=False, center=False),\n",
    "        Activation('softmax')])\n",
    "    return model"
   ]
  },
  {
   "cell_type": "code",
   "execution_count": 7,
   "metadata": {
    "colab": {},
    "colab_type": "code",
    "id": "1szIgmkzRF0u",
    "scrolled": true
   },
   "outputs": [],
   "source": [
    "List_of_Pré_Activations = ['conv2d_1/BiasAdd:0','conv2d_2/BiasAdd:0','max_pooling2d_1/MaxPool:0','conv2d_3/BiasAdd:0', 'conv2d_4/BiasAdd:0','max_pooling2d_2/MaxPool:0','conv2d_5/BiasAdd:0', 'conv2d_6/BiasAdd:0','conv2d_7/BiasAdd:0', 'max_pooling2d_3/MaxPool:0','conv2d_8/BiasAdd:0', 'conv2d_9/BiasAdd:0','conv2d_10/BiasAdd:0', 'max_pooling2d_4/MaxPool:0','conv2d_11/BiasAdd:0', 'conv2d_12/BiasAdd:0','conv2d_13/BiasAdd:0', 'max_pooling2d_5/MaxPool:0','dense_1/BiasAdd:0', 'dense_2/BiasAdd:0']\n",
    "List_of_Post_Activations = [    'activation_1/Relu:0','activation_2/Relu:0',    'activation_3/Relu:0','activation_4/Relu:0',    'activation_5/Relu:0','activation_6/Relu:0',    'activation_7/Relu:0','activation_8/Relu:0',    'activation_9/Relu:0','activation_10/Relu:0',    'activation_11/Relu:0','activation_12/Relu:0',    'activation_13/Relu:0','activation_14/Relu:0',    'activation_15/Softmax:0']"
   ]
  },
  {
   "cell_type": "code",
   "execution_count": 8,
   "metadata": {
    "colab": {},
    "colab_type": "code",
    "id": "Vn5JZTbvRNRQ",
    "scrolled": true
   },
   "outputs": [],
   "source": [
    "def PATH(IM, nameOfTheLayer):\n",
    "    #count the number of pathologic neurons\n",
    "    pathologicCount_0 = 0\n",
    "    pathologicCount_1 = 0\n",
    "    \n",
    "    numNeurons = numpy.size(IM[nameOfTheLayer][0])\n",
    "    #print('numNeurons : ', str(numNeurons)) # 65536 neurones\n",
    "    #print('nombreDImagesDActivation : ', str(nombreDImagesDActivation)) # 100 images d'activations\n",
    "    \n",
    "    MatrixActivation = np.zeros((numNeurons,nombreDImagesDActivation))\n",
    "    \n",
    "    indexActi = -1\n",
    "    for activation in IM[nameOfTheLayer]:   # on a les activations pour de la couche\n",
    "        \n",
    "        indexActi = indexActi + 1\n",
    "        \n",
    "        #print(len(activation)) # image_X\n",
    "        #print(len(activation[0])) # image_Y\n",
    "        #print(len(activation[0][0])) # les 64 filtres de la couche convolutive\n",
    "        activation = activation.flatten() # on a tous nos neurones sur un seul vecteur\n",
    "        \n",
    "        for i in range(numNeurons):\n",
    "            MatrixActivation[i,indexActi] = activation[i]\n",
    "\n",
    "    #on normalise les activations\n",
    "    MatrixActivation_normed = MatrixActivation / MatrixActivation.max(axis=0)\n",
    "    \n",
    "    #print(len(MatrixActivation_normed[:,0])) #nombre de neurones\n",
    "    #print(len(MatrixActivation_normed[0,:])) # nombre d'activation\n",
    "    \n",
    "    for j in range(numNeurons):\n",
    "        if all([ v == 0 for v in MatrixActivation_normed[j,:] ]):\n",
    "            pathologicCount_0 = pathologicCount_0 + 1\n",
    "        elif all([ v == 1 for v in MatrixActivation_normed[j,:] ]):\n",
    "            pathologicCount_1 = pathologicCount_1 + 1\n",
    "\n",
    "    return pathologicCount_0, pathologicCount_1, numNeurons\n"
   ]
  },
  {
   "cell_type": "code",
   "execution_count": 9,
   "metadata": {
    "scrolled": true
   },
   "outputs": [],
   "source": [
    "def RUN(IM, modelename):\n",
    "    # initialization of variables for the plot of the pathologic count\n",
    "    PRatio_0 = []\n",
    "    PRatio_1 = []\n",
    "    print('number of images used for see the activations : '+str(nombreDImagesDActivation) + '\\n')\n",
    "\n",
    "    print('\\n Model  :\\n')\n",
    "    for layer in List_of_Post_Activations:\n",
    "        #nom de la couche\n",
    "        print('couche :', str(layer))\n",
    "        pathologicCount_0, pathologicCount_1, numNeurons = PATH(IM, layer)\n",
    "        PRatio_0.append(pathologicCount_0/numNeurons)\n",
    "        PRatio_1.append(pathologicCount_1/numNeurons)\n",
    "        print('  pathologic count: ', str((pathologicCount_0+pathologicCount_1)),' on ',str(numNeurons), ' = ', str((pathologicCount_0+pathologicCount_1)/numNeurons*100), '%')\n",
    "        \n",
    "    # plot:\n",
    "    plt.rcParams.update({'font.size': 20})\n",
    "    fig = plt.figure(figsize=(10, 5))\n",
    "    plt.ylim(top=0.35)\n",
    "    nombreCouches = len(PRatio_0)\n",
    "    x = range(nombreCouches)\n",
    "\n",
    "    markerline, stemlines, baseline = plt.stem(x, PRatio_0, markerfmt='o', label='0 ')\n",
    "    plt.setp(stemlines, 'color', plt.getp(markerline,'color'))\n",
    "    plt.setp(stemlines, 'linestyle', 'dotted')\n",
    "\n",
    "    markerline, stemlines, baseline = plt.stem(x, PRatio_1, markerfmt='o', label='1 ')\n",
    "    plt.setp(stemlines, 'color', plt.getp(markerline,'color'))\n",
    "    plt.setp(stemlines, 'linestyle', 'dotted')\n",
    "\n",
    "    line0 = plt.plot(np.mean(PRatio_0)*np.ones((nombreCouches,1)))\n",
    "    line1 = plt.plot(np.mean(PRatio_1)*np.ones((nombreCouches,1)))\n",
    "\n",
    "    #plt.legend()\n",
    "    #plt.xlabel('Layers')\n",
    "    plt.xticks(np.arange(nombreCouches), ('Conv 1','Conv 2','Conv 3','Conv 4','Conv 5','Conv 6','Conv 7','Conv 8','Conv 9','Conv10','Conv11','Conv12','Conv13','Dense1','Dense2'), rotation=60)\n",
    "    #plt.ylabel('Ratio')\n",
    "    plt.grid()\n",
    "    #plt.title('Ratio of pathological neurons by layer for the model '+modelename+'\\n for '+str(nombreDImagesDActivation)+' activation images\\n')\n",
    "    plt.show()\n",
    "    fig.savefig('figures/Pathologic/Pathologic_{}.png'.format(modelename), dpi=100)"
   ]
  },
  {
   "cell_type": "code",
   "execution_count": 10,
   "metadata": {
    "colab": {},
    "colab_type": "code",
    "id": "LsLzcboWRRLq",
    "scrolled": false
   },
   "outputs": [
    {
     "name": "stdout",
     "output_type": "stream",
     "text": [
      "_________________________________________________________________\n",
      "Layer (type)                 Output Shape              Param #   \n",
      "=================================================================\n",
      "conv2d_1 (Conv2D)            (None, 32, 32, 64)        1792      \n",
      "_________________________________________________________________\n",
      "batch_normalization_1 (Batch (None, 32, 32, 64)        128       \n",
      "_________________________________________________________________\n",
      "activation_1 (Activation)    (None, 32, 32, 64)        0         \n",
      "_________________________________________________________________\n",
      "conv2d_2 (Conv2D)            (None, 32, 32, 64)        36928     \n",
      "_________________________________________________________________\n",
      "batch_normalization_2 (Batch (None, 32, 32, 64)        128       \n",
      "_________________________________________________________________\n",
      "activation_2 (Activation)    (None, 32, 32, 64)        0         \n",
      "_________________________________________________________________\n",
      "max_pooling2d_1 (MaxPooling2 (None, 16, 16, 64)        0         \n",
      "_________________________________________________________________\n",
      "conv2d_3 (Conv2D)            (None, 16, 16, 128)       73856     \n",
      "_________________________________________________________________\n",
      "batch_normalization_3 (Batch (None, 16, 16, 128)       256       \n",
      "_________________________________________________________________\n",
      "activation_3 (Activation)    (None, 16, 16, 128)       0         \n",
      "_________________________________________________________________\n",
      "conv2d_4 (Conv2D)            (None, 16, 16, 128)       147584    \n",
      "_________________________________________________________________\n",
      "batch_normalization_4 (Batch (None, 16, 16, 128)       256       \n",
      "_________________________________________________________________\n",
      "activation_4 (Activation)    (None, 16, 16, 128)       0         \n",
      "_________________________________________________________________\n",
      "max_pooling2d_2 (MaxPooling2 (None, 8, 8, 128)         0         \n",
      "_________________________________________________________________\n",
      "conv2d_5 (Conv2D)            (None, 8, 8, 256)         295168    \n",
      "_________________________________________________________________\n",
      "batch_normalization_5 (Batch (None, 8, 8, 256)         512       \n",
      "_________________________________________________________________\n",
      "activation_5 (Activation)    (None, 8, 8, 256)         0         \n",
      "_________________________________________________________________\n",
      "conv2d_6 (Conv2D)            (None, 8, 8, 256)         590080    \n",
      "_________________________________________________________________\n",
      "batch_normalization_6 (Batch (None, 8, 8, 256)         512       \n",
      "_________________________________________________________________\n",
      "activation_6 (Activation)    (None, 8, 8, 256)         0         \n",
      "_________________________________________________________________\n",
      "conv2d_7 (Conv2D)            (None, 8, 8, 256)         590080    \n",
      "_________________________________________________________________\n",
      "batch_normalization_7 (Batch (None, 8, 8, 256)         512       \n",
      "_________________________________________________________________\n",
      "activation_7 (Activation)    (None, 8, 8, 256)         0         \n",
      "_________________________________________________________________\n",
      "max_pooling2d_3 (MaxPooling2 (None, 4, 4, 256)         0         \n",
      "_________________________________________________________________\n",
      "conv2d_8 (Conv2D)            (None, 4, 4, 512)         1180160   \n",
      "_________________________________________________________________\n",
      "batch_normalization_8 (Batch (None, 4, 4, 512)         1024      \n",
      "_________________________________________________________________\n",
      "activation_8 (Activation)    (None, 4, 4, 512)         0         \n",
      "_________________________________________________________________\n",
      "conv2d_9 (Conv2D)            (None, 4, 4, 512)         2359808   \n",
      "_________________________________________________________________\n",
      "batch_normalization_9 (Batch (None, 4, 4, 512)         1024      \n",
      "_________________________________________________________________\n",
      "activation_9 (Activation)    (None, 4, 4, 512)         0         \n",
      "_________________________________________________________________\n",
      "conv2d_10 (Conv2D)           (None, 4, 4, 512)         2359808   \n",
      "_________________________________________________________________\n",
      "batch_normalization_10 (Batc (None, 4, 4, 512)         1024      \n",
      "_________________________________________________________________\n",
      "activation_10 (Activation)   (None, 4, 4, 512)         0         \n",
      "_________________________________________________________________\n",
      "max_pooling2d_4 (MaxPooling2 (None, 2, 2, 512)         0         \n",
      "_________________________________________________________________\n",
      "conv2d_11 (Conv2D)           (None, 2, 2, 512)         2359808   \n",
      "_________________________________________________________________\n",
      "batch_normalization_11 (Batc (None, 2, 2, 512)         1024      \n",
      "_________________________________________________________________\n",
      "activation_11 (Activation)   (None, 2, 2, 512)         0         \n",
      "_________________________________________________________________\n",
      "conv2d_12 (Conv2D)           (None, 2, 2, 512)         2359808   \n",
      "_________________________________________________________________\n",
      "batch_normalization_12 (Batc (None, 2, 2, 512)         1024      \n",
      "_________________________________________________________________\n",
      "activation_12 (Activation)   (None, 2, 2, 512)         0         \n",
      "_________________________________________________________________\n",
      "conv2d_13 (Conv2D)           (None, 2, 2, 512)         2359808   \n",
      "_________________________________________________________________\n",
      "batch_normalization_13 (Batc (None, 2, 2, 512)         1024      \n",
      "_________________________________________________________________\n",
      "activation_13 (Activation)   (None, 2, 2, 512)         0         \n",
      "_________________________________________________________________\n",
      "max_pooling2d_5 (MaxPooling2 (None, 1, 1, 512)         0         \n",
      "_________________________________________________________________\n",
      "flatten_1 (Flatten)          (None, 512)               0         \n",
      "_________________________________________________________________\n",
      "dense_1 (Dense)              (None, 512)               262656    \n",
      "_________________________________________________________________\n",
      "batch_normalization_14 (Batc (None, 512)               1024      \n",
      "_________________________________________________________________\n",
      "activation_14 (Activation)   (None, 512)               0         \n",
      "_________________________________________________________________\n",
      "dense_2 (Dense)              (None, 10)                5130      \n",
      "_________________________________________________________________\n",
      "batch_normalization_15 (Batc (None, 10)                20        \n",
      "_________________________________________________________________\n",
      "activation_15 (Activation)   (None, 10)                0         \n",
      "=================================================================\n",
      "Total params: 14,991,966\n",
      "Trainable params: 14,982,474\n",
      "Non-trainable params: 9,492\n",
      "_________________________________________________________________\n"
     ]
    }
   ],
   "source": [
    "# LOAD the model and get the activations\n",
    "modelename = 'vgg16_wdecay_0'\n",
    "model_name = '../weights/6/{}/initial/weights-initial.hdf5'.format(modelename) #final / initial ! attention au nom de sauvegarde !\n",
    "modelename = 'initial'\n",
    "model = VGG16_Vanilla_beta(input_shape=(32,32,3), num_classes=10)\n",
    "model.load_weights('{}'.format(model_name))\n",
    "sgd = optimizers.SGD(lr=0.002, momentum=0.9, nesterov=True)\n",
    "model.compile(loss='categorical_crossentropy', optimizer=sgd, metrics=['accuracy'])\n",
    "# On regarde l'activation des pairs de neurones pour un echantillon test pris au hasard\n",
    "Echantillon = []\n",
    "nombreDImagesDActivation = 1000\n",
    "NombrePairs = 10000\n",
    "choix = np.random.choice(x_test.shape[0], nombreDImagesDActivation)\n",
    "Echantillon = x_train[choix, :, : , :]\n",
    "IM = get_activations(model, Echantillon)# on affiche les noms des differentes couches\n",
    "# on affiche les noms des differentes couches\n",
    "#print(IM.keys())\n",
    "#model.summary()\n",
    "# Run the code\n",
    "RUN(IM, modelename)"
   ]
  },
  {
   "cell_type": "code",
   "execution_count": 11,
   "metadata": {
    "colab": {},
    "colab_type": "code",
    "id": "VMNuvQqwRTHn",
    "scrolled": true
   },
   "outputs": [
    {
     "name": "stdout",
     "output_type": "stream",
     "text": [
      "number of images used for see the activations : 1000\n",
      "\n",
      "\n",
      " Model  :\n",
      "\n",
      "couche : activation_1/Relu:0\n",
      "  pathologic count:  0  on  65536  =  0.0 %\n",
      "couche : activation_2/Relu:0\n",
      "  pathologic count:  0  on  65536  =  0.0 %\n",
      "couche : activation_3/Relu:0\n",
      "  pathologic count:  2  on  32768  =  0.006103515625 %\n",
      "couche : activation_4/Relu:0\n",
      "  pathologic count:  0  on  32768  =  0.0 %\n",
      "couche : activation_5/Relu:0\n",
      "  pathologic count:  9  on  16384  =  0.054931640625 %\n",
      "couche : activation_6/Relu:0\n",
      "  pathologic count:  0  on  16384  =  0.0 %\n",
      "couche : activation_7/Relu:0\n",
      "  pathologic count:  1  on  16384  =  0.006103515625 %\n",
      "couche : activation_8/Relu:0\n",
      "  pathologic count:  9  on  8192  =  0.10986328125 %\n",
      "couche : activation_9/Relu:0\n",
      "  pathologic count:  4  on  8192  =  0.048828125 %\n",
      "couche : activation_10/Relu:0\n",
      "  pathologic count:  2  on  8192  =  0.0244140625 %\n",
      "couche : activation_11/Relu:0\n",
      "  pathologic count:  33  on  2048  =  1.611328125 %\n",
      "couche : activation_12/Relu:0\n",
      "  pathologic count:  56  on  2048  =  2.734375 %\n",
      "couche : activation_13/Relu:0\n",
      "  pathologic count:  90  on  2048  =  4.39453125 %\n",
      "couche : activation_14/Relu:0\n",
      "  pathologic count:  0  on  512  =  0.0 %\n",
      "couche : activation_15/Softmax:0\n",
      "  pathologic count:  0  on  10  =  0.0 %\n"
     ]
    },
    {
     "data": {
      "image/png": "[encoded data removed]",
      "text/plain": [
       "<Figure size 720x360 with 1 Axes>"
      ]
     },
     "metadata": {
      "needs_background": "light"
     },
     "output_type": "display_data"
    }
   ],
   "source": [
    "modelename = 'vgg16_layca_0'\n",
    "model_name = '../weights/6/{}/final/weights-final.hdf5'.format(modelename)\n",
    "model.load_weights('{}'.format(model_name))\n",
    "model.compile(loss='categorical_crossentropy', optimizer=sgd, metrics=['accuracy'])\n",
    "IM = get_activations(model, Echantillon)\n",
    "# Run the code\n",
    "RUN(IM, modelename)"
   ]
  },
  {
   "cell_type": "code",
   "execution_count": 12,
   "metadata": {
    "scrolled": true
   },
   "outputs": [
    {
     "name": "stdout",
     "output_type": "stream",
     "text": [
      "number of images used for see the activations : 1000\n",
      "\n",
      "\n",
      " Model  :\n",
      "\n",
      "couche : activation_1/Relu:0\n",
      "  pathologic count:  0  on  65536  =  0.0 %\n",
      "couche : activation_2/Relu:0\n",
      "  pathologic count:  0  on  65536  =  0.0 %\n",
      "couche : activation_3/Relu:0\n",
      "  pathologic count:  0  on  32768  =  0.0 %\n",
      "couche : activation_4/Relu:0\n",
      "  pathologic count:  0  on  32768  =  0.0 %\n",
      "couche : activation_5/Relu:0\n",
      "  pathologic count:  6  on  16384  =  0.03662109375 %\n",
      "couche : activation_6/Relu:0\n",
      "  pathologic count:  0  on  16384  =  0.0 %\n",
      "couche : activation_7/Relu:0\n",
      "  pathologic count:  2  on  16384  =  0.01220703125 %\n",
      "couche : activation_8/Relu:0\n",
      "  pathologic count:  6  on  8192  =  0.0732421875 %\n",
      "couche : activation_9/Relu:0\n",
      "  pathologic count:  1  on  8192  =  0.01220703125 %\n",
      "couche : activation_10/Relu:0\n",
      "  pathologic count:  2  on  8192  =  0.0244140625 %\n",
      "couche : activation_11/Relu:0\n",
      "  pathologic count:  50  on  2048  =  2.44140625 %\n",
      "couche : activation_12/Relu:0\n",
      "  pathologic count:  53  on  2048  =  2.587890625 %\n",
      "couche : activation_13/Relu:0\n",
      "  pathologic count:  146  on  2048  =  7.12890625 %\n",
      "couche : activation_14/Relu:0\n",
      "  pathologic count:  0  on  512  =  0.0 %\n",
      "couche : activation_15/Softmax:0\n",
      "  pathologic count:  0  on  10  =  0.0 %\n"
     ]
    },
    {
     "data": {
      "image/png": "[encoded data removed]",
      "text/plain": [
       "<Figure size 720x360 with 1 Axes>"
      ]
     },
     "metadata": {
      "needs_background": "light"
     },
     "output_type": "display_data"
    }
   ],
   "source": [
    "modelename = 'vgg16_layca_1'\n",
    "model_name = '../weights/6/{}/final/weights-final.hdf5'.format(modelename)\n",
    "model.load_weights('{}'.format(model_name))\n",
    "model.compile(loss='categorical_crossentropy', optimizer=sgd, metrics=['accuracy'])\n",
    "IM = get_activations(model, Echantillon)\n",
    "# Run the code\n",
    "RUN(IM, modelename)"
   ]
  },
  {
   "cell_type": "code",
   "execution_count": 13,
   "metadata": {
    "scrolled": true
   },
   "outputs": [
    {
     "name": "stdout",
     "output_type": "stream",
     "text": [
      "number of images used for see the activations : 1000\n",
      "\n",
      "\n",
      " Model  :\n",
      "\n",
      "couche : activation_1/Relu:0\n",
      "  pathologic count:  0  on  65536  =  0.0 %\n",
      "couche : activation_2/Relu:0\n",
      "  pathologic count:  0  on  65536  =  0.0 %\n",
      "couche : activation_3/Relu:0\n",
      "  pathologic count:  10  on  32768  =  0.030517578125 %\n",
      "couche : activation_4/Relu:0\n",
      "  pathologic count:  0  on  32768  =  0.0 %\n",
      "couche : activation_5/Relu:0\n",
      "  pathologic count:  0  on  16384  =  0.0 %\n",
      "couche : activation_6/Relu:0\n",
      "  pathologic count:  0  on  16384  =  0.0 %\n",
      "couche : activation_7/Relu:0\n",
      "  pathologic count:  0  on  16384  =  0.0 %\n",
      "couche : activation_8/Relu:0\n",
      "  pathologic count:  7  on  8192  =  0.08544921875 %\n",
      "couche : activation_9/Relu:0\n",
      "  pathologic count:  0  on  8192  =  0.0 %\n",
      "couche : activation_10/Relu:0\n",
      "  pathologic count:  0  on  8192  =  0.0 %\n",
      "couche : activation_11/Relu:0\n",
      "  pathologic count:  5  on  2048  =  0.244140625 %\n",
      "couche : activation_12/Relu:0\n",
      "  pathologic count:  0  on  2048  =  0.0 %\n",
      "couche : activation_13/Relu:0\n",
      "  pathologic count:  55  on  2048  =  2.685546875 %\n",
      "couche : activation_14/Relu:0\n",
      "  pathologic count:  0  on  512  =  0.0 %\n",
      "couche : activation_15/Softmax:0\n",
      "  pathologic count:  0  on  10  =  0.0 %\n"
     ]
    },
    {
     "data": {
      "image/png": "[encoded data removed]",
      "text/plain": [
       "<Figure size 720x360 with 1 Axes>"
      ]
     },
     "metadata": {
      "needs_background": "light"
     },
     "output_type": "display_data"
    }
   ],
   "source": [
    "modelename = 'vgg16_layca_2'\n",
    "model_name = '../weights/6/{}/final/weights-final.hdf5'.format(modelename)\n",
    "model.load_weights('{}'.format(model_name))\n",
    "model.compile(loss='categorical_crossentropy', optimizer=sgd, metrics=['accuracy'])\n",
    "IM = get_activations(model, Echantillon)\n",
    "# Run the code\n",
    "RUN(IM, modelename)"
   ]
  },
  {
   "cell_type": "code",
   "execution_count": 14,
   "metadata": {
    "scrolled": true
   },
   "outputs": [
    {
     "name": "stdout",
     "output_type": "stream",
     "text": [
      "number of images used for see the activations : 1000\n",
      "\n",
      "\n",
      " Model  :\n",
      "\n",
      "couche : activation_1/Relu:0\n",
      "  pathologic count:  0  on  65536  =  0.0 %\n",
      "couche : activation_2/Relu:0\n",
      "  pathologic count:  1  on  65536  =  0.00152587890625 %\n",
      "couche : activation_3/Relu:0\n",
      "  pathologic count:  4  on  32768  =  0.01220703125 %\n",
      "couche : activation_4/Relu:0\n",
      "  pathologic count:  1  on  32768  =  0.0030517578125 %\n",
      "couche : activation_5/Relu:0\n",
      "  pathologic count:  9  on  16384  =  0.054931640625 %\n",
      "couche : activation_6/Relu:0\n",
      "  pathologic count:  3  on  16384  =  0.018310546875 %\n",
      "couche : activation_7/Relu:0\n",
      "  pathologic count:  3  on  16384  =  0.018310546875 %\n",
      "couche : activation_8/Relu:0\n",
      "  pathologic count:  10  on  8192  =  0.1220703125 %\n",
      "couche : activation_9/Relu:0\n",
      "  pathologic count:  10  on  8192  =  0.1220703125 %\n",
      "couche : activation_10/Relu:0\n",
      "  pathologic count:  6  on  8192  =  0.0732421875 %\n",
      "couche : activation_11/Relu:0\n",
      "  pathologic count:  39  on  2048  =  1.904296875 %\n",
      "couche : activation_12/Relu:0\n",
      "  pathologic count:  34  on  2048  =  1.66015625 %\n",
      "couche : activation_13/Relu:0\n",
      "  pathologic count:  52  on  2048  =  2.5390625 %\n",
      "couche : activation_14/Relu:0\n",
      "  pathologic count:  0  on  512  =  0.0 %\n",
      "couche : activation_15/Softmax:0\n",
      "  pathologic count:  0  on  10  =  0.0 %\n"
     ]
    },
    {
     "data": {
      "image/png": "[encoded data removed]",
      "text/plain": [
       "<Figure size 720x360 with 1 Axes>"
      ]
     },
     "metadata": {
      "needs_background": "light"
     },
     "output_type": "display_data"
    }
   ],
   "source": [
    "modelename = 'vgg16_sgd_0'\n",
    "model_name = '../weights/6/{}/final/weights-final.hdf5'.format(modelename)\n",
    "model.load_weights('{}'.format(model_name))\n",
    "model.compile(loss='categorical_crossentropy', optimizer=sgd, metrics=['accuracy'])\n",
    "IM = get_activations(model, Echantillon)\n",
    "# Run the code\n",
    "RUN(IM, modelename)"
   ]
  },
  {
   "cell_type": "code",
   "execution_count": 15,
   "metadata": {
    "scrolled": true
   },
   "outputs": [
    {
     "name": "stdout",
     "output_type": "stream",
     "text": [
      "number of images used for see the activations : 1000\n",
      "\n",
      "\n",
      " Model  :\n",
      "\n",
      "couche : activation_1/Relu:0\n",
      "  pathologic count:  0  on  65536  =  0.0 %\n",
      "couche : activation_2/Relu:0\n",
      "  pathologic count:  0  on  65536  =  0.0 %\n",
      "couche : activation_3/Relu:0\n",
      "  pathologic count:  1  on  32768  =  0.0030517578125 %\n",
      "couche : activation_4/Relu:0\n",
      "  pathologic count:  0  on  32768  =  0.0 %\n",
      "couche : activation_5/Relu:0\n",
      "  pathologic count:  5  on  16384  =  0.030517578125 %\n",
      "couche : activation_6/Relu:0\n",
      "  pathologic count:  0  on  16384  =  0.0 %\n",
      "couche : activation_7/Relu:0\n",
      "  pathologic count:  2  on  16384  =  0.01220703125 %\n",
      "couche : activation_8/Relu:0\n",
      "  pathologic count:  13  on  8192  =  0.15869140625 %\n",
      "couche : activation_9/Relu:0\n",
      "  pathologic count:  6  on  8192  =  0.0732421875 %\n",
      "couche : activation_10/Relu:0\n",
      "  pathologic count:  22  on  8192  =  0.2685546875 %\n",
      "couche : activation_11/Relu:0\n",
      "  pathologic count:  165  on  2048  =  8.056640625 %\n",
      "couche : activation_12/Relu:0\n",
      "  pathologic count:  233  on  2048  =  11.376953125 %\n",
      "couche : activation_13/Relu:0\n",
      "  pathologic count:  264  on  2048  =  12.890625 %\n",
      "couche : activation_14/Relu:0\n",
      "  pathologic count:  0  on  512  =  0.0 %\n",
      "couche : activation_15/Softmax:0\n",
      "  pathologic count:  0  on  10  =  0.0 %\n"
     ]
    },
    {
     "data": {
      "image/png": "[encoded data removed]",
      "text/plain": [
       "<Figure size 720x360 with 1 Axes>"
      ]
     },
     "metadata": {
      "needs_background": "light"
     },
     "output_type": "display_data"
    }
   ],
   "source": [
    "modelename = 'vgg16_sgd_1'\n",
    "model_name = '../weights/6/{}/final/weights-final.hdf5'.format(modelename)\n",
    "model.load_weights('{}'.format(model_name))\n",
    "model.compile(loss='categorical_crossentropy', optimizer=sgd, metrics=['accuracy'])\n",
    "IM = get_activations(model, Echantillon)\n",
    "# Run the code\n",
    "RUN(IM, modelename)"
   ]
  },
  {
   "cell_type": "code",
   "execution_count": 16,
   "metadata": {
    "scrolled": true
   },
   "outputs": [
    {
     "name": "stdout",
     "output_type": "stream",
     "text": [
      "number of images used for see the activations : 1000\n",
      "\n",
      "\n",
      " Model  :\n",
      "\n",
      "couche : activation_1/Relu:0\n",
      "  pathologic count:  0  on  65536  =  0.0 %\n",
      "couche : activation_2/Relu:0\n",
      "  pathologic count:  6  on  65536  =  0.0091552734375 %\n",
      "couche : activation_3/Relu:0\n",
      "  pathologic count:  17  on  32768  =  0.0518798828125 %\n",
      "couche : activation_4/Relu:0\n",
      "  pathologic count:  1  on  32768  =  0.0030517578125 %\n",
      "couche : activation_5/Relu:0\n",
      "  pathologic count:  161  on  16384  =  0.982666015625 %\n",
      "couche : activation_6/Relu:0\n",
      "  pathologic count:  40  on  16384  =  0.244140625 %\n",
      "couche : activation_7/Relu:0\n",
      "  pathologic count:  40  on  16384  =  0.244140625 %\n",
      "couche : activation_8/Relu:0\n",
      "  pathologic count:  964  on  8192  =  11.767578125 %\n",
      "couche : activation_9/Relu:0\n",
      "  pathologic count:  755  on  8192  =  9.21630859375 %\n",
      "couche : activation_10/Relu:0\n",
      "  pathologic count:  552  on  8192  =  6.73828125 %\n",
      "couche : activation_11/Relu:0\n",
      "  pathologic count:  612  on  2048  =  29.8828125 %\n",
      "couche : activation_12/Relu:0\n",
      "  pathologic count:  695  on  2048  =  33.935546875 %\n",
      "couche : activation_13/Relu:0\n",
      "  pathologic count:  703  on  2048  =  34.326171875 %\n",
      "couche : activation_14/Relu:0\n",
      "  pathologic count:  0  on  512  =  0.0 %\n",
      "couche : activation_15/Softmax:0\n",
      "  pathologic count:  0  on  10  =  0.0 %\n"
     ]
    },
    {
     "data": {
      "image/png": "[encoded data removed]",
      "text/plain": [
       "<Figure size 720x360 with 1 Axes>"
      ]
     },
     "metadata": {
      "needs_background": "light"
     },
     "output_type": "display_data"
    }
   ],
   "source": [
    "modelename = 'vgg16_sgd_2'\n",
    "model_name = '../weights/6/{}/final/weights-final.hdf5'.format(modelename)\n",
    "model.load_weights('{}'.format(model_name))\n",
    "model.compile(loss='categorical_crossentropy', optimizer=sgd, metrics=['accuracy'])\n",
    "IM = get_activations(model, Echantillon)\n",
    "# Run the code\n",
    "RUN(IM, modelename)"
   ]
  },
  {
   "cell_type": "code",
   "execution_count": 17,
   "metadata": {
    "scrolled": true
   },
   "outputs": [
    {
     "name": "stdout",
     "output_type": "stream",
     "text": [
      "number of images used for see the activations : 1000\n",
      "\n",
      "\n",
      " Model  :\n",
      "\n",
      "couche : activation_1/Relu:0\n",
      "  pathologic count:  0  on  65536  =  0.0 %\n",
      "couche : activation_2/Relu:0\n",
      "  pathologic count:  1  on  65536  =  0.00152587890625 %\n",
      "couche : activation_3/Relu:0\n",
      "  pathologic count:  2  on  32768  =  0.006103515625 %\n",
      "couche : activation_4/Relu:0\n",
      "  pathologic count:  0  on  32768  =  0.0 %\n",
      "couche : activation_5/Relu:0\n",
      "  pathologic count:  6  on  16384  =  0.03662109375 %\n",
      "couche : activation_6/Relu:0\n",
      "  pathologic count:  1  on  16384  =  0.006103515625 %\n",
      "couche : activation_7/Relu:0\n",
      "  pathologic count:  6  on  16384  =  0.03662109375 %\n",
      "couche : activation_8/Relu:0\n",
      "  pathologic count:  5  on  8192  =  0.06103515625 %\n",
      "couche : activation_9/Relu:0\n",
      "  pathologic count:  4  on  8192  =  0.048828125 %\n",
      "couche : activation_10/Relu:0\n",
      "  pathologic count:  7  on  8192  =  0.08544921875 %\n",
      "couche : activation_11/Relu:0\n",
      "  pathologic count:  37  on  2048  =  1.806640625 %\n",
      "couche : activation_12/Relu:0\n",
      "  pathologic count:  49  on  2048  =  2.392578125 %\n",
      "couche : activation_13/Relu:0\n",
      "  pathologic count:  60  on  2048  =  2.9296875 %\n",
      "couche : activation_14/Relu:0\n",
      "  pathologic count:  0  on  512  =  0.0 %\n",
      "couche : activation_15/Softmax:0\n",
      "  pathologic count:  0  on  10  =  0.0 %\n"
     ]
    },
    {
     "data": {
      "image/png": "[encoded data removed]",
      "text/plain": [
       "<Figure size 720x360 with 1 Axes>"
      ]
     },
     "metadata": {
      "needs_background": "light"
     },
     "output_type": "display_data"
    }
   ],
   "source": [
    "modelename = 'vgg16_wdecay_0'\n",
    "model_name = '../weights/6/{}/final/weights-final.hdf5'.format(modelename)\n",
    "model.load_weights('{}'.format(model_name))\n",
    "model.compile(loss='categorical_crossentropy', optimizer=sgd, metrics=['accuracy'])\n",
    "IM = get_activations(model, Echantillon)\n",
    "# Run the code\n",
    "RUN(IM, modelename)"
   ]
  },
  {
   "cell_type": "code",
   "execution_count": 18,
   "metadata": {
    "scrolled": true
   },
   "outputs": [
    {
     "name": "stdout",
     "output_type": "stream",
     "text": [
      "number of images used for see the activations : 1000\n",
      "\n",
      "\n",
      " Model  :\n",
      "\n",
      "couche : activation_1/Relu:0\n",
      "  pathologic count:  0  on  65536  =  0.0 %\n",
      "couche : activation_2/Relu:0\n",
      "  pathologic count:  2  on  65536  =  0.0030517578125 %\n",
      "couche : activation_3/Relu:0\n",
      "  pathologic count:  3  on  32768  =  0.0091552734375 %\n",
      "couche : activation_4/Relu:0\n",
      "  pathologic count:  0  on  32768  =  0.0 %\n",
      "couche : activation_5/Relu:0\n",
      "  pathologic count:  4  on  16384  =  0.0244140625 %\n",
      "couche : activation_6/Relu:0\n",
      "  pathologic count:  4  on  16384  =  0.0244140625 %\n",
      "couche : activation_7/Relu:0\n",
      "  pathologic count:  3  on  16384  =  0.018310546875 %\n",
      "couche : activation_8/Relu:0\n",
      "  pathologic count:  4  on  8192  =  0.048828125 %\n",
      "couche : activation_9/Relu:0\n",
      "  pathologic count:  6  on  8192  =  0.0732421875 %\n",
      "couche : activation_10/Relu:0\n",
      "  pathologic count:  14  on  8192  =  0.1708984375 %\n",
      "couche : activation_11/Relu:0\n",
      "  pathologic count:  131  on  2048  =  6.396484375 %\n",
      "couche : activation_12/Relu:0\n",
      "  pathologic count:  214  on  2048  =  10.44921875 %\n",
      "couche : activation_13/Relu:0\n",
      "  pathologic count:  257  on  2048  =  12.548828125 %\n",
      "couche : activation_14/Relu:0\n",
      "  pathologic count:  0  on  512  =  0.0 %\n",
      "couche : activation_15/Softmax:0\n",
      "  pathologic count:  0  on  10  =  0.0 %\n"
     ]
    },
    {
     "data": {
      "image/png": "[encoded data removed]",
      "text/plain": [
       "<Figure size 720x360 with 1 Axes>"
      ]
     },
     "metadata": {
      "needs_background": "light"
     },
     "output_type": "display_data"
    }
   ],
   "source": [
    "modelename = 'vgg16_wdecay_1'\n",
    "model_name = '../weights/6/{}/final/weights-final.hdf5'.format(modelename)\n",
    "model.load_weights('{}'.format(model_name))\n",
    "model.compile(loss='categorical_crossentropy', optimizer=sgd, metrics=['accuracy'])\n",
    "IM = get_activations(model, Echantillon)\n",
    "# Run the code\n",
    "RUN(IM, modelename)"
   ]
  },
  {
   "cell_type": "code",
   "execution_count": 19,
   "metadata": {
    "scrolled": true
   },
   "outputs": [
    {
     "name": "stdout",
     "output_type": "stream",
     "text": [
      "number of images used for see the activations : 1000\n",
      "\n",
      "\n",
      " Model  :\n",
      "\n",
      "couche : activation_1/Relu:0\n",
      "  pathologic count:  0  on  65536  =  0.0 %\n",
      "couche : activation_2/Relu:0\n",
      "  pathologic count:  0  on  65536  =  0.0 %\n",
      "couche : activation_3/Relu:0\n",
      "  pathologic count:  0  on  32768  =  0.0 %\n",
      "couche : activation_4/Relu:0\n",
      "  pathologic count:  0  on  32768  =  0.0 %\n",
      "couche : activation_5/Relu:0\n",
      "  pathologic count:  0  on  16384  =  0.0 %\n",
      "couche : activation_6/Relu:0\n",
      "  pathologic count:  1  on  16384  =  0.006103515625 %\n",
      "couche : activation_7/Relu:0\n",
      "  pathologic count:  0  on  16384  =  0.0 %\n",
      "couche : activation_8/Relu:0\n",
      "  pathologic count:  9  on  8192  =  0.10986328125 %\n",
      "couche : activation_9/Relu:0\n",
      "  pathologic count:  0  on  8192  =  0.0 %\n",
      "couche : activation_10/Relu:0\n",
      "  pathologic count:  0  on  8192  =  0.0 %\n",
      "couche : activation_11/Relu:0\n",
      "  pathologic count:  41  on  2048  =  2.001953125 %\n",
      "couche : activation_12/Relu:0\n",
      "  pathologic count:  14  on  2048  =  0.68359375 %\n",
      "couche : activation_13/Relu:0\n",
      "  pathologic count:  114  on  2048  =  5.56640625 %\n",
      "couche : activation_14/Relu:0\n",
      "  pathologic count:  0  on  512  =  0.0 %\n",
      "couche : activation_15/Softmax:0\n",
      "  pathologic count:  0  on  10  =  0.0 %\n"
     ]
    },
    {
     "data": {
      "image/png": "[encoded data removed]",
      "text/plain": [
       "<Figure size 720x360 with 1 Axes>"
      ]
     },
     "metadata": {
      "needs_background": "light"
     },
     "output_type": "display_data"
    }
   ],
   "source": [
    "modelename = 'vgg16_wdecay_2'\n",
    "model_name = '../weights/6/{}/final/weights-final.hdf5'.format(modelename)\n",
    "model.load_weights('{}'.format(model_name))\n",
    "model.compile(loss='categorical_crossentropy', optimizer=sgd, metrics=['accuracy'])\n",
    "IM = get_activations(model, Echantillon)\n",
    "# Run the code\n",
    "RUN(IM, modelename)"
   ]
  }
 ],
 "metadata": {
  "accelerator": "GPU",
  "colab": {
   "collapsed_sections": [],
   "name": "V5.ipynb",
   "provenance": [],
   "version": "0.3.2"
  },
  "kernelspec": {
   "display_name": "Python 3",
   "language": "python",
   "name": "python3"
  },
  "language_info": {
   "codemirror_mode": {
    "name": "ipython",
    "version": 3
   },
   "file_extension": ".py",
   "mimetype": "text/x-python",
   "name": "python",
   "nbconvert_exporter": "python",
   "pygments_lexer": "ipython3",
   "version": "3.5.2"
  }
 },
 "nbformat": 4,
 "nbformat_minor": 1
}
