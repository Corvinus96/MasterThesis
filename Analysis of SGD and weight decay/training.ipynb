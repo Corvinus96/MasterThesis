{
 "cells": [
  {
   "cell_type": "markdown",
   "metadata": {},
   "source": [
    "# Notebook initialization"
   ]
  },
  {
   "cell_type": "markdown",
   "metadata": {},
   "source": [
    "## Selecting best GPU to execute on"
   ]
  },
  {
   "cell_type": "code",
   "execution_count": 2,
   "metadata": {},
   "outputs": [
    {
     "name": "stdout",
     "output_type": "stream",
     "text": [
      "setGPU: Setting GPU to: 0\n"
     ]
    }
   ],
   "source": [
    "import os\n",
    "os.environ['PYTHONHASHSEED'] = '0'\n",
    "import gpustat\n",
    "\n",
    "stats = gpustat.GPUStatCollection.new_query()\n",
    "ids = map(lambda gpu: int(gpu.entry['index']), stats)\n",
    "ratios = map(lambda gpu: float(gpu.entry['memory.used'])/float(gpu.entry['memory.total']), stats)\n",
    "bestGPU = 0#min(zip(ids, ratios), key=lambda x: x[1])[0]\n",
    "\n",
    "print(\"setGPU: Setting GPU to: {}\".format(bestGPU))\n",
    "os.environ['CUDA_DEVICE_ORDER'] = 'PCI_BUS_ID'\n",
    "os.environ['CUDA_VISIBLE_DEVICES'] = str(bestGPU)"
   ]
  },
  {
   "cell_type": "markdown",
   "metadata": {},
   "source": [
    "##  Global variables"
   ]
  },
  {
   "cell_type": "code",
   "execution_count": 3,
   "metadata": {},
   "outputs": [],
   "source": [
    "# IPython extension to reload modules before executing user code.\n",
    "# 'autoreload' reloads modules automatically before entering the execution of code typed at the IPython prompt.\n",
    "%load_ext autoreload\n",
    "%autoreload 2\n",
    "import sys\n",
    "sys.path.insert(0, \"../\")"
   ]
  },
  {
   "cell_type": "code",
   "execution_count": 4,
   "metadata": {},
   "outputs": [],
   "source": [
    "# with open('simulation_id.txt', 'r') as f:\n",
    "#     simulation_id = int(f.read())\n",
    "\n",
    "#with open('simulation_id.txt', 'w') as f:\n",
    " #   f.write(str(simulation_id))\n",
    "\n",
    "simulation_id = 6"
   ]
  },
  {
   "cell_type": "code",
   "execution_count": 5,
   "metadata": {},
   "outputs": [],
   "source": [
    "weights_path = lambda wid, name: '../weights/{}/{}/'.format(wid, name)\n",
    "dw_path = lambda wid, name: '../dw/{}/{}/'.format(wid, name)\n",
    "figures_path = lambda name: 'figures/{}/{}/'.format(simulation_id, name)"
   ]
  },
  {
   "cell_type": "code",
   "execution_count": 6,
   "metadata": {},
   "outputs": [
    {
     "name": "stdout",
     "output_type": "stream",
     "text": [
      "6\n"
     ]
    }
   ],
   "source": [
    "print(simulation_id)\n",
    "import datetime"
   ]
  },
  {
   "cell_type": "markdown",
   "metadata": {},
   "source": [
    "## Seed initialization (for reproductible results)"
   ]
  },
  {
   "cell_type": "code",
   "execution_count": 7,
   "metadata": {},
   "outputs": [],
   "source": [
    "# Setting the seed for NumPy generated random numbers\n",
    "import numpy as np\n",
    "np.random.seed(0)\n",
    "\n",
    "# Setting the seed for Python random numbers\n",
    "import random as rn\n",
    "rn.seed(0)\n",
    "\n",
    "# Setting the seed for TensorFlow random numbers\n",
    "import tensorflow as tf\n",
    "tf.set_random_seed(0)\n",
    "\n",
    "#from keras.backend.tensorflow_backend import set_session\n",
    "#config = tf.ConfigProto()\n",
    "#config.gpu_options.per_process_gpu_memory_fraction = 0.5\n",
    "#set_session(tf.Session(config=config))"
   ]
  },
  {
   "cell_type": "markdown",
   "metadata": {},
   "source": [
    "# Importing packages"
   ]
  },
  {
   "cell_type": "markdown",
   "metadata": {},
   "source": [
    "## User defined packages"
   ]
  },
  {
   "cell_type": "code",
   "execution_count": 8,
   "metadata": {},
   "outputs": [
    {
     "name": "stderr",
     "output_type": "stream",
     "text": [
      "Using TensorFlow backend.\n"
     ]
    }
   ],
   "source": [
    "from data_utils import *\n",
    "from keras_utils import plot_layerwise_angle_deviation_curves, LayerwiseAngleDeviationCurves, LearningRateMonitor, TerminateOnBaseline, get_kernel_layer_names\n",
    "from models import VGG16_beta"
   ]
  },
  {
   "cell_type": "markdown",
   "metadata": {},
   "source": [
    "## Other packages"
   ]
  },
  {
   "cell_type": "code",
   "execution_count": 9,
   "metadata": {},
   "outputs": [],
   "source": [
    "from keras import optimizers\n",
    "from keras import callbacks\n",
    "from keras.models import clone_model\n",
    "from keras.callbacks import LearningRateScheduler, EarlyStopping, ReduceLROnPlateau, ModelCheckpoint\n",
    "from collections import defaultdict\n",
    "import scipy\n",
    "import matplotlib.pyplot as plt\n",
    "import pathlib\n",
    "import pickle\n",
    "from layca_optimizers import SGD\n",
    "from keras_utils import get_kernel_layer_names, get_kernel_layer, get_kernel_weights"
   ]
  },
  {
   "cell_type": "code",
   "execution_count": 10,
   "metadata": {},
   "outputs": [],
   "source": [
    "## Import up sound alert dependencies\n",
    "from IPython.display import Audio, display\n",
    "\n",
    "def allDone():\n",
    "  display(Audio(url='http://noproblo.dayjo.org/ZeldaSounds/TP/TP_Secret.wav', autoplay=True))\n",
    "## Insert whatever audio file you want above"
   ]
  },
  {
   "cell_type": "markdown",
   "metadata": {},
   "source": [
    "# Initialization of the models"
   ]
  },
  {
   "cell_type": "code",
   "execution_count": 11,
   "metadata": {},
   "outputs": [],
   "source": [
    "num_classes = 10"
   ]
  },
  {
   "cell_type": "code",
   "execution_count": 12,
   "metadata": {},
   "outputs": [],
   "source": [
    "(x_train, y_train), (x_test, y_test) = import_cifar(num_classes)"
   ]
  },
  {
   "cell_type": "code",
   "execution_count": 13,
   "metadata": {},
   "outputs": [],
   "source": [
    "models = {  \n",
    "    'vgg16_sgd_0':      VGG16_beta(input_shape=(32,32,3), num_classes=num_classes, weight_decay=0.0),\n",
    "    'vgg16_sgd_1':      VGG16_beta(input_shape=(32,32,3), num_classes=num_classes, weight_decay=0.0),\n",
    "    'vgg16_sgd_2':      VGG16_beta(input_shape=(32,32,3), num_classes=num_classes, weight_decay=0.0),\n",
    "    \n",
    "    'vgg16_wdecay_0':   VGG16_beta(input_shape=(32,32,3), num_classes=num_classes, weight_decay=0.001),\n",
    "    'vgg16_wdecay_1':   VGG16_beta(input_shape=(32,32,3), num_classes=num_classes, weight_decay=0.001),\n",
    "    'vgg16_wdecay_2':   VGG16_beta(input_shape=(32,32,3), num_classes=num_classes, weight_decay=0.001),\n",
    "    \n",
    "    'vgg16_layca_0':    VGG16_beta(input_shape=(32,32,3), num_classes=num_classes, weight_decay=0.0),\n",
    "    'vgg16_layca_1':    VGG16_beta(input_shape=(32,32,3), num_classes=num_classes, weight_decay=0.0),\n",
    "    'vgg16_layca_2':    VGG16_beta(input_shape=(32,32,3), num_classes=num_classes, weight_decay=0.0)\n",
    "} "
   ]
  },
  {
   "cell_type": "code",
   "execution_count": 14,
   "metadata": {},
   "outputs": [],
   "source": [
    "model_names = [name for name, model in models.items()]"
   ]
  },
  {
   "cell_type": "code",
   "execution_count": 15,
   "metadata": {},
   "outputs": [],
   "source": [
    "layer_names = [name.split('_', 1)[0] for name in get_kernel_layer_names(list(models.values())[0])]\n",
    "n_layers = len(get_kernel_layer_names(list(models.values())[0]))"
   ]
  },
  {
   "cell_type": "code",
   "execution_count": 16,
   "metadata": {},
   "outputs": [],
   "source": [
    "for name in model_names:\n",
    "    pathlib.Path(weights_path(simulation_id, name) + 'initial/').mkdir(parents=True, exist_ok=True) \n",
    "    pathlib.Path(weights_path(simulation_id, name) + 'final/').mkdir(parents=True, exist_ok=True) \n",
    "    pathlib.Path(weights_path(simulation_id, name) + 'byepoch/').mkdir(parents=True, exist_ok=True) \n",
    "    pathlib.Path(figures_path(name)).mkdir(parents=True, exist_ok=True)"
   ]
  },
  {
   "cell_type": "code",
   "execution_count": 17,
   "metadata": {},
   "outputs": [],
   "source": [
    "for name, model in models.items():\n",
    "    pathlib.Path(figures_path(name) + 'byepoch').mkdir(parents=True, exist_ok=True)\n",
    "    pathlib.Path(dw_path(simulation_id, name) + 'byepoch/').mkdir(parents=True, exist_ok=True) "
   ]
  },
  {
   "cell_type": "code",
   "execution_count": 128,
   "metadata": {},
   "outputs": [],
   "source": [
    "models['vgg16_sgd_0'].save_weights(weights_path(simulation_id, 'vgg16_sgd_0') + 'initial/weights-initial.hdf5') "
   ]
  },
  {
   "cell_type": "code",
   "execution_count": 129,
   "metadata": {},
   "outputs": [],
   "source": [
    "for name, model in models.items():\n",
    "    if name != 'vgg16_sgd_0':\n",
    "        model.load_weights(weights_path(simulation_id, 'vgg16_sgd_0') + 'initial/weights-initial.hdf5')"
   ]
  },
  {
   "cell_type": "code",
   "execution_count": 130,
   "metadata": {},
   "outputs": [],
   "source": [
    "for name, model in models.items():\n",
    "    if name != 'vgg16_sgd_0':\n",
    "        model.save_weights(weights_path(simulation_id, name) + 'initial/weights-initial.hdf5')"
   ]
  },
  {
   "cell_type": "code",
   "execution_count": 131,
   "metadata": {},
   "outputs": [
    {
     "data": {
      "text/html": [
       "\n",
       "                <audio controls=\"controls\" autoplay=\"autoplay\">\n",
       "                    <source src=\"http://noproblo.dayjo.org/ZeldaSounds/TP/TP_Secret.wav\" type=\"audio/x-wav\" />\n",
       "                    Your browser does not support the audio element.\n",
       "                </audio>\n",
       "              "
      ],
      "text/plain": [
       "<IPython.lib.display.Audio object>"
      ]
     },
     "metadata": {},
     "output_type": "display_data"
    }
   ],
   "source": [
    "allDone()"
   ]
  },
  {
   "cell_type": "markdown",
   "metadata": {},
   "source": [
    "# Training the models"
   ]
  },
  {
   "cell_type": "code",
   "execution_count": 24,
   "metadata": {},
   "outputs": [],
   "source": [
    "def train(model_name, lr, epochs, batch_size, validation_split, momentum, layca):#, lr_decay):  \n",
    "           \n",
    "    with open(weights_path(simulation_id, model_name) + 'parameters.pickle', 'wb') as handle:\n",
    "        pickle.dump({'date': datetime.datetime.now(),\n",
    "                     'lr': lr, \n",
    "                     'epochs': epochs,\n",
    "                     'batch_size': batch_size,\n",
    "                     'validation_split': validation_split,\n",
    "                     'momentum': momentum\n",
    "                    }, handle, protocol=pickle.HIGHEST_PROTOCOL)\n",
    "    \n",
    "    model = models[model_name]\n",
    "    model.load_weights(weights_path(simulation_id, model_name) + 'initial/weights-initial.hdf5') \n",
    "    \n",
    "    ladc = LayerwiseAngleDeviationCurves()\n",
    "    lrm = LearningRateMonitor()\n",
    "    callbacks = [ladc, lrm]\n",
    "#     if lr_decay:\n",
    "    callbacks += [ReduceLROnPlateau(monitor='val_loss', factor=0.2, patience=2, verbose=1)]\n",
    "    callbacks += [TerminateOnBaseline(monitor='acc', baseline=0.99)]\n",
    "#     callbacks += [EarlyStopping(monitor='val_loss', min_delta=1e-3, patience=5)]\n",
    "    callbacks += [ModelCheckpoint(weights_path(simulation_id, model_name) + 'byepoch/weights-{epoch:02d}.hdf5', save_weights_only=True)]\n",
    "#     callbacks += [Accumulate(batch_size, model_name)]\n",
    "    \n",
    "    # Optimization details\n",
    "    sgd = SGD(lr=lr, momentum=momentum, nesterov=True, layca=layca)\n",
    "    model.compile(loss='categorical_crossentropy', optimizer=sgd, metrics=['accuracy'])\n",
    "    \n",
    "    hist = model.fit(x=x_train, \n",
    "                     y=y_train,\n",
    "                     validation_split=validation_split,\n",
    "                     batch_size=batch_size, \n",
    "                     epochs=epochs, \n",
    "                     verbose=1, \n",
    "                     callbacks=callbacks)\n",
    "    \n",
    "    with open(weights_path(simulation_id, model_name) + 'history.pickle', 'wb') as handle:\n",
    "        pickle.dump(hist.history, handle, protocol=pickle.HIGHEST_PROTOCOL)\n",
    "        \n",
    "    with open(weights_path(simulation_id, model_name) + 'cosines.pickle', 'wb') as handle:\n",
    "        pickle.dump(ladc.memory, handle, protocol=pickle.HIGHEST_PROTOCOL)\n",
    "        \n",
    "    with open(weights_path(simulation_id, model_name) + 'lrates.pickle', 'wb') as handle:\n",
    "        pickle.dump(lrm.lrates, handle, protocol=pickle.HIGHEST_PROTOCOL)\n",
    "    \n",
    "    fig, ax = plt.subplots(nrows=1, ncols=1)\n",
    "    plot_layerwise_angle_deviation_curves(ladc.memory, ax)\n",
    "    fig.savefig(figures_path(model_name) + 'cosine_dist.png', dpi=100)\n",
    "    \n",
    "    allDone()"
   ]
  },
  {
   "cell_type": "markdown",
   "metadata": {},
   "source": [
    "## SGD"
   ]
  },
  {
   "cell_type": "code",
   "execution_count": 26,
   "metadata": {},
   "outputs": [
    {
     "name": "stdout",
     "output_type": "stream",
     "text": [
      "Train on 40000 samples, validate on 10000 samples\n",
      "Epoch 1/50\n",
      "40000/40000 [==============================] - 18s 462us/step - loss: 2.0247 - acc: 0.2135 - val_loss: 2.8895 - val_acc: 0.0980\n",
      "current learning rate: 0.10000000149011612\n",
      "Epoch 2/50\n",
      "40000/40000 [==============================] - 17s 425us/step - loss: 1.6602 - acc: 0.3828 - val_loss: 2.5115 - val_acc: 0.1681\n",
      "current learning rate: 0.10000000149011612\n",
      "Epoch 3/50\n",
      "40000/40000 [==============================] - 17s 431us/step - loss: 1.3875 - acc: 0.5222 - val_loss: 1.8118 - val_acc: 0.3491\n",
      "current learning rate: 0.10000000149011612\n",
      "Epoch 4/50\n",
      "40000/40000 [==============================] - 17s 425us/step - loss: 1.1499 - acc: 0.6312 - val_loss: 1.6215 - val_acc: 0.4877\n",
      "current learning rate: 0.10000000149011612\n",
      "Epoch 5/50\n",
      "40000/40000 [==============================] - 18s 441us/step - loss: 0.9949 - acc: 0.7002 - val_loss: 1.2024 - val_acc: 0.6231\n",
      "current learning rate: 0.10000000149011612\n",
      "Epoch 6/50\n",
      "40000/40000 [==============================] - 17s 432us/step - loss: 0.8853 - acc: 0.7486 - val_loss: 1.1084 - val_acc: 0.6746\n",
      "current learning rate: 0.10000000149011612\n",
      "Epoch 7/50\n",
      "40000/40000 [==============================] - 17s 428us/step - loss: 0.8087 - acc: 0.7835 - val_loss: 0.9108 - val_acc: 0.7356\n",
      "current learning rate: 0.10000000149011612\n",
      "Epoch 8/50\n",
      "40000/40000 [==============================] - 17s 434us/step - loss: 0.7387 - acc: 0.8142 - val_loss: 0.9618 - val_acc: 0.7258\n",
      "current learning rate: 0.10000000149011612\n",
      "Epoch 9/50\n",
      "40000/40000 [==============================] - 17s 424us/step - loss: 0.6846 - acc: 0.8376 - val_loss: 0.9068 - val_acc: 0.7536\n",
      "current learning rate: 0.10000000149011612\n",
      "Epoch 10/50\n",
      "40000/40000 [==============================] - 18s 438us/step - loss: 0.6334 - acc: 0.8615 - val_loss: 0.8915 - val_acc: 0.7507\n",
      "current learning rate: 0.10000000149011612\n",
      "Epoch 11/50\n",
      "40000/40000 [==============================] - 17s 427us/step - loss: 0.5920 - acc: 0.8787 - val_loss: 0.9372 - val_acc: 0.7407\n",
      "current learning rate: 0.10000000149011612\n",
      "Epoch 12/50\n",
      "40000/40000 [==============================] - 17s 431us/step - loss: 0.5485 - acc: 0.8972 - val_loss: 0.8847 - val_acc: 0.7613\n",
      "current learning rate: 0.10000000149011612\n",
      "Epoch 13/50\n",
      "40000/40000 [==============================] - 17s 423us/step - loss: 0.5132 - acc: 0.9132 - val_loss: 0.8421 - val_acc: 0.7879\n",
      "current learning rate: 0.10000000149011612\n",
      "Epoch 14/50\n",
      "40000/40000 [==============================] - 18s 444us/step - loss: 0.4889 - acc: 0.9235 - val_loss: 0.7977 - val_acc: 0.7948\n",
      "current learning rate: 0.10000000149011612\n",
      "Epoch 15/50\n",
      "40000/40000 [==============================] - 17s 432us/step - loss: 0.4680 - acc: 0.9318 - val_loss: 0.8191 - val_acc: 0.7939\n",
      "current learning rate: 0.10000000149011612\n",
      "Epoch 16/50\n",
      "40000/40000 [==============================] - 17s 429us/step - loss: 0.4433 - acc: 0.9432 - val_loss: 0.9165 - val_acc: 0.7711\n",
      "current learning rate: 0.10000000149011612\n",
      "\n",
      "Epoch 00016: ReduceLROnPlateau reducing learning rate to 0.020000000298023225.\n",
      "Epoch 17/50\n",
      "40000/40000 [==============================] - 17s 423us/step - loss: 0.3723 - acc: 0.9741 - val_loss: 0.7185 - val_acc: 0.8374\n",
      "current learning rate: 0.019999999552965164\n",
      "Epoch 18/50\n",
      "40000/40000 [==============================] - 17s 426us/step - loss: 0.3439 - acc: 0.9861 - val_loss: 0.7094 - val_acc: 0.8419\n",
      "current learning rate: 0.019999999552965164\n",
      "Epoch 19/50\n",
      "40000/40000 [==============================] - 17s 429us/step - loss: 0.3367 - acc: 0.9891 - val_loss: 0.7101 - val_acc: 0.8463\n",
      "current learning rate: 0.019999999552965164\n",
      "Epoch 20/50\n",
      "40000/40000 [==============================] - 17s 435us/step - loss: 0.3326 - acc: 0.9913 - val_loss: 0.7150 - val_acc: 0.8429\n",
      "current learning rate: 0.019999999552965164\n",
      "\n",
      "Epoch 00020: ReduceLROnPlateau reducing learning rate to 0.003999999910593033.\n",
      "Epoch 19: Reached baseline, terminating training\n"
     ]
    },
    {
     "data": {
      "text/html": [
       "\n",
       "                <audio controls=\"controls\" autoplay=\"autoplay\">\n",
       "                    <source src=\"http://noproblo.dayjo.org/ZeldaSounds/TP/TP_Secret.wav\" type=\"audio/x-wav\" />\n",
       "                    Your browser does not support the audio element.\n",
       "                </audio>\n",
       "              "
      ],
      "text/plain": [
       "<IPython.lib.display.Audio object>"
      ]
     },
     "metadata": {},
     "output_type": "display_data"
    },
    {
     "data": {
      "image/png": "[encoded data removed]",
      "text/plain": [
       "<Figure size 432x288 with 1 Axes>"
      ]
     },
     "metadata": {
      "needs_background": "light"
     },
     "output_type": "display_data"
    }
   ],
   "source": [
    "train(model_name='vgg16_sgd_2', lr=0.1, epochs=50, batch_size=128, validation_split=0.2, momentum=0.9, layca=False)#, lr_decay=True)"
   ]
  },
  {
   "cell_type": "code",
   "execution_count": 164,
   "metadata": {
    "collapsed": true
   },
   "outputs": [
    {
     "name": "stdout",
     "output_type": "stream",
     "text": [
      "Train on 40000 samples, validate on 10000 samples\n",
      "Epoch 1/50\n",
      "40000/40000 [==============================] - 31s 778us/step - loss: 1.4300 - acc: 0.5128 - val_loss: 1.4402 - val_acc: 0.5174\n",
      "current learning rate: 0.003000000026077032\n",
      "Epoch 2/50\n",
      "40000/40000 [==============================] - 19s 463us/step - loss: 1.0646 - acc: 0.6765 - val_loss: 1.1512 - val_acc: 0.6490\n",
      "current learning rate: 0.003000000026077032\n",
      "Epoch 3/50\n",
      "40000/40000 [==============================] - 19s 473us/step - loss: 0.8790 - acc: 0.7609 - val_loss: 1.0407 - val_acc: 0.6914\n",
      "current learning rate: 0.003000000026077032\n",
      "Epoch 4/50\n",
      "40000/40000 [==============================] - 19s 471us/step - loss: 0.7245 - acc: 0.8321 - val_loss: 1.0895 - val_acc: 0.6750\n",
      "current learning rate: 0.003000000026077032\n",
      "Epoch 5/50\n",
      "40000/40000 [==============================] - 19s 472us/step - loss: 0.5891 - acc: 0.8953 - val_loss: 1.0432 - val_acc: 0.7015\n",
      "current learning rate: 0.003000000026077032\n",
      "Epoch 6/50\n",
      "40000/40000 [==============================] - 19s 467us/step - loss: 0.4785 - acc: 0.9429 - val_loss: 0.9686 - val_acc: 0.7360\n",
      "current learning rate: 0.003000000026077032\n",
      "Epoch 7/50\n",
      "40000/40000 [==============================] - 20s 497us/step - loss: 0.4032 - acc: 0.9756 - val_loss: 0.9784 - val_acc: 0.7366\n",
      "current learning rate: 0.003000000026077032\n",
      "Epoch 8/50\n",
      "40000/40000 [==============================] - 19s 470us/step - loss: 0.3520 - acc: 0.9916 - val_loss: 0.9391 - val_acc: 0.7540\n",
      "current learning rate: 0.003000000026077032\n",
      "Epoch 7: Reached baseline, terminating training\n"
     ]
    },
    {
     "data": {
      "text/html": [
       "\n",
       "                <audio controls=\"controls\" autoplay=\"autoplay\">\n",
       "                    <source src=\"http://noproblo.dayjo.org/ZeldaSounds/TP/TP_Secret.wav\" type=\"audio/x-wav\" />\n",
       "                    Your browser does not support the audio element.\n",
       "                </audio>\n",
       "              "
      ],
      "text/plain": [
       "<IPython.lib.display.Audio object>"
      ]
     },
     "metadata": {},
     "output_type": "display_data"
    },
    {
     "data": {
      "image/png": "[encoded data removed]",
      "text/plain": [
       "<Figure size 432x288 with 1 Axes>"
      ]
     },
     "metadata": {
      "needs_background": "light"
     },
     "output_type": "display_data"
    }
   ],
   "source": [
    "train(model_name='vgg16_sgd_1', lr=0.003, epochs=50, batch_size=128, validation_split=0.2, momentum=0.9, layca=False)#, lr_decay=True)"
   ]
  },
  {
   "cell_type": "code",
   "execution_count": 165,
   "metadata": {
    "collapsed": true
   },
   "outputs": [
    {
     "name": "stdout",
     "output_type": "stream",
     "text": [
      "Train on 40000 samples, validate on 10000 samples\n",
      "Epoch 1/50\n",
      "40000/40000 [==============================] - 27s 663us/step - loss: 1.5976 - acc: 0.4455 - val_loss: 1.6535 - val_acc: 0.4080\n",
      "current learning rate: 0.0012499999720603228\n",
      "Epoch 2/50\n",
      "40000/40000 [==============================] - 14s 349us/step - loss: 1.2340 - acc: 0.6061 - val_loss: 1.2940 - val_acc: 0.5787\n",
      "current learning rate: 0.0012499999720603228\n",
      "Epoch 3/50\n",
      "40000/40000 [==============================] - 14s 356us/step - loss: 1.0405 - acc: 0.6999 - val_loss: 1.2559 - val_acc: 0.6012\n",
      "current learning rate: 0.0012499999720603228\n",
      "Epoch 4/50\n",
      "40000/40000 [==============================] - 15s 369us/step - loss: 0.8784 - acc: 0.7851 - val_loss: 1.2599 - val_acc: 0.6065\n",
      "current learning rate: 0.0012499999720603228\n",
      "Epoch 5/50\n",
      "40000/40000 [==============================] - 14s 359us/step - loss: 0.7209 - acc: 0.8687 - val_loss: 1.2341 - val_acc: 0.6302\n",
      "current learning rate: 0.0012499999720603228\n",
      "Epoch 6/50\n",
      "40000/40000 [==============================] - 15s 372us/step - loss: 0.5831 - acc: 0.9418 - val_loss: 1.2474 - val_acc: 0.6353\n",
      "current learning rate: 0.0012499999720603228\n",
      "Epoch 7/50\n",
      "40000/40000 [==============================] - 14s 357us/step - loss: 0.4819 - acc: 0.9807 - val_loss: 1.2418 - val_acc: 0.6403\n",
      "current learning rate: 0.0012499999720603228\n",
      "Epoch 8/50\n",
      "40000/40000 [==============================] - 15s 381us/step - loss: 0.4179 - acc: 0.9943 - val_loss: 1.2408 - val_acc: 0.6461\n",
      "current learning rate: 0.0012499999720603228\n",
      "\n",
      "Epoch 00008: ReduceLROnPlateau reducing learning rate to 0.00024999999441206456.\n",
      "Epoch 7: Reached baseline, terminating training\n"
     ]
    },
    {
     "data": {
      "text/html": [
       "\n",
       "                <audio controls=\"controls\" autoplay=\"autoplay\">\n",
       "                    <source src=\"http://noproblo.dayjo.org/ZeldaSounds/TP/TP_Secret.wav\" type=\"audio/x-wav\" />\n",
       "                    Your browser does not support the audio element.\n",
       "                </audio>\n",
       "              "
      ],
      "text/plain": [
       "<IPython.lib.display.Audio object>"
      ]
     },
     "metadata": {},
     "output_type": "display_data"
    },
    {
     "data": {
      "image/png": "[encoded data removed]",
      "text/plain": [
       "<Figure size 432x288 with 1 Axes>"
      ]
     },
     "metadata": {
      "needs_background": "light"
     },
     "output_type": "display_data"
    }
   ],
   "source": [
    "train(model_name='vgg16_sgd_0', lr=0.00125, epochs=50, batch_size=256, validation_split=0.2, momentum=0.9, layca=False)#, lr_decay=False)"
   ]
  },
  {
   "cell_type": "markdown",
   "metadata": {},
   "source": [
    "## Weight decay"
   ]
  },
  {
   "cell_type": "code",
   "execution_count": null,
   "metadata": {},
   "outputs": [
    {
     "name": "stdout",
     "output_type": "stream",
     "text": [
      "Train on 40000 samples, validate on 10000 samples\n",
      "Epoch 1/50\n",
      "40000/40000 [==============================] - 20s 501us/step - loss: 9.0215 - acc: 0.2390 - val_loss: 5.9744 - val_acc: 0.0997\n",
      "current learning rate: 0.11999999731779099\n",
      "Epoch 2/50\n",
      "40000/40000 [==============================] - 18s 454us/step - loss: 3.1793 - acc: 0.4874 - val_loss: 4.0460 - val_acc: 0.1259\n",
      "current learning rate: 0.11999999731779099\n",
      "Epoch 3/50\n",
      "40000/40000 [==============================] - 18s 453us/step - loss: 1.7618 - acc: 0.6079 - val_loss: 2.6602 - val_acc: 0.2474\n",
      "current learning rate: 0.11999999731779099\n",
      "Epoch 4/50\n",
      "40000/40000 [==============================] - 18s 453us/step - loss: 1.4218 - acc: 0.6721 - val_loss: 2.0214 - val_acc: 0.4448\n",
      "current learning rate: 0.11999999731779099\n",
      "Epoch 5/50\n",
      "40000/40000 [==============================] - 18s 448us/step - loss: 1.3338 - acc: 0.7080 - val_loss: 1.7363 - val_acc: 0.5597\n",
      "current learning rate: 0.11999999731779099\n",
      "Epoch 6/50\n",
      "40000/40000 [==============================] - 18s 458us/step - loss: 1.3006 - acc: 0.7290 - val_loss: 2.1721 - val_acc: 0.4209\n",
      "current learning rate: 0.11999999731779099\n",
      "Epoch 7/50\n",
      "40000/40000 [==============================] - 18s 448us/step - loss: 1.2889 - acc: 0.7408 - val_loss: 1.8522 - val_acc: 0.5344\n",
      "current learning rate: 0.11999999731779099\n",
      "\n",
      "Epoch 00007: ReduceLROnPlateau reducing learning rate to 0.0239999994635582.\n",
      "Epoch 8/50\n",
      "40000/40000 [==============================] - 18s 443us/step - loss: 1.0580 - acc: 0.8230 - val_loss: 1.3635 - val_acc: 0.7203\n",
      "current learning rate: 0.024000000208616257\n",
      "Epoch 9/50\n",
      "40000/40000 [==============================] - 18s 452us/step - loss: 0.9202 - acc: 0.8565 - val_loss: 1.1960 - val_acc: 0.7604\n",
      "current learning rate: 0.024000000208616257\n",
      "Epoch 10/50\n",
      "40000/40000 [==============================] - 18s 439us/step - loss: 0.8725 - acc: 0.8626 - val_loss: 1.3005 - val_acc: 0.7028\n",
      "current learning rate: 0.024000000208616257\n",
      "Epoch 11/50\n",
      "40000/40000 [==============================] - 18s 461us/step - loss: 0.8448 - acc: 0.8704 - val_loss: 1.2155 - val_acc: 0.7301\n",
      "current learning rate: 0.024000000208616257\n",
      "\n",
      "Epoch 00011: ReduceLROnPlateau reducing learning rate to 0.004800000041723252.\n",
      "Epoch 12/50\n",
      "40000/40000 [==============================] - 18s 448us/step - loss: 0.7186 - acc: 0.9230 - val_loss: 0.9338 - val_acc: 0.8436\n",
      "current learning rate: 0.004800000227987766\n",
      "Epoch 13/50\n",
      "40000/40000 [==============================] - 18s 452us/step - loss: 0.6452 - acc: 0.9502 - val_loss: 0.9237 - val_acc: 0.8400\n",
      "current learning rate: 0.004800000227987766\n",
      "Epoch 14/50\n",
      "40000/40000 [==============================] - 18s 450us/step - loss: 0.6067 - acc: 0.9624 - val_loss: 0.9611 - val_acc: 0.8231\n",
      "current learning rate: 0.004800000227987766\n",
      "Epoch 15/50\n",
      "40000/40000 [==============================] - 18s 450us/step - loss: 0.5858 - acc: 0.9673 - val_loss: 0.9323 - val_acc: 0.8306\n",
      "current learning rate: 0.004800000227987766\n",
      "\n",
      "Epoch 00015: ReduceLROnPlateau reducing learning rate to 0.0009600000455975533.\n",
      "Epoch 16/50\n",
      "40000/40000 [==============================] - 18s 462us/step - loss: 0.5528 - acc: 0.9792 - val_loss: 0.8215 - val_acc: 0.8706\n",
      "current learning rate: 0.0009600000339560211\n",
      "Epoch 17/50\n",
      "40000/40000 [==============================] - 18s 451us/step - loss: 0.5329 - acc: 0.9861 - val_loss: 0.8281 - val_acc: 0.8684\n",
      "current learning rate: 0.0009600000339560211\n",
      "Epoch 18/50\n",
      "40000/40000 [==============================] - 18s 442us/step - loss: 0.5288 - acc: 0.9883 - val_loss: 0.8251 - val_acc: 0.8681\n",
      "current learning rate: 0.0009600000339560211\n",
      "\n",
      "Epoch 00018: ReduceLROnPlateau reducing learning rate to 0.00019200000679120421.\n",
      "Epoch 19/50\n",
      "40000/40000 [==============================] - 18s 458us/step - loss: 0.5243 - acc: 0.9893 - val_loss: 0.8174 - val_acc: 0.8691\n",
      "current learning rate: 0.00019200000679120421\n",
      "Epoch 20/50\n",
      "40000/40000 [==============================] - 18s 450us/step - loss: 0.5223 - acc: 0.9894 - val_loss: 0.8170 - val_acc: 0.8699\n",
      "current learning rate: 0.00019200000679120421\n"
     ]
    }
   ],
   "source": [
    "train(model_name='vgg16_wdecay_2', lr=0.12, epochs=50, batch_size=128, validation_split=0.2, momentum=0.9, layca=False)#, lr_decay=True)"
   ]
  },
  {
   "cell_type": "code",
   "execution_count": 29,
   "metadata": {
    "collapsed": true
   },
   "outputs": [
    {
     "name": "stdout",
     "output_type": "stream",
     "text": [
      "Train on 40000 samples, validate on 10000 samples\n",
      "Epoch 1/50\n",
      "40000/40000 [==============================] - 20s 502us/step - loss: 5.8189 - acc: 0.4984 - val_loss: 5.7412 - val_acc: 0.5083\n",
      "current learning rate: 0.0024500000290572643\n",
      "Epoch 2/50\n",
      "40000/40000 [==============================] - 18s 440us/step - loss: 5.3424 - acc: 0.6531 - val_loss: 5.3747 - val_acc: 0.6257\n",
      "current learning rate: 0.0024500000290572643\n",
      "Epoch 3/50\n",
      "40000/40000 [==============================] - 18s 450us/step - loss: 5.0336 - acc: 0.7411 - val_loss: 5.2406 - val_acc: 0.6181\n",
      "current learning rate: 0.0024500000290572643\n",
      "Epoch 4/50\n",
      "40000/40000 [==============================] - 19s 464us/step - loss: 4.7636 - acc: 0.8138 - val_loss: 4.9591 - val_acc: 0.7030\n",
      "current learning rate: 0.0024500000290572643\n",
      "Epoch 5/50\n",
      "40000/40000 [==============================] - 18s 444us/step - loss: 4.5184 - acc: 0.8738 - val_loss: 4.8783 - val_acc: 0.6989\n",
      "current learning rate: 0.0024500000290572643\n",
      "Epoch 6/50\n",
      "40000/40000 [==============================] - 18s 443us/step - loss: 4.2921 - acc: 0.9275 - val_loss: 4.7563 - val_acc: 0.7107\n",
      "current learning rate: 0.0024500000290572643\n",
      "Epoch 7/50\n",
      "40000/40000 [==============================] - 18s 442us/step - loss: 4.0993 - acc: 0.9627 - val_loss: 4.6223 - val_acc: 0.7223\n",
      "current learning rate: 0.0024500000290572643\n",
      "Epoch 8/50\n",
      "40000/40000 [==============================] - 18s 447us/step - loss: 3.9403 - acc: 0.9808 - val_loss: 4.5160 - val_acc: 0.7204\n",
      "current learning rate: 0.0024500000290572643\n",
      "Epoch 9/50\n",
      "40000/40000 [==============================] - 19s 464us/step - loss: 3.8024 - acc: 0.9911 - val_loss: 4.3712 - val_acc: 0.7446\n",
      "current learning rate: 0.0024500000290572643\n",
      "Epoch 8: Reached baseline, terminating training\n"
     ]
    },
    {
     "data": {
      "text/html": [
       "\n",
       "                <audio controls=\"controls\" autoplay=\"autoplay\">\n",
       "                    <source src=\"http://noproblo.dayjo.org/ZeldaSounds/TP/TP_Secret.wav\" type=\"audio/x-wav\" />\n",
       "                    Your browser does not support the audio element.\n",
       "                </audio>\n",
       "              "
      ],
      "text/plain": [
       "<IPython.lib.display.Audio object>"
      ]
     },
     "metadata": {},
     "output_type": "display_data"
    },
    {
     "data": {
      "image/png": "[encoded data removed]",
      "text/plain": [
       "<Figure size 432x288 with 1 Axes>"
      ]
     },
     "metadata": {
      "needs_background": "light"
     },
     "output_type": "display_data"
    }
   ],
   "source": [
    "train(model_name='vgg16_wdecay_1', lr=0.00245, epochs=50, batch_size=128, validation_split=0.2, momentum=0.9, layca=False)#, lr_decay=True)"
   ]
  },
  {
   "cell_type": "code",
   "execution_count": 168,
   "metadata": {
    "collapsed": true
   },
   "outputs": [
    {
     "name": "stdout",
     "output_type": "stream",
     "text": [
      "Train on 40000 samples, validate on 10000 samples\n",
      "Epoch 1/50\n",
      "40000/40000 [==============================] - 36s 889us/step - loss: 5.9483 - acc: 0.4567 - val_loss: 5.7384 - val_acc: 0.5364\n",
      "current learning rate: 0.000699999975040555\n",
      "Epoch 2/50\n",
      "40000/40000 [==============================] - 20s 510us/step - loss: 5.5679 - acc: 0.6102 - val_loss: 5.6157 - val_acc: 0.5728\n",
      "current learning rate: 0.000699999975040555\n",
      "Epoch 3/50\n",
      "40000/40000 [==============================] - 19s 485us/step - loss: 5.3514 - acc: 0.6966 - val_loss: 5.5147 - val_acc: 0.6271\n",
      "current learning rate: 0.000699999975040555\n",
      "Epoch 4/50\n",
      "40000/40000 [==============================] - 20s 506us/step - loss: 5.1614 - acc: 0.7761 - val_loss: 5.4050 - val_acc: 0.6432\n",
      "current learning rate: 0.000699999975040555\n",
      "Epoch 5/50\n",
      "40000/40000 [==============================] - 21s 532us/step - loss: 4.9826 - acc: 0.8534 - val_loss: 5.4122 - val_acc: 0.6382\n",
      "current learning rate: 0.000699999975040555\n",
      "Epoch 6/50\n",
      "40000/40000 [==============================] - 20s 490us/step - loss: 4.8193 - acc: 0.9202 - val_loss: 5.3532 - val_acc: 0.6661\n",
      "current learning rate: 0.000699999975040555\n",
      "Epoch 7/50\n",
      "40000/40000 [==============================] - 20s 498us/step - loss: 4.6782 - acc: 0.9673 - val_loss: 5.3277 - val_acc: 0.6757\n",
      "current learning rate: 0.000699999975040555\n",
      "Epoch 8/50\n",
      "40000/40000 [==============================] - 22s 539us/step - loss: 4.5766 - acc: 0.9884 - val_loss: 5.2972 - val_acc: 0.6725\n",
      "current learning rate: 0.000699999975040555\n",
      "Epoch 9/50\n",
      "40000/40000 [==============================] - 20s 492us/step - loss: 4.5023 - acc: 0.9943 - val_loss: 5.2553 - val_acc: 0.6755\n",
      "current learning rate: 0.000699999975040555\n",
      "Epoch 8: Reached baseline, terminating training\n"
     ]
    },
    {
     "data": {
      "text/html": [
       "\n",
       "                <audio controls=\"controls\" autoplay=\"autoplay\">\n",
       "                    <source src=\"http://noproblo.dayjo.org/ZeldaSounds/TP/TP_Secret.wav\" type=\"audio/x-wav\" />\n",
       "                    Your browser does not support the audio element.\n",
       "                </audio>\n",
       "              "
      ],
      "text/plain": [
       "<IPython.lib.display.Audio object>"
      ]
     },
     "metadata": {},
     "output_type": "display_data"
    },
    {
     "data": {
      "image/png": "[encoded data removed]",
      "text/plain": [
       "<Figure size 432x288 with 1 Axes>"
      ]
     },
     "metadata": {
      "needs_background": "light"
     },
     "output_type": "display_data"
    }
   ],
   "source": [
    "train(model_name='vgg16_wdecay_0', lr=0.0007, epochs=50, batch_size=128, validation_split=0.2, momentum=0.9, layca=False)#, lr_decay=True)"
   ]
  },
  {
   "cell_type": "markdown",
   "metadata": {},
   "source": [
    "## Layca"
   ]
  },
  {
   "cell_type": "code",
   "execution_count": 162,
   "metadata": {
    "collapsed": true
   },
   "outputs": [
    {
     "name": "stdout",
     "output_type": "stream",
     "text": [
      "Train on 40000 samples, validate on 10000 samples\n",
      "Epoch 1/50\n",
      "40000/40000 [==============================] - 34s 842us/step - loss: 1.6134 - acc: 0.4169 - val_loss: 2.0226 - val_acc: 0.3395\n",
      "current learning rate: 0.029999999329447746\n",
      "Epoch 2/50\n",
      "40000/40000 [==============================] - 21s 521us/step - loss: 1.3115 - acc: 0.5642 - val_loss: 2.2508 - val_acc: 0.2541\n",
      "current learning rate: 0.029999999329447746\n",
      "Epoch 3/50\n",
      "40000/40000 [==============================] - 21s 525us/step - loss: 1.1883 - acc: 0.6232 - val_loss: 1.8679 - val_acc: 0.3475\n",
      "current learning rate: 0.029999999329447746\n",
      "Epoch 4/50\n",
      "40000/40000 [==============================] - 21s 528us/step - loss: 1.1349 - acc: 0.6491 - val_loss: 1.5969 - val_acc: 0.4821\n",
      "current learning rate: 0.029999999329447746\n",
      "Epoch 5/50\n",
      "40000/40000 [==============================] - 21s 523us/step - loss: 1.1091 - acc: 0.6612 - val_loss: 1.8490 - val_acc: 0.3978\n",
      "current learning rate: 0.029999999329447746\n",
      "Epoch 6/50\n",
      "40000/40000 [==============================] - 21s 528us/step - loss: 1.0924 - acc: 0.6675 - val_loss: 1.5758 - val_acc: 0.4837\n",
      "current learning rate: 0.029999999329447746\n",
      "Epoch 7/50\n",
      "40000/40000 [==============================] - 21s 524us/step - loss: 1.0836 - acc: 0.6722 - val_loss: 1.4246 - val_acc: 0.5486\n",
      "current learning rate: 0.029999999329447746\n",
      "Epoch 8/50\n",
      "40000/40000 [==============================] - 21s 522us/step - loss: 1.0787 - acc: 0.6737 - val_loss: 1.8391 - val_acc: 0.3926\n",
      "current learning rate: 0.029999999329447746\n",
      "Epoch 9/50\n",
      "40000/40000 [==============================] - 21s 525us/step - loss: 1.0726 - acc: 0.6766 - val_loss: 1.3273 - val_acc: 0.5885\n",
      "current learning rate: 0.029999999329447746\n",
      "Epoch 10/50\n",
      "40000/40000 [==============================] - 21s 530us/step - loss: 1.0699 - acc: 0.6789 - val_loss: 2.1964 - val_acc: 0.2848\n",
      "current learning rate: 0.029999999329447746\n",
      "Epoch 11/50\n",
      "40000/40000 [==============================] - 21s 522us/step - loss: 1.0741 - acc: 0.6769 - val_loss: 2.0816 - val_acc: 0.2961\n",
      "current learning rate: 0.029999999329447746\n",
      "Epoch 12/50\n",
      "40000/40000 [==============================] - 21s 525us/step - loss: 1.0581 - acc: 0.6834 - val_loss: 1.5920 - val_acc: 0.4875\n",
      "current learning rate: 0.029999999329447746\n",
      "\n",
      "Epoch 00012: ReduceLROnPlateau reducing learning rate to 0.00599999986588955.\n",
      "Epoch 13/50\n",
      "40000/40000 [==============================] - 21s 518us/step - loss: 0.8095 - acc: 0.7820 - val_loss: 0.9845 - val_acc: 0.7172\n",
      "current learning rate: 0.006000000052154064\n",
      "Epoch 14/50\n",
      "40000/40000 [==============================] - 21s 534us/step - loss: 0.6983 - acc: 0.8304 - val_loss: 0.7862 - val_acc: 0.7927\n",
      "current learning rate: 0.006000000052154064\n",
      "Epoch 15/50\n",
      "40000/40000 [==============================] - 21s 527us/step - loss: 0.6386 - acc: 0.8559 - val_loss: 0.9196 - val_acc: 0.7442\n",
      "current learning rate: 0.006000000052154064\n",
      "Epoch 16/50\n",
      "40000/40000 [==============================] - 23s 574us/step - loss: 0.5948 - acc: 0.8758 - val_loss: 0.7995 - val_acc: 0.7924\n",
      "current learning rate: 0.006000000052154064\n",
      "Epoch 17/50\n",
      "40000/40000 [==============================] - 21s 520us/step - loss: 0.5597 - acc: 0.8907 - val_loss: 0.8874 - val_acc: 0.7534\n",
      "current learning rate: 0.006000000052154064\n",
      "\n",
      "Epoch 00017: ReduceLROnPlateau reducing learning rate to 0.001200000010430813.\n",
      "Epoch 18/50\n",
      "40000/40000 [==============================] - 21s 525us/step - loss: 0.4478 - acc: 0.9414 - val_loss: 0.7007 - val_acc: 0.8421\n",
      "current learning rate: 0.0012000000569969416\n",
      "Epoch 19/50\n",
      "40000/40000 [==============================] - 21s 529us/step - loss: 0.4014 - acc: 0.9610 - val_loss: 0.6822 - val_acc: 0.8491\n",
      "current learning rate: 0.0012000000569969416\n",
      "Epoch 20/50\n",
      "40000/40000 [==============================] - 24s 597us/step - loss: 0.3802 - acc: 0.9711 - val_loss: 0.6887 - val_acc: 0.8459\n",
      "current learning rate: 0.0012000000569969416\n",
      "Epoch 21/50\n",
      "40000/40000 [==============================] - 21s 528us/step - loss: 0.3667 - acc: 0.9769 - val_loss: 0.6828 - val_acc: 0.8536\n",
      "current learning rate: 0.0012000000569969416\n",
      "Epoch 22/50\n",
      "40000/40000 [==============================] - 22s 560us/step - loss: 0.3557 - acc: 0.9804 - val_loss: 0.6998 - val_acc: 0.8469\n",
      "current learning rate: 0.0012000000569969416\n",
      "\n",
      "Epoch 00022: ReduceLROnPlateau reducing learning rate to 0.00024000001139938833.\n",
      "Epoch 23/50\n",
      "40000/40000 [==============================] - 21s 522us/step - loss: 0.3383 - acc: 0.9878 - val_loss: 0.6763 - val_acc: 0.8558\n",
      "current learning rate: 0.00024000000848900527\n",
      "Epoch 24/50\n",
      "40000/40000 [==============================] - 21s 522us/step - loss: 0.3324 - acc: 0.9897 - val_loss: 0.6813 - val_acc: 0.8553\n",
      "current learning rate: 0.00024000000848900527\n",
      "Epoch 25/50\n",
      "40000/40000 [==============================] - 21s 523us/step - loss: 0.3298 - acc: 0.9907 - val_loss: 0.6842 - val_acc: 0.8543\n",
      "current learning rate: 0.00024000000848900527\n",
      "Epoch 24: Reached baseline, terminating training\n"
     ]
    },
    {
     "data": {
      "text/html": [
       "\n",
       "                <audio controls=\"controls\" autoplay=\"autoplay\">\n",
       "                    <source src=\"http://noproblo.dayjo.org/ZeldaSounds/TP/TP_Secret.wav\" type=\"audio/x-wav\" />\n",
       "                    Your browser does not support the audio element.\n",
       "                </audio>\n",
       "              "
      ],
      "text/plain": [
       "<IPython.lib.display.Audio object>"
      ]
     },
     "metadata": {},
     "output_type": "display_data"
    },
    {
     "data": {
      "image/png": "[encoded data removed]",
      "text/plain": [
       "<Figure size 432x288 with 1 Axes>"
      ]
     },
     "metadata": {
      "needs_background": "light"
     },
     "output_type": "display_data"
    }
   ],
   "source": [
    "train(model_name='vgg16_layca_2', lr=0.03, epochs=50, batch_size=128, validation_split=0.2, momentum=0.9, layca=True)#, lr_decay=True)"
   ]
  },
  {
   "cell_type": "code",
   "execution_count": 160,
   "metadata": {
    "collapsed": true
   },
   "outputs": [
    {
     "name": "stdout",
     "output_type": "stream",
     "text": [
      "Train on 40000 samples, validate on 10000 samples\n",
      "Epoch 1/50\n",
      "40000/40000 [==============================] - 33s 832us/step - loss: 1.4597 - acc: 0.4996 - val_loss: 1.3692 - val_acc: 0.5596\n",
      "current learning rate: 0.0010000000474974513\n",
      "Epoch 2/50\n",
      "40000/40000 [==============================] - 21s 522us/step - loss: 1.0446 - acc: 0.6817 - val_loss: 1.3155 - val_acc: 0.5668\n",
      "current learning rate: 0.0010000000474974513\n",
      "Epoch 3/50\n",
      "40000/40000 [==============================] - 21s 529us/step - loss: 0.8336 - acc: 0.7775 - val_loss: 1.0341 - val_acc: 0.6911\n",
      "current learning rate: 0.0010000000474974513\n",
      "Epoch 4/50\n",
      "40000/40000 [==============================] - 21s 524us/step - loss: 0.6628 - acc: 0.8515 - val_loss: 0.9890 - val_acc: 0.7105\n",
      "current learning rate: 0.0010000000474974513\n",
      "Epoch 5/50\n",
      "40000/40000 [==============================] - 21s 527us/step - loss: 0.5368 - acc: 0.9055 - val_loss: 1.0749 - val_acc: 0.6811\n",
      "current learning rate: 0.0010000000474974513\n",
      "Epoch 6/50\n",
      "40000/40000 [==============================] - 21s 528us/step - loss: 0.4743 - acc: 0.9302 - val_loss: 1.1291 - val_acc: 0.6752\n",
      "current learning rate: 0.0010000000474974513\n",
      "Epoch 7/50\n",
      "40000/40000 [==============================] - 21s 529us/step - loss: 0.4363 - acc: 0.9455 - val_loss: 1.0728 - val_acc: 0.6997\n",
      "current learning rate: 0.0010000000474974513\n",
      "\n",
      "Epoch 00007: ReduceLROnPlateau reducing learning rate to 0.00020000000949949026.\n",
      "Epoch 8/50\n",
      "40000/40000 [==============================] - 21s 519us/step - loss: 0.3519 - acc: 0.9821 - val_loss: 0.9514 - val_acc: 0.7529\n",
      "current learning rate: 0.00020000000949949026\n",
      "Epoch 9/50\n",
      "40000/40000 [==============================] - 21s 522us/step - loss: 0.3276 - acc: 0.9933 - val_loss: 0.9429 - val_acc: 0.7553\n",
      "current learning rate: 0.00020000000949949026\n",
      "Epoch 8: Reached baseline, terminating training\n"
     ]
    },
    {
     "data": {
      "text/html": [
       "\n",
       "                <audio controls=\"controls\" autoplay=\"autoplay\">\n",
       "                    <source src=\"http://noproblo.dayjo.org/ZeldaSounds/TP/TP_Secret.wav\" type=\"audio/x-wav\" />\n",
       "                    Your browser does not support the audio element.\n",
       "                </audio>\n",
       "              "
      ],
      "text/plain": [
       "<IPython.lib.display.Audio object>"
      ]
     },
     "metadata": {},
     "output_type": "display_data"
    },
    {
     "data": {
      "image/png": "[encoded data removed]",
      "text/plain": [
       "<Figure size 432x288 with 1 Axes>"
      ]
     },
     "metadata": {
      "needs_background": "light"
     },
     "output_type": "display_data"
    }
   ],
   "source": [
    "train(model_name='vgg16_layca_1', lr=0.001, epochs=50, batch_size=128, validation_split=0.2, momentum=0.9, layca=True)#, lr_decay=True)"
   ]
  },
  {
   "cell_type": "code",
   "execution_count": 161,
   "metadata": {
    "collapsed": true
   },
   "outputs": [
    {
     "name": "stdout",
     "output_type": "stream",
     "text": [
      "Train on 40000 samples, validate on 10000 samples\n",
      "Epoch 1/50\n",
      "40000/40000 [==============================] - 34s 840us/step - loss: 1.6330 - acc: 0.4276 - val_loss: 1.5238 - val_acc: 0.4655\n",
      "current learning rate: 0.00039999998989515007\n",
      "Epoch 2/50\n",
      "40000/40000 [==============================] - 21s 521us/step - loss: 1.2217 - acc: 0.6091 - val_loss: 1.3083 - val_acc: 0.5805\n",
      "current learning rate: 0.00039999998989515007\n",
      "Epoch 3/50\n",
      "40000/40000 [==============================] - 21s 522us/step - loss: 0.9976 - acc: 0.7146 - val_loss: 1.3027 - val_acc: 0.5853\n",
      "current learning rate: 0.00039999998989515007\n",
      "Epoch 4/50\n",
      "40000/40000 [==============================] - 21s 533us/step - loss: 0.7969 - acc: 0.8159 - val_loss: 1.2215 - val_acc: 0.6318\n",
      "current learning rate: 0.00039999998989515007\n",
      "Epoch 5/50\n",
      "40000/40000 [==============================] - 21s 522us/step - loss: 0.6280 - acc: 0.8978 - val_loss: 1.2593 - val_acc: 0.6249\n",
      "current learning rate: 0.00039999998989515007\n",
      "Epoch 6/50\n",
      "40000/40000 [==============================] - 21s 527us/step - loss: 0.5104 - acc: 0.9494 - val_loss: 1.2419 - val_acc: 0.6303\n",
      "current learning rate: 0.00039999998989515007\n",
      "Epoch 7/50\n",
      "40000/40000 [==============================] - 21s 525us/step - loss: 0.4379 - acc: 0.9737 - val_loss: 1.3195 - val_acc: 0.6101\n",
      "current learning rate: 0.00039999998989515007\n",
      "\n",
      "Epoch 00007: ReduceLROnPlateau reducing learning rate to 7.999999797903001e-05.\n",
      "Epoch 8/50\n",
      "40000/40000 [==============================] - 21s 520us/step - loss: 0.3654 - acc: 0.9937 - val_loss: 1.1895 - val_acc: 0.6526\n",
      "current learning rate: 7.999999797903001e-05\n",
      "Epoch 7: Reached baseline, terminating training\n"
     ]
    },
    {
     "data": {
      "text/html": [
       "\n",
       "                <audio controls=\"controls\" autoplay=\"autoplay\">\n",
       "                    <source src=\"http://noproblo.dayjo.org/ZeldaSounds/TP/TP_Secret.wav\" type=\"audio/x-wav\" />\n",
       "                    Your browser does not support the audio element.\n",
       "                </audio>\n",
       "              "
      ],
      "text/plain": [
       "<IPython.lib.display.Audio object>"
      ]
     },
     "metadata": {},
     "output_type": "display_data"
    },
    {
     "data": {
      "image/png": "[encoded data removed]",
      "text/plain": [
       "<Figure size 432x288 with 1 Axes>"
      ]
     },
     "metadata": {
      "needs_background": "light"
     },
     "output_type": "display_data"
    }
   ],
   "source": [
    "train(model_name='vgg16_layca_0', lr=0.0004, epochs=50, batch_size=128, validation_split=0.2, momentum=0.9, layca=True)#, lr_decay=False)"
   ]
  },
  {
   "cell_type": "markdown",
   "metadata": {},
   "source": [
    "## Saving models"
   ]
  },
  {
   "cell_type": "code",
   "execution_count": 174,
   "metadata": {},
   "outputs": [],
   "source": [
    "for name, model in models.items():\n",
    "    model.save_weights(weights_path(simulation_id, name) + 'final/weights-final.hdf5')"
   ]
  },
  {
   "cell_type": "code",
   "execution_count": null,
   "metadata": {},
   "outputs": [],
   "source": [
    "model.save_weights(weights_path(simulation_id, name) + 'final/weights-final.hdf5')"
   ]
  }
 ],
 "metadata": {
  "kernelspec": {
   "display_name": "Python 3",
   "language": "python",
   "name": "python3"
  },
  "language_info": {
   "codemirror_mode": {
    "name": "ipython",
    "version": 3
   },
   "file_extension": ".py",
   "mimetype": "text/x-python",
   "name": "python",
   "nbconvert_exporter": "python",
   "pygments_lexer": "ipython3",
   "version": "3.5.2"
  }
 },
 "nbformat": 4,
 "nbformat_minor": 2
}
