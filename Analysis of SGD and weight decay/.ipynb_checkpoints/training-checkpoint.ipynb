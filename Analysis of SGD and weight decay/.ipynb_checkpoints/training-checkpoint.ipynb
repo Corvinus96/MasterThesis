{
 "cells": [
  {
   "cell_type": "markdown",
   "metadata": {},
   "source": [
    "# Notebook initialization"
   ]
  },
  {
   "cell_type": "markdown",
   "metadata": {},
   "source": [
    "## Selecting best GPU to execute on"
   ]
  },
  {
   "cell_type": "code",
   "execution_count": 1,
   "metadata": {},
   "outputs": [
    {
     "name": "stdout",
     "output_type": "stream",
     "text": [
      "setGPU: Setting GPU to: 0\n"
     ]
    }
   ],
   "source": [
    "import os\n",
    "os.environ['PYTHONHASHSEED'] = '0'\n",
    "import gpustat\n",
    "\n",
    "stats = gpustat.GPUStatCollection.new_query()\n",
    "ids = map(lambda gpu: int(gpu.entry['index']), stats)\n",
    "ratios = map(lambda gpu: float(gpu.entry['memory.used'])/float(gpu.entry['memory.total']), stats)\n",
    "bestGPU = 0#min(zip(ids, ratios), key=lambda x: x[1])[0]\n",
    "\n",
    "print(\"setGPU: Setting GPU to: {}\".format(bestGPU))\n",
    "os.environ['CUDA_DEVICE_ORDER'] = 'PCI_BUS_ID'\n",
    "os.environ['CUDA_VISIBLE_DEVICES'] = str(bestGPU)"
   ]
  },
  {
   "cell_type": "markdown",
   "metadata": {},
   "source": [
    "##  Global variables"
   ]
  },
  {
   "cell_type": "code",
   "execution_count": 2,
   "metadata": {},
   "outputs": [],
   "source": [
    "# IPython extension to reload modules before executing user code.\n",
    "# 'autoreload' reloads modules automatically before entering the execution of code typed at the IPython prompt.\n",
    "%load_ext autoreload\n",
    "%autoreload 2\n",
    "import sys\n",
    "sys.path.insert(0, \"../\")"
   ]
  },
  {
   "cell_type": "code",
   "execution_count": 3,
   "metadata": {},
   "outputs": [],
   "source": [
    "# with open('simulation_id.txt', 'r') as f:\n",
    "#     simulation_id = int(f.read())\n",
    "\n",
    "#with open('simulation_id.txt', 'w') as f:\n",
    " #   f.write(str(simulation_id))\n",
    "\n",
    "simulation_id = 4"
   ]
  },
  {
   "cell_type": "code",
   "execution_count": 4,
   "metadata": {},
   "outputs": [],
   "source": [
    "weights_path = lambda wid, name: '../weights/{}/{}/'.format(wid, name)\n",
    "figures_path = lambda name: 'figures/{}/{}/'.format(simulation_id, name)"
   ]
  },
  {
   "cell_type": "code",
   "execution_count": 5,
   "metadata": {},
   "outputs": [
    {
     "name": "stdout",
     "output_type": "stream",
     "text": [
      "4\n"
     ]
    }
   ],
   "source": [
    "print(simulation_id)\n",
    "import datetime"
   ]
  },
  {
   "cell_type": "markdown",
   "metadata": {},
   "source": [
    "## Seed initialization (for reproductible results)"
   ]
  },
  {
   "cell_type": "code",
   "execution_count": 6,
   "metadata": {},
   "outputs": [],
   "source": [
    "# Setting the seed for NumPy generated random numbers\n",
    "import numpy as np\n",
    "np.random.seed(0)\n",
    "\n",
    "# Setting the seed for Python random numbers\n",
    "import random as rn\n",
    "rn.seed(0)\n",
    "\n",
    "# Setting the seed for TensorFlow random numbers\n",
    "import tensorflow as tf\n",
    "tf.set_random_seed(0)\n",
    "\n",
    "#from keras.backend.tensorflow_backend import set_session\n",
    "#config = tf.ConfigProto()\n",
    "#config.gpu_options.per_process_gpu_memory_fraction = 0.5\n",
    "#set_session(tf.Session(config=config))"
   ]
  },
  {
   "cell_type": "markdown",
   "metadata": {},
   "source": [
    "# Importing packages"
   ]
  },
  {
   "cell_type": "markdown",
   "metadata": {},
   "source": [
    "## User defined packages"
   ]
  },
  {
   "cell_type": "code",
   "execution_count": 7,
   "metadata": {},
   "outputs": [
    {
     "name": "stderr",
     "output_type": "stream",
     "text": [
      "Using TensorFlow backend.\n"
     ]
    }
   ],
   "source": [
    "from data_utils import *\n",
    "from keras_utils import plot_layerwise_angle_deviation_curves, LayerwiseAngleDeviationCurves, LearningRateMonitor, TerminateOnBaseline, get_kernel_layer_names\n",
    "from models import VGG16_beta"
   ]
  },
  {
   "cell_type": "markdown",
   "metadata": {},
   "source": [
    "## Other packages"
   ]
  },
  {
   "cell_type": "code",
   "execution_count": 8,
   "metadata": {},
   "outputs": [],
   "source": [
    "from keras import optimizers\n",
    "from keras import callbacks\n",
    "from keras.models import clone_model\n",
    "from keras.callbacks import LearningRateScheduler, EarlyStopping, ReduceLROnPlateau, ModelCheckpoint\n",
    "from collections import defaultdict\n",
    "import scipy\n",
    "import matplotlib.pyplot as plt\n",
    "import pathlib\n",
    "import pickle\n",
    "from layca_optimizers import SGD"
   ]
  },
  {
   "cell_type": "markdown",
   "metadata": {},
   "source": [
    "# Initialization of the models"
   ]
  },
  {
   "cell_type": "code",
   "execution_count": 9,
   "metadata": {},
   "outputs": [],
   "source": [
    "num_classes = 10"
   ]
  },
  {
   "cell_type": "code",
   "execution_count": 10,
   "metadata": {},
   "outputs": [],
   "source": [
    "(x_train, y_train), (x_test, y_test) = import_cifar(num_classes)"
   ]
  },
  {
   "cell_type": "code",
   "execution_count": 11,
   "metadata": {},
   "outputs": [],
   "source": [
    "models = {  \n",
    "    #'vgg16_sgd_0':      VGG16_beta(input_shape=(32,32,3), num_classes=num_classes, weight_decay=0.0),\n",
    "    'vgg16_sgd_1':      VGG16_beta(input_shape=(32,32,3), num_classes=num_classes, weight_decay=0.0),\n",
    "    'vgg16_sgd_2':      VGG16_beta(input_shape=(32,32,3), num_classes=num_classes, weight_decay=0.0),\n",
    "    \n",
    "    #'vgg16_wdecay_0':   VGG16_beta(input_shape=(32,32,3), num_classes=num_classes, weight_decay=0.001),\n",
    "    #'vgg16_wdecay_1':   VGG16_beta(input_shape=(32,32,3), num_classes=num_classes, weight_decay=0.001),\n",
    "    #'vgg16_wdecay_2':   VGG16_beta(input_shape=(32,32,3), num_classes=num_classes, weight_decay=0.001),\n",
    "    \n",
    "    #'vgg16_layca_0':    VGG16_beta(input_shape=(32,32,3), num_classes=num_classes, weight_decay=0.0),\n",
    "    #'vgg16_layca_1':    VGG16_beta(input_shape=(32,32,3), num_classes=num_classes, weight_decay=0.0),\n",
    "    #'vgg16_layca_2':    VGG16_beta(input_shape=(32,32,3), num_classes=num_classes, weight_decay=0.0)\n",
    "} "
   ]
  },
  {
   "cell_type": "code",
   "execution_count": 12,
   "metadata": {},
   "outputs": [],
   "source": [
    "model_names = [name for name, model in models.items()]"
   ]
  },
  {
   "cell_type": "code",
   "execution_count": 13,
   "metadata": {},
   "outputs": [],
   "source": [
    "for name in model_names:\n",
    "    pathlib.Path(weights_path(simulation_id, name) + 'initial/').mkdir(parents=True, exist_ok=True) \n",
    "    pathlib.Path(weights_path(simulation_id, name) + 'final/').mkdir(parents=True, exist_ok=True) \n",
    "    pathlib.Path(weights_path(simulation_id, name) + 'byepoch/').mkdir(parents=True, exist_ok=True) \n",
    "    pathlib.Path(figures_path(name)).mkdir(parents=True, exist_ok=True)"
   ]
  },
  {
   "cell_type": "code",
   "execution_count": 19,
   "metadata": {},
   "outputs": [],
   "source": [
    "for name, model in models.items():\n",
    "    model.save_weights(weights_path(simulation_id, name) + 'initial/weights-initial.hdf5')"
   ]
  },
  {
   "cell_type": "markdown",
   "metadata": {},
   "source": [
    "# Training the models"
   ]
  },
  {
   "cell_type": "code",
   "execution_count": 21,
   "metadata": {},
   "outputs": [],
   "source": [
    "def train(model_name, lr, epochs, batch_size, validation_split, momentum, layca, lr_decay):  \n",
    "           \n",
    "    with open(weights_path(simulation_id, model_name) + 'parameters.pickle', 'wb') as handle:\n",
    "        pickle.dump({'date': datetime.datetime.now(),\n",
    "                     'lr': lr, \n",
    "                     'epochs': epochs,\n",
    "                     'batch_size': batch_size,\n",
    "                     'validation_split': validation_split,\n",
    "                     'momentum': momentum\n",
    "                    }, handle, protocol=pickle.HIGHEST_PROTOCOL)\n",
    "    \n",
    "    model = models[model_name]\n",
    "    model.load_weights(weights_path(simulation_id, model_name) + 'initial/weights-initial.hdf5') \n",
    "    \n",
    "    ladc = LayerwiseAngleDeviationCurves()\n",
    "    callbacks = [ladc]\n",
    "    if lr_decay:\n",
    "        callbacks += [ReduceLROnPlateau(monitor='val_loss', factor=0.2, patience=5, min_delta=1e-1)]\n",
    "    callbacks += [LearningRateMonitor()]\n",
    "    callbacks += [TerminateOnBaseline(monitor='acc', baseline=1.0)]\n",
    "    callbacks += [EarlyStopping(monitor='val_loss', min_delta=1e-3, patience=5)]\n",
    "    callbacks += [ModelCheckpoint(weights_path(simulation_id, model_name) + 'byepoch/weights-{epoch:02d}.hdf5', save_weights_only=True)]\n",
    "    \n",
    "    # Optimization details\n",
    "    sgd = SGD(lr=lr, momentum=momentum, nesterov=True, layca=layca)\n",
    "    model.compile(loss='categorical_crossentropy', optimizer=sgd, metrics=['accuracy'])\n",
    "    \n",
    "    hist = model.fit(x=x_train, \n",
    "                     y=y_train,\n",
    "                     validation_split=validation_split,\n",
    "                     batch_size=batch_size, \n",
    "                     epochs=epochs, \n",
    "                     verbose=1, \n",
    "                     callbacks=callbacks)\n",
    "    \n",
    "    with open(weights_path(simulation_id, model_name) + 'history.pickle', 'wb') as handle:\n",
    "        pickle.dump(hist.history, handle, protocol=pickle.HIGHEST_PROTOCOL)\n",
    "    \n",
    "    fig, ax = plt.subplots(nrows=1, ncols=1)\n",
    "    plot_layerwise_angle_deviation_curves(ladc.memory, ax)\n",
    "    fig.savefig(figures_path(model_name) + 'cosine_dist.png', dpi=100)"
   ]
  },
  {
   "cell_type": "markdown",
   "metadata": {},
   "source": [
    "## SGD"
   ]
  },
  {
   "cell_type": "code",
   "execution_count": 22,
   "metadata": {
    "collapsed": true
   },
   "outputs": [
    {
     "name": "stdout",
     "output_type": "stream",
     "text": [
      "Train on 40000 samples, validate on 10000 samples\n",
      "Epoch 1/50\n",
      "40000/40000 [==============================] - 25s 617us/step - loss: 1.6408 - acc: 0.3972 - val_loss: 1.6137 - val_acc: 0.4316\n",
      "current learning rate: 0.03999999910593033\n",
      "Epoch 2/50\n",
      "40000/40000 [==============================] - 23s 584us/step - loss: 1.2067 - acc: 0.6049 - val_loss: 1.1944 - val_acc: 0.6149\n",
      "current learning rate: 0.03999999910593033\n",
      "Epoch 3/50\n",
      "40000/40000 [==============================] - 23s 584us/step - loss: 1.0157 - acc: 0.6931 - val_loss: 0.9920 - val_acc: 0.7035\n",
      "current learning rate: 0.03999999910593033\n",
      "Epoch 4/50\n",
      "40000/40000 [==============================] - 23s 585us/step - loss: 0.8891 - acc: 0.7510 - val_loss: 1.0070 - val_acc: 0.7029\n",
      "current learning rate: 0.03999999910593033\n",
      "Epoch 5/50\n",
      "40000/40000 [==============================] - 24s 588us/step - loss: 0.7971 - acc: 0.7925 - val_loss: 0.8393 - val_acc: 0.7633\n",
      "current learning rate: 0.03999999910593033\n",
      "Epoch 6/50\n",
      "40000/40000 [==============================] - 23s 586us/step - loss: 0.7221 - acc: 0.8262 - val_loss: 0.7908 - val_acc: 0.7825\n",
      "current learning rate: 0.03999999910593033\n",
      "Epoch 7/50\n",
      "40000/40000 [==============================] - 24s 588us/step - loss: 0.6674 - acc: 0.8501 - val_loss: 0.8390 - val_acc: 0.7676\n",
      "current learning rate: 0.03999999910593033\n",
      "Epoch 8/50\n",
      "40000/40000 [==============================] - 23s 587us/step - loss: 0.6129 - acc: 0.8759 - val_loss: 0.7752 - val_acc: 0.8035\n",
      "current learning rate: 0.03999999910593033\n",
      "Epoch 9/50\n",
      "40000/40000 [==============================] - 24s 591us/step - loss: 0.5724 - acc: 0.8930 - val_loss: 0.7759 - val_acc: 0.7947\n",
      "current learning rate: 0.03999999910593033\n",
      "Epoch 10/50\n",
      "40000/40000 [==============================] - 24s 590us/step - loss: 0.5256 - acc: 0.9132 - val_loss: 0.8833 - val_acc: 0.7741\n",
      "current learning rate: 0.007999999448657036\n",
      "Epoch 11/50\n",
      "40000/40000 [==============================] - 24s 594us/step - loss: 0.4236 - acc: 0.9600 - val_loss: 0.6737 - val_acc: 0.8541\n",
      "current learning rate: 0.007999999448657036\n",
      "Epoch 12/50\n",
      "40000/40000 [==============================] - 23s 586us/step - loss: 0.3871 - acc: 0.9779 - val_loss: 0.6899 - val_acc: 0.8466\n",
      "current learning rate: 0.007999999448657036\n",
      "Epoch 13/50\n",
      "40000/40000 [==============================] - 24s 590us/step - loss: 0.3739 - acc: 0.9838 - val_loss: 0.6740 - val_acc: 0.8543\n",
      "current learning rate: 0.007999999448657036\n",
      "Epoch 14/50\n",
      "40000/40000 [==============================] - 24s 591us/step - loss: 0.3637 - acc: 0.9878 - val_loss: 0.6713 - val_acc: 0.8567\n",
      "current learning rate: 0.007999999448657036\n",
      "Epoch 15/50\n",
      "40000/40000 [==============================] - 24s 590us/step - loss: 0.3555 - acc: 0.9906 - val_loss: 0.6847 - val_acc: 0.8566\n",
      "current learning rate: 0.007999999448657036\n",
      "Epoch 16/50\n",
      "40000/40000 [==============================] - 24s 589us/step - loss: 0.3490 - acc: 0.9927 - val_loss: 0.6951 - val_acc: 0.8509\n",
      "current learning rate: 0.0015999998431652784\n",
      "Epoch 17/50\n",
      "40000/40000 [==============================] - 24s 591us/step - loss: 0.3451 - acc: 0.9946 - val_loss: 0.6789 - val_acc: 0.8571\n",
      "current learning rate: 0.0015999998431652784\n",
      "Epoch 18/50\n",
      "40000/40000 [==============================] - 23s 586us/step - loss: 0.3438 - acc: 0.9950 - val_loss: 0.6789 - val_acc: 0.8572\n",
      "current learning rate: 0.0015999998431652784\n",
      "Epoch 19/50\n",
      "40000/40000 [==============================] - 24s 592us/step - loss: 0.3417 - acc: 0.9952 - val_loss: 0.6806 - val_acc: 0.8581\n",
      "current learning rate: 0.0015999998431652784\n"
     ]
    },
    {
     "data": {
      "image/png": "[encoded data removed]",
      "text/plain": [
       "<Figure size 432x288 with 1 Axes>"
      ]
     },
     "metadata": {
      "needs_background": "light"
     },
     "output_type": "display_data"
    }
   ],
   "source": [
    "train(model_name='vgg16_sgd_2', lr=0.04, epochs=50, batch_size=64, validation_split=0.2, momentum=0.9, layca=False, lr_decay=True)"
   ]
  },
  {
   "cell_type": "code",
   "execution_count": 17,
   "metadata": {
    "collapsed": true
   },
   "outputs": [
    {
     "name": "stdout",
     "output_type": "stream",
     "text": [
      "Train on 40000 samples, validate on 10000 samples\n",
      "Epoch 1/50\n",
      "40000/40000 [==============================] - 14s 349us/step - loss: 1.5150 - acc: 0.4778 - val_loss: 2.2031 - val_acc: 0.2045\n",
      "current learning rate: 0.009999999776482582\n",
      "Epoch 2/50\n",
      "40000/40000 [==============================] - 11s 283us/step - loss: 1.1119 - acc: 0.6556 - val_loss: 2.0678 - val_acc: 0.2717\n",
      "current learning rate: 0.009999999776482582\n",
      "Epoch 3/50\n",
      "40000/40000 [==============================] - 11s 282us/step - loss: 0.9074 - acc: 0.7479 - val_loss: 1.5481 - val_acc: 0.5104\n",
      "current learning rate: 0.009999999776482582\n",
      "Epoch 4/50\n",
      "40000/40000 [==============================] - 11s 282us/step - loss: 0.7360 - acc: 0.8301 - val_loss: 1.3277 - val_acc: 0.6080\n",
      "current learning rate: 0.009999999776482582\n",
      "Epoch 5/50\n",
      "40000/40000 [==============================] - 11s 283us/step - loss: 0.5943 - acc: 0.8946 - val_loss: 1.3909 - val_acc: 0.5734\n",
      "current learning rate: 0.009999999776482582\n",
      "Epoch 6/50\n",
      "40000/40000 [==============================] - 11s 284us/step - loss: 0.4798 - acc: 0.9454 - val_loss: 1.1724 - val_acc: 0.6721\n",
      "current learning rate: 0.009999999776482582\n",
      "Epoch 7/50\n",
      "40000/40000 [==============================] - 11s 283us/step - loss: 0.3960 - acc: 0.9742 - val_loss: 1.1132 - val_acc: 0.6781\n",
      "current learning rate: 0.009999999776482582\n",
      "Epoch 8/50\n",
      "40000/40000 [==============================] - 11s 284us/step - loss: 0.3439 - acc: 0.9899 - val_loss: 1.0118 - val_acc: 0.7138\n",
      "current learning rate: 0.009999999776482582\n",
      "Epoch 9/50\n",
      "40000/40000 [==============================] - 11s 284us/step - loss: 0.3180 - acc: 0.9950 - val_loss: 1.0073 - val_acc: 0.7183\n",
      "current learning rate: 0.009999999776482582\n",
      "Epoch 10/50\n",
      "40000/40000 [==============================] - 12s 288us/step - loss: 0.3013 - acc: 0.9980 - val_loss: 0.9193 - val_acc: 0.7518\n",
      "current learning rate: 0.009999999776482582\n",
      "Epoch 11/50\n",
      "40000/40000 [==============================] - 11s 285us/step - loss: 0.2946 - acc: 0.9989 - val_loss: 0.9921 - val_acc: 0.7261\n",
      "current learning rate: 0.009999999776482582\n",
      "Epoch 12/50\n",
      "40000/40000 [==============================] - 11s 287us/step - loss: 0.2931 - acc: 0.9992 - val_loss: 0.9282 - val_acc: 0.7534\n",
      "current learning rate: 0.009999999776482582\n",
      "Epoch 13/50\n",
      "40000/40000 [==============================] - 12s 289us/step - loss: 0.2910 - acc: 0.9993 - val_loss: 0.9322 - val_acc: 0.7504\n",
      "current learning rate: 0.009999999776482582\n",
      "Epoch 14/50\n",
      "40000/40000 [==============================] - 12s 289us/step - loss: 0.2901 - acc: 0.9995 - val_loss: 0.9549 - val_acc: 0.7477\n",
      "current learning rate: 0.009999999776482582\n",
      "Epoch 15/50\n",
      "40000/40000 [==============================] - 12s 288us/step - loss: 0.2906 - acc: 0.9995 - val_loss: 0.9476 - val_acc: 0.7486\n",
      "current learning rate: 0.001999999862164259\n"
     ]
    },
    {
     "data": {
      "image/png": "[encoded data removed]",
      "text/plain": [
       "<Figure size 432x288 with 1 Axes>"
      ]
     },
     "metadata": {
      "needs_background": "light"
     },
     "output_type": "display_data"
    }
   ],
   "source": [
    "train(model_name='vgg16_sgd_1', lr=0.01, epochs=50, batch_size=512, validation_split=0.2, momentum=0.9, layca=False, lr_decay=True)"
   ]
  },
  {
   "cell_type": "code",
   "execution_count": 56,
   "metadata": {
    "collapsed": true
   },
   "outputs": [
    {
     "name": "stdout",
     "output_type": "stream",
     "text": [
      "Train on 40000 samples, validate on 10000 samples\n",
      "Epoch 1/50\n",
      "40000/40000 [==============================] - 19s 466us/step - loss: 1.6161 - acc: 0.4317 - val_loss: 1.4466 - val_acc: 0.5005\n",
      "current learning rate: 0.0010000000474974513\n",
      "Epoch 2/50\n",
      "  768/40000 [..............................] - ETA: 18s - loss: 1.3213 - acc: 0.5625"
     ]
    },
    {
     "name": "stderr",
     "output_type": "stream",
     "text": [
      "/linux/mnovak/penv/lib/python3.5/site-packages/keras/callbacks.py:122: UserWarning: Method on_batch_end() is slow compared to the batch update (0.104832). Check your callbacks.\n",
      "  % delta_t_median)\n"
     ]
    },
    {
     "name": "stdout",
     "output_type": "stream",
     "text": [
      "40000/40000 [==============================] - 14s 340us/step - loss: 1.2663 - acc: 0.5913 - val_loss: 1.3469 - val_acc: 0.5472\n",
      "current learning rate: 0.0010000000474974513\n",
      "Epoch 3/50\n",
      "  768/40000 [..............................] - ETA: 18s - loss: 1.1032 - acc: 0.6693"
     ]
    },
    {
     "name": "stderr",
     "output_type": "stream",
     "text": [
      "/linux/mnovak/penv/lib/python3.5/site-packages/keras/callbacks.py:122: UserWarning: Method on_batch_end() is slow compared to the batch update (0.109268). Check your callbacks.\n",
      "  % delta_t_median)\n"
     ]
    },
    {
     "name": "stdout",
     "output_type": "stream",
     "text": [
      "40000/40000 [==============================] - 14s 343us/step - loss: 1.0866 - acc: 0.6777 - val_loss: 1.2216 - val_acc: 0.6155\n",
      "current learning rate: 0.0010000000474974513\n",
      "Epoch 4/50\n",
      "  768/40000 [..............................] - ETA: 18s - loss: 0.9118 - acc: 0.7617"
     ]
    },
    {
     "name": "stderr",
     "output_type": "stream",
     "text": [
      "/linux/mnovak/penv/lib/python3.5/site-packages/keras/callbacks.py:122: UserWarning: Method on_batch_end() is slow compared to the batch update (0.107516). Check your callbacks.\n",
      "  % delta_t_median)\n"
     ]
    },
    {
     "name": "stdout",
     "output_type": "stream",
     "text": [
      "40000/40000 [==============================] - 14s 348us/step - loss: 0.9296 - acc: 0.7598 - val_loss: 1.2394 - val_acc: 0.6173\n",
      "current learning rate: 0.0010000000474974513\n",
      "Epoch 5/50\n",
      "  768/40000 [..............................] - ETA: 18s - loss: 0.8265 - acc: 0.8060"
     ]
    },
    {
     "name": "stderr",
     "output_type": "stream",
     "text": [
      "/linux/mnovak/penv/lib/python3.5/site-packages/keras/callbacks.py:122: UserWarning: Method on_batch_end() is slow compared to the batch update (0.107969). Check your callbacks.\n",
      "  % delta_t_median)\n"
     ]
    },
    {
     "name": "stdout",
     "output_type": "stream",
     "text": [
      "40000/40000 [==============================] - 14s 342us/step - loss: 0.7782 - acc: 0.8430 - val_loss: 1.2282 - val_acc: 0.6336\n",
      "current learning rate: 0.0010000000474974513\n",
      "Epoch 6/50\n",
      "  768/40000 [..............................] - ETA: 18s - loss: 0.6500 - acc: 0.9167"
     ]
    },
    {
     "name": "stderr",
     "output_type": "stream",
     "text": [
      "/linux/mnovak/penv/lib/python3.5/site-packages/keras/callbacks.py:122: UserWarning: Method on_batch_end() is slow compared to the batch update (0.105749). Check your callbacks.\n",
      "  % delta_t_median)\n"
     ]
    },
    {
     "name": "stdout",
     "output_type": "stream",
     "text": [
      "40000/40000 [==============================] - 14s 342us/step - loss: 0.6402 - acc: 0.9192 - val_loss: 1.2645 - val_acc: 0.6201\n",
      "current learning rate: 0.0010000000474974513\n",
      "Epoch 7/50\n",
      "  768/40000 [..............................] - ETA: 17s - loss: 0.5371 - acc: 0.9688"
     ]
    },
    {
     "name": "stderr",
     "output_type": "stream",
     "text": [
      "/linux/mnovak/penv/lib/python3.5/site-packages/keras/callbacks.py:122: UserWarning: Method on_batch_end() is slow compared to the batch update (0.104169). Check your callbacks.\n",
      "  % delta_t_median)\n"
     ]
    },
    {
     "name": "stdout",
     "output_type": "stream",
     "text": [
      "40000/40000 [==============================] - 14s 341us/step - loss: 0.5282 - acc: 0.9689 - val_loss: 1.2415 - val_acc: 0.6460\n",
      "current learning rate: 0.0010000000474974513\n",
      "Epoch 8/50\n",
      "  768/40000 [..............................] - ETA: 18s - loss: 0.4473 - acc: 0.9909"
     ]
    },
    {
     "name": "stderr",
     "output_type": "stream",
     "text": [
      "/linux/mnovak/penv/lib/python3.5/site-packages/keras/callbacks.py:122: UserWarning: Method on_batch_end() is slow compared to the batch update (0.108292). Check your callbacks.\n",
      "  % delta_t_median)\n"
     ]
    },
    {
     "name": "stdout",
     "output_type": "stream",
     "text": [
      "40000/40000 [==============================] - 14s 342us/step - loss: 0.4558 - acc: 0.9894 - val_loss: 1.2240 - val_acc: 0.6498\n",
      "current learning rate: 0.0010000000474974513\n"
     ]
    },
    {
     "data": {
      "image/png": "[encoded data removed]",
      "text/plain": [
       "<Figure size 432x288 with 1 Axes>"
      ]
     },
     "metadata": {
      "needs_background": "light"
     },
     "output_type": "display_data"
    }
   ],
   "source": [
    "train(model_name='vgg16_sgd_0', lr=0.001, epochs=50, batch_size=256, validation_split=0.2, momentum=0.9, layca=False, lr_decay=False)"
   ]
  },
  {
   "cell_type": "markdown",
   "metadata": {},
   "source": [
    "## Weight decay"
   ]
  },
  {
   "cell_type": "code",
   "execution_count": 26,
   "metadata": {
    "collapsed": true
   },
   "outputs": [
    {
     "name": "stdout",
     "output_type": "stream",
     "text": [
      "Train on 40000 samples, validate on 10000 samples\n",
      "Epoch 1/50\n",
      "40000/40000 [==============================] - 29s 719us/step - loss: 5.7659 - acc: 0.3208 - val_loss: 4.6492 - val_acc: 0.1635\n",
      "current learning rate: 0.05000000074505806\n",
      "Epoch 2/50\n",
      "  256/40000 [..............................] - ETA: 42s - loss: 3.5678 - acc: 0.4609"
     ]
    },
    {
     "name": "stderr",
     "output_type": "stream",
     "text": [
      "/linux/mnovak/penv/lib/python3.5/site-packages/keras/callbacks.py:122: UserWarning: Method on_batch_end() is slow compared to the batch update (0.107369). Check your callbacks.\n",
      "  % delta_t_median)\n"
     ]
    },
    {
     "name": "stdout",
     "output_type": "stream",
     "text": [
      "40000/40000 [==============================] - 26s 648us/step - loss: 2.5894 - acc: 0.5535 - val_loss: 2.6356 - val_acc: 0.3494\n",
      "current learning rate: 0.05000000074505806\n",
      "Epoch 3/50\n",
      "40000/40000 [==============================] - 26s 652us/step - loss: 1.6802 - acc: 0.6444 - val_loss: 2.2045 - val_acc: 0.4218\n",
      "current learning rate: 0.05000000074505806\n",
      "Epoch 4/50\n",
      "40000/40000 [==============================] - 27s 665us/step - loss: 1.4094 - acc: 0.6938 - val_loss: 1.6410 - val_acc: 0.5931\n",
      "current learning rate: 0.05000000074505806\n",
      "Epoch 5/50\n",
      "  256/40000 [..............................] - ETA: 42s - loss: 1.3768 - acc: 0.6562"
     ]
    },
    {
     "name": "stderr",
     "output_type": "stream",
     "text": [
      "/linux/mnovak/penv/lib/python3.5/site-packages/keras/callbacks.py:122: UserWarning: Method on_batch_end() is slow compared to the batch update (0.108239). Check your callbacks.\n",
      "  % delta_t_median)\n"
     ]
    },
    {
     "name": "stdout",
     "output_type": "stream",
     "text": [
      "40000/40000 [==============================] - 27s 669us/step - loss: 1.3172 - acc: 0.7200 - val_loss: 1.6814 - val_acc: 0.5820\n",
      "current learning rate: 0.05000000074505806\n",
      "Epoch 6/50\n",
      "40000/40000 [==============================] - 27s 670us/step - loss: 1.2925 - acc: 0.7302 - val_loss: 1.8946 - val_acc: 0.5078\n",
      "current learning rate: 0.05000000074505806\n",
      "Epoch 7/50\n",
      "  384/40000 [..............................] - ETA: 34s - loss: 1.2201 - acc: 0.7839"
     ]
    },
    {
     "name": "stderr",
     "output_type": "stream",
     "text": [
      "/linux/mnovak/penv/lib/python3.5/site-packages/keras/callbacks.py:122: UserWarning: Method on_batch_end() is slow compared to the batch update (0.101733). Check your callbacks.\n",
      "  % delta_t_median)\n"
     ]
    },
    {
     "name": "stdout",
     "output_type": "stream",
     "text": [
      "40000/40000 [==============================] - 27s 672us/step - loss: 1.2705 - acc: 0.7448 - val_loss: 1.5491 - val_acc: 0.6457\n",
      "current learning rate: 0.05000000074505806\n",
      "Epoch 8/50\n",
      "40000/40000 [==============================] - 27s 675us/step - loss: 1.2667 - acc: 0.7539 - val_loss: 1.6521 - val_acc: 0.6144\n",
      "current learning rate: 0.05000000074505806\n",
      "Epoch 9/50\n",
      "  384/40000 [..............................] - ETA: 34s - loss: 1.2505 - acc: 0.7318"
     ]
    },
    {
     "name": "stderr",
     "output_type": "stream",
     "text": [
      "/linux/mnovak/penv/lib/python3.5/site-packages/keras/callbacks.py:122: UserWarning: Method on_batch_end() is slow compared to the batch update (0.101367). Check your callbacks.\n",
      "  % delta_t_median)\n"
     ]
    },
    {
     "name": "stdout",
     "output_type": "stream",
     "text": [
      "40000/40000 [==============================] - 27s 677us/step - loss: 1.2661 - acc: 0.7548 - val_loss: 1.5533 - val_acc: 0.6362\n",
      "current learning rate: 0.05000000074505806\n",
      "Epoch 10/50\n",
      "  384/40000 [..............................] - ETA: 35s - loss: 1.3022 - acc: 0.7422"
     ]
    },
    {
     "name": "stderr",
     "output_type": "stream",
     "text": [
      "/linux/mnovak/penv/lib/python3.5/site-packages/keras/callbacks.py:122: UserWarning: Method on_batch_end() is slow compared to the batch update (0.104741). Check your callbacks.\n",
      "  % delta_t_median)\n"
     ]
    },
    {
     "name": "stdout",
     "output_type": "stream",
     "text": [
      "40000/40000 [==============================] - 27s 677us/step - loss: 1.2527 - acc: 0.7633 - val_loss: 1.6642 - val_acc: 0.5945\n",
      "current learning rate: 0.05000000074505806\n",
      "Epoch 11/50\n",
      "  256/40000 [..............................] - ETA: 41s - loss: 1.1122 - acc: 0.8281"
     ]
    },
    {
     "name": "stderr",
     "output_type": "stream",
     "text": [
      "/linux/mnovak/penv/lib/python3.5/site-packages/keras/callbacks.py:122: UserWarning: Method on_batch_end() is slow compared to the batch update (0.105642). Check your callbacks.\n",
      "  % delta_t_median)\n"
     ]
    },
    {
     "name": "stdout",
     "output_type": "stream",
     "text": [
      "40000/40000 [==============================] - 27s 678us/step - loss: 1.2520 - acc: 0.7667 - val_loss: 1.5748 - val_acc: 0.6276\n",
      "current learning rate: 0.05000000074505806\n",
      "Epoch 12/50\n",
      "40000/40000 [==============================] - 27s 682us/step - loss: 1.2478 - acc: 0.7696 - val_loss: 1.6532 - val_acc: 0.6170\n",
      "current learning rate: 0.009999999776482582\n",
      "Epoch 13/50\n",
      "  384/40000 [..............................] - ETA: 35s - loss: 1.2840 - acc: 0.7839"
     ]
    },
    {
     "name": "stderr",
     "output_type": "stream",
     "text": [
      "/linux/mnovak/penv/lib/python3.5/site-packages/keras/callbacks.py:122: UserWarning: Method on_batch_end() is slow compared to the batch update (0.107378). Check your callbacks.\n",
      "  % delta_t_median)\n"
     ]
    },
    {
     "name": "stdout",
     "output_type": "stream",
     "text": [
      "40000/40000 [==============================] - 27s 676us/step - loss: 1.0234 - acc: 0.8540 - val_loss: 1.0728 - val_acc: 0.8263\n",
      "current learning rate: 0.009999999776482582\n",
      "Epoch 14/50\n",
      "  256/40000 [..............................] - ETA: 42s - loss: 0.9276 - acc: 0.8984 "
     ]
    },
    {
     "name": "stderr",
     "output_type": "stream",
     "text": [
      "/linux/mnovak/penv/lib/python3.5/site-packages/keras/callbacks.py:122: UserWarning: Method on_batch_end() is slow compared to the batch update (0.103826). Check your callbacks.\n",
      "  % delta_t_median)\n"
     ]
    },
    {
     "name": "stdout",
     "output_type": "stream",
     "text": [
      "40000/40000 [==============================] - 27s 682us/step - loss: 0.8873 - acc: 0.8871 - val_loss: 1.0792 - val_acc: 0.8028\n",
      "current learning rate: 0.009999999776482582\n",
      "Epoch 15/50\n",
      "  384/40000 [..............................] - ETA: 35s - loss: 0.8041 - acc: 0.9167"
     ]
    },
    {
     "name": "stderr",
     "output_type": "stream",
     "text": [
      "/linux/mnovak/penv/lib/python3.5/site-packages/keras/callbacks.py:122: UserWarning: Method on_batch_end() is slow compared to the batch update (0.102050). Check your callbacks.\n",
      "  % delta_t_median)\n"
     ]
    },
    {
     "name": "stdout",
     "output_type": "stream",
     "text": [
      "40000/40000 [==============================] - 27s 673us/step - loss: 0.8347 - acc: 0.8950 - val_loss: 1.0837 - val_acc: 0.7869\n",
      "current learning rate: 0.009999999776482582\n",
      "Epoch 16/50\n",
      "40000/40000 [==============================] - 27s 680us/step - loss: 0.8062 - acc: 0.9003 - val_loss: 0.9856 - val_acc: 0.8146\n",
      "current learning rate: 0.009999999776482582\n",
      "Epoch 17/50\n",
      "  256/40000 [..............................] - ETA: 42s - loss: 0.7804 - acc: 0.9102"
     ]
    },
    {
     "name": "stderr",
     "output_type": "stream",
     "text": [
      "/linux/mnovak/penv/lib/python3.5/site-packages/keras/callbacks.py:122: UserWarning: Method on_batch_end() is slow compared to the batch update (0.100774). Check your callbacks.\n",
      "  % delta_t_median)\n"
     ]
    },
    {
     "name": "stdout",
     "output_type": "stream",
     "text": [
      "40000/40000 [==============================] - 27s 680us/step - loss: 0.7920 - acc: 0.9025 - val_loss: 1.0779 - val_acc: 0.7867\n",
      "current learning rate: 0.009999999776482582\n",
      "Epoch 18/50\n",
      "  256/40000 [..............................] - ETA: 42s - loss: 0.8106 - acc: 0.8867"
     ]
    },
    {
     "name": "stderr",
     "output_type": "stream",
     "text": [
      "/linux/mnovak/penv/lib/python3.5/site-packages/keras/callbacks.py:122: UserWarning: Method on_batch_end() is slow compared to the batch update (0.105224). Check your callbacks.\n",
      "  % delta_t_median)\n"
     ]
    },
    {
     "name": "stdout",
     "output_type": "stream",
     "text": [
      "40000/40000 [==============================] - 27s 679us/step - loss: 0.7865 - acc: 0.9037 - val_loss: 1.2286 - val_acc: 0.7411\n",
      "current learning rate: 0.009999999776482582\n",
      "Epoch 19/50\n",
      "40000/40000 [==============================] - 27s 679us/step - loss: 0.7830 - acc: 0.9073 - val_loss: 1.1561 - val_acc: 0.7599\n",
      "current learning rate: 0.009999999776482582\n",
      "Epoch 20/50\n",
      "40000/40000 [==============================] - 27s 682us/step - loss: 0.7801 - acc: 0.9099 - val_loss: 1.1397 - val_acc: 0.7660\n",
      "current learning rate: 0.009999999776482582\n",
      "Epoch 21/50\n",
      "40000/40000 [==============================] - 27s 681us/step - loss: 0.7777 - acc: 0.9140 - val_loss: 1.0407 - val_acc: 0.7988\n",
      "current learning rate: 0.001999999862164259\n",
      "Epoch 22/50\n",
      "  384/40000 [..............................] - ETA: 35s - loss: 0.7956 - acc: 0.9141"
     ]
    },
    {
     "name": "stderr",
     "output_type": "stream",
     "text": [
      "/linux/mnovak/penv/lib/python3.5/site-packages/keras/callbacks.py:122: UserWarning: Method on_batch_end() is slow compared to the batch update (0.109606). Check your callbacks.\n",
      "  % delta_t_median)\n"
     ]
    },
    {
     "name": "stdout",
     "output_type": "stream",
     "text": [
      "40000/40000 [==============================] - 27s 681us/step - loss: 0.6616 - acc: 0.9640 - val_loss: 0.8701 - val_acc: 0.8733\n",
      "current learning rate: 0.001999999862164259\n",
      "Epoch 23/50\n",
      "  256/40000 [..............................] - ETA: 42s - loss: 0.5764 - acc: 1.0000"
     ]
    },
    {
     "name": "stderr",
     "output_type": "stream",
     "text": [
      "/linux/mnovak/penv/lib/python3.5/site-packages/keras/callbacks.py:122: UserWarning: Method on_batch_end() is slow compared to the batch update (0.103662). Check your callbacks.\n",
      "  % delta_t_median)\n"
     ]
    },
    {
     "name": "stdout",
     "output_type": "stream",
     "text": [
      "40000/40000 [==============================] - 27s 679us/step - loss: 0.6104 - acc: 0.9827 - val_loss: 0.8659 - val_acc: 0.8736\n",
      "current learning rate: 0.001999999862164259\n",
      "Epoch 24/50\n",
      "  384/40000 [..............................] - ETA: 35s - loss: 0.6244 - acc: 0.9870"
     ]
    },
    {
     "name": "stderr",
     "output_type": "stream",
     "text": [
      "/linux/mnovak/penv/lib/python3.5/site-packages/keras/callbacks.py:122: UserWarning: Method on_batch_end() is slow compared to the batch update (0.100377). Check your callbacks.\n",
      "  % delta_t_median)\n"
     ]
    },
    {
     "name": "stdout",
     "output_type": "stream",
     "text": [
      "40000/40000 [==============================] - 27s 677us/step - loss: 0.5880 - acc: 0.9886 - val_loss: 0.8513 - val_acc: 0.8725\n",
      "current learning rate: 0.001999999862164259\n",
      "Epoch 25/50\n",
      "  256/40000 [..............................] - ETA: 43s - loss: 0.5611 - acc: 0.9922 "
     ]
    },
    {
     "name": "stderr",
     "output_type": "stream",
     "text": [
      "/linux/mnovak/penv/lib/python3.5/site-packages/keras/callbacks.py:122: UserWarning: Method on_batch_end() is slow compared to the batch update (0.113825). Check your callbacks.\n",
      "  % delta_t_median)\n"
     ]
    },
    {
     "name": "stdout",
     "output_type": "stream",
     "text": [
      "40000/40000 [==============================] - 27s 682us/step - loss: 0.5702 - acc: 0.9908 - val_loss: 0.8771 - val_acc: 0.8623\n",
      "current learning rate: 0.001999999862164259\n",
      "Epoch 26/50\n",
      "  384/40000 [..............................] - ETA: 34s - loss: 0.5603 - acc: 0.9870"
     ]
    },
    {
     "name": "stderr",
     "output_type": "stream",
     "text": [
      "/linux/mnovak/penv/lib/python3.5/site-packages/keras/callbacks.py:122: UserWarning: Method on_batch_end() is slow compared to the batch update (0.101767). Check your callbacks.\n",
      "  % delta_t_median)\n"
     ]
    },
    {
     "name": "stdout",
     "output_type": "stream",
     "text": [
      "40000/40000 [==============================] - 27s 678us/step - loss: 0.5563 - acc: 0.9929 - val_loss: 0.8321 - val_acc: 0.8774\n",
      "current learning rate: 0.001999999862164259\n",
      "Epoch 27/50\n",
      "40000/40000 [==============================] - 27s 685us/step - loss: 0.5440 - acc: 0.9938 - val_loss: 0.8307 - val_acc: 0.8740\n",
      "current learning rate: 0.001999999862164259\n",
      "Epoch 28/50\n",
      "40000/40000 [==============================] - 27s 682us/step - loss: 0.5347 - acc: 0.9947 - val_loss: 0.8503 - val_acc: 0.8660\n",
      "current learning rate: 0.001999999862164259\n",
      "Epoch 29/50\n",
      "  384/40000 [..............................] - ETA: 36s - loss: 0.5474 - acc: 0.9974"
     ]
    },
    {
     "name": "stderr",
     "output_type": "stream",
     "text": [
      "/linux/mnovak/penv/lib/python3.5/site-packages/keras/callbacks.py:122: UserWarning: Method on_batch_end() is slow compared to the batch update (0.105104). Check your callbacks.\n",
      "  % delta_t_median)\n"
     ]
    },
    {
     "name": "stdout",
     "output_type": "stream",
     "text": [
      "40000/40000 [==============================] - 27s 675us/step - loss: 0.5225 - acc: 0.9948 - val_loss: 0.8268 - val_acc: 0.8713\n",
      "current learning rate: 0.001999999862164259\n",
      "Epoch 30/50\n",
      "  384/40000 [..............................] - ETA: 35s - loss: 0.5317 - acc: 0.9974"
     ]
    },
    {
     "name": "stderr",
     "output_type": "stream",
     "text": [
      "/linux/mnovak/penv/lib/python3.5/site-packages/keras/callbacks.py:122: UserWarning: Method on_batch_end() is slow compared to the batch update (0.102544). Check your callbacks.\n",
      "  % delta_t_median)\n"
     ]
    },
    {
     "name": "stdout",
     "output_type": "stream",
     "text": [
      "40000/40000 [==============================] - 27s 686us/step - loss: 0.5172 - acc: 0.9941 - val_loss: 0.8520 - val_acc: 0.8613\n",
      "current learning rate: 0.001999999862164259\n"
     ]
    },
    {
     "data": {
      "image/png": "[encoded data removed]",
      "text/plain": [
       "<Figure size 432x288 with 1 Axes>"
      ]
     },
     "metadata": {
      "needs_background": "light"
     },
     "output_type": "display_data"
    }
   ],
   "source": [
    "train(model_name='vgg16_wdecay_2', lr=0.05, epochs=50, batch_size=64, validation_split=0.2, momentum=0.9, layca=False, lr_decay=True)"
   ]
  },
  {
   "cell_type": "code",
   "execution_count": 28,
   "metadata": {
    "collapsed": true
   },
   "outputs": [
    {
     "name": "stdout",
     "output_type": "stream",
     "text": [
      "Train on 40000 samples, validate on 10000 samples\n",
      "Epoch 1/50\n",
      "40000/40000 [==============================] - 21s 518us/step - loss: 5.5880 - acc: 0.5424 - val_loss: 5.5288 - val_acc: 0.4826\n",
      "current learning rate: 0.009999999776482582\n",
      "Epoch 2/50\n",
      "  512/40000 [..............................] - ETA: 25s - loss: 5.1436 - acc: 0.6230"
     ]
    },
    {
     "name": "stderr",
     "output_type": "stream",
     "text": [
      "/linux/mnovak/penv/lib/python3.5/site-packages/keras/callbacks.py:122: UserWarning: Method on_batch_end() is slow compared to the batch update (0.114079). Check your callbacks.\n",
      "  % delta_t_median)\n"
     ]
    },
    {
     "name": "stdout",
     "output_type": "stream",
     "text": [
      "40000/40000 [==============================] - 18s 447us/step - loss: 4.7385 - acc: 0.7138 - val_loss: 4.9405 - val_acc: 0.5371\n",
      "current learning rate: 0.009999999776482582\n",
      "Epoch 3/50\n",
      "40000/40000 [==============================] - 18s 445us/step - loss: 4.1565 - acc: 0.7876 - val_loss: 4.2843 - val_acc: 0.6493\n",
      "current learning rate: 0.009999999776482582\n",
      "Epoch 4/50\n",
      "40000/40000 [==============================] - 18s 449us/step - loss: 3.6868 - acc: 0.8293 - val_loss: 3.7367 - val_acc: 0.7304\n",
      "current learning rate: 0.009999999776482582\n",
      "Epoch 5/50\n",
      "  512/40000 [..............................] - ETA: 24s - loss: 3.4415 - acc: 0.8672"
     ]
    },
    {
     "name": "stderr",
     "output_type": "stream",
     "text": [
      "/linux/mnovak/penv/lib/python3.5/site-packages/keras/callbacks.py:122: UserWarning: Method on_batch_end() is slow compared to the batch update (0.105485). Check your callbacks.\n",
      "  % delta_t_median)\n"
     ]
    },
    {
     "name": "stdout",
     "output_type": "stream",
     "text": [
      "40000/40000 [==============================] - 18s 452us/step - loss: 3.2927 - acc: 0.8635 - val_loss: 3.3839 - val_acc: 0.7641\n",
      "current learning rate: 0.009999999776482582\n",
      "Epoch 6/50\n",
      "  512/40000 [..............................] - ETA: 25s - loss: 3.0731 - acc: 0.8984"
     ]
    },
    {
     "name": "stderr",
     "output_type": "stream",
     "text": [
      "/linux/mnovak/penv/lib/python3.5/site-packages/keras/callbacks.py:122: UserWarning: Method on_batch_end() is slow compared to the batch update (0.106202). Check your callbacks.\n",
      "  % delta_t_median)\n"
     ]
    },
    {
     "name": "stdout",
     "output_type": "stream",
     "text": [
      "40000/40000 [==============================] - 18s 460us/step - loss: 2.9520 - acc: 0.8912 - val_loss: 3.2016 - val_acc: 0.7349\n",
      "current learning rate: 0.009999999776482582\n",
      "Epoch 7/50\n",
      "  512/40000 [..............................] - ETA: 25s - loss: 2.7352 - acc: 0.9297"
     ]
    },
    {
     "name": "stderr",
     "output_type": "stream",
     "text": [
      "/linux/mnovak/penv/lib/python3.5/site-packages/keras/callbacks.py:122: UserWarning: Method on_batch_end() is slow compared to the batch update (0.104567). Check your callbacks.\n",
      "  % delta_t_median)\n"
     ]
    },
    {
     "name": "stdout",
     "output_type": "stream",
     "text": [
      "40000/40000 [==============================] - 18s 451us/step - loss: 2.6661 - acc: 0.9084 - val_loss: 2.9081 - val_acc: 0.7679\n",
      "current learning rate: 0.009999999776482582\n",
      "Epoch 8/50\n",
      "  512/40000 [..............................] - ETA: 25s - loss: 2.5512 - acc: 0.9180"
     ]
    },
    {
     "name": "stderr",
     "output_type": "stream",
     "text": [
      "/linux/mnovak/penv/lib/python3.5/site-packages/keras/callbacks.py:122: UserWarning: Method on_batch_end() is slow compared to the batch update (0.103337). Check your callbacks.\n",
      "  % delta_t_median)\n"
     ]
    },
    {
     "name": "stdout",
     "output_type": "stream",
     "text": [
      "40000/40000 [==============================] - 18s 455us/step - loss: 2.4245 - acc: 0.9217 - val_loss: 2.7468 - val_acc: 0.7521\n",
      "current learning rate: 0.009999999776482582\n",
      "Epoch 9/50\n",
      "40000/40000 [==============================] - 18s 450us/step - loss: 2.2128 - acc: 0.9303 - val_loss: 2.5921 - val_acc: 0.7449\n",
      "current learning rate: 0.009999999776482582\n",
      "Epoch 10/50\n",
      "40000/40000 [==============================] - 18s 455us/step - loss: 2.0267 - acc: 0.9373 - val_loss: 2.4201 - val_acc: 0.7537\n",
      "current learning rate: 0.009999999776482582\n",
      "Epoch 11/50\n",
      "  512/40000 [..............................] - ETA: 25s - loss: 1.9400 - acc: 0.9375"
     ]
    },
    {
     "name": "stderr",
     "output_type": "stream",
     "text": [
      "/linux/mnovak/penv/lib/python3.5/site-packages/keras/callbacks.py:122: UserWarning: Method on_batch_end() is slow compared to the batch update (0.106251). Check your callbacks.\n",
      "  % delta_t_median)\n"
     ]
    },
    {
     "name": "stdout",
     "output_type": "stream",
     "text": [
      "40000/40000 [==============================] - 19s 463us/step - loss: 1.8700 - acc: 0.9415 - val_loss: 2.3434 - val_acc: 0.7339\n",
      "current learning rate: 0.009999999776482582\n",
      "Epoch 12/50\n",
      "40000/40000 [==============================] - 18s 459us/step - loss: 1.7295 - acc: 0.9456 - val_loss: 2.1695 - val_acc: 0.7564\n",
      "current learning rate: 0.009999999776482582\n",
      "Epoch 13/50\n",
      "  512/40000 [..............................] - ETA: 25s - loss: 1.6784 - acc: 0.9473"
     ]
    },
    {
     "name": "stderr",
     "output_type": "stream",
     "text": [
      "/linux/mnovak/penv/lib/python3.5/site-packages/keras/callbacks.py:122: UserWarning: Method on_batch_end() is slow compared to the batch update (0.113648). Check your callbacks.\n",
      "  % delta_t_median)\n"
     ]
    },
    {
     "name": "stdout",
     "output_type": "stream",
     "text": [
      "40000/40000 [==============================] - 18s 454us/step - loss: 1.6041 - acc: 0.9496 - val_loss: 2.0350 - val_acc: 0.7594\n",
      "current learning rate: 0.009999999776482582\n",
      "Epoch 14/50\n",
      "  512/40000 [..............................] - ETA: 24s - loss: 1.5083 - acc: 0.9648"
     ]
    },
    {
     "name": "stderr",
     "output_type": "stream",
     "text": [
      "/linux/mnovak/penv/lib/python3.5/site-packages/keras/callbacks.py:122: UserWarning: Method on_batch_end() is slow compared to the batch update (0.105669). Check your callbacks.\n",
      "  % delta_t_median)\n"
     ]
    },
    {
     "name": "stdout",
     "output_type": "stream",
     "text": [
      "40000/40000 [==============================] - 18s 451us/step - loss: 1.4952 - acc: 0.9521 - val_loss: 1.9046 - val_acc: 0.7759\n",
      "current learning rate: 0.009999999776482582\n",
      "Epoch 15/50\n",
      "  512/40000 [..............................] - ETA: 25s - loss: 1.4218 - acc: 0.9668"
     ]
    },
    {
     "name": "stderr",
     "output_type": "stream",
     "text": [
      "/linux/mnovak/penv/lib/python3.5/site-packages/keras/callbacks.py:122: UserWarning: Method on_batch_end() is slow compared to the batch update (0.109372). Check your callbacks.\n",
      "  % delta_t_median)\n"
     ]
    },
    {
     "name": "stdout",
     "output_type": "stream",
     "text": [
      "40000/40000 [==============================] - 18s 460us/step - loss: 1.3985 - acc: 0.9548 - val_loss: 1.8279 - val_acc: 0.7684\n",
      "current learning rate: 0.009999999776482582\n",
      "Epoch 16/50\n",
      "40000/40000 [==============================] - 18s 451us/step - loss: 1.3133 - acc: 0.9566 - val_loss: 1.8189 - val_acc: 0.7508\n",
      "current learning rate: 0.009999999776482582\n",
      "Epoch 17/50\n",
      "  512/40000 [..............................] - ETA: 24s - loss: 1.2913 - acc: 0.9492"
     ]
    },
    {
     "name": "stderr",
     "output_type": "stream",
     "text": [
      "/linux/mnovak/penv/lib/python3.5/site-packages/keras/callbacks.py:122: UserWarning: Method on_batch_end() is slow compared to the batch update (0.101802). Check your callbacks.\n",
      "  % delta_t_median)\n"
     ]
    },
    {
     "name": "stdout",
     "output_type": "stream",
     "text": [
      "40000/40000 [==============================] - 19s 466us/step - loss: 1.2377 - acc: 0.9573 - val_loss: 1.7304 - val_acc: 0.7541\n",
      "current learning rate: 0.009999999776482582\n",
      "Epoch 18/50\n",
      "  512/40000 [..............................] - ETA: 25s - loss: 1.2090 - acc: 0.9551"
     ]
    },
    {
     "name": "stderr",
     "output_type": "stream",
     "text": [
      "/linux/mnovak/penv/lib/python3.5/site-packages/keras/callbacks.py:122: UserWarning: Method on_batch_end() is slow compared to the batch update (0.106560). Check your callbacks.\n",
      "  % delta_t_median)\n"
     ]
    },
    {
     "name": "stdout",
     "output_type": "stream",
     "text": [
      "40000/40000 [==============================] - 18s 454us/step - loss: 1.1759 - acc: 0.9562 - val_loss: 1.6562 - val_acc: 0.7693\n",
      "current learning rate: 0.009999999776482582\n"
     ]
    },
    {
     "data": {
      "image/png": "[encoded data removed]",
      "text/plain": [
       "<Figure size 432x288 with 1 Axes>"
      ]
     },
     "metadata": {
      "needs_background": "light"
     },
     "output_type": "display_data"
    }
   ],
   "source": [
    "train(model_name='vgg16_wdecay_1', lr=0.01, epochs=50, batch_size=128, validation_split=0.2, momentum=0.9, layca=False, lr_decay=True)"
   ]
  },
  {
   "cell_type": "code",
   "execution_count": 30,
   "metadata": {
    "collapsed": true
   },
   "outputs": [
    {
     "name": "stdout",
     "output_type": "stream",
     "text": [
      "Train on 40000 samples, validate on 10000 samples\n",
      "Epoch 1/50\n",
      "40000/40000 [==============================] - 17s 422us/step - loss: 6.0268 - acc: 0.4258 - val_loss: 6.0370 - val_acc: 0.4084\n",
      "current learning rate: 0.0010000000474974513\n",
      "Epoch 2/50\n",
      "  768/40000 [..............................] - ETA: 18s - loss: 5.7190 - acc: 0.5586"
     ]
    },
    {
     "name": "stderr",
     "output_type": "stream",
     "text": [
      "/linux/mnovak/penv/lib/python3.5/site-packages/keras/callbacks.py:122: UserWarning: Method on_batch_end() is slow compared to the batch update (0.108927). Check your callbacks.\n",
      "  % delta_t_median)\n"
     ]
    },
    {
     "name": "stdout",
     "output_type": "stream",
     "text": [
      "40000/40000 [==============================] - 14s 345us/step - loss: 5.6357 - acc: 0.5860 - val_loss: 5.6850 - val_acc: 0.5625\n",
      "current learning rate: 0.0010000000474974513\n",
      "Epoch 3/50\n",
      "  768/40000 [..............................] - ETA: 17s - loss: 5.4565 - acc: 0.6484"
     ]
    },
    {
     "name": "stderr",
     "output_type": "stream",
     "text": [
      "/linux/mnovak/penv/lib/python3.5/site-packages/keras/callbacks.py:122: UserWarning: Method on_batch_end() is slow compared to the batch update (0.101243). Check your callbacks.\n",
      "  % delta_t_median)\n"
     ]
    },
    {
     "name": "stdout",
     "output_type": "stream",
     "text": [
      "40000/40000 [==============================] - 14s 351us/step - loss: 5.4210 - acc: 0.6789 - val_loss: 5.5826 - val_acc: 0.6124\n",
      "current learning rate: 0.0010000000474974513\n",
      "Epoch 4/50\n",
      "  768/40000 [..............................] - ETA: 19s - loss: 5.2930 - acc: 0.7318"
     ]
    },
    {
     "name": "stderr",
     "output_type": "stream",
     "text": [
      "/linux/mnovak/penv/lib/python3.5/site-packages/keras/callbacks.py:122: UserWarning: Method on_batch_end() is slow compared to the batch update (0.117205). Check your callbacks.\n",
      "  % delta_t_median)\n"
     ]
    },
    {
     "name": "stdout",
     "output_type": "stream",
     "text": [
      "40000/40000 [==============================] - 14s 354us/step - loss: 5.2392 - acc: 0.7590 - val_loss: 5.5353 - val_acc: 0.6222\n",
      "current learning rate: 0.0010000000474974513\n",
      "Epoch 5/50\n",
      "  768/40000 [..............................] - ETA: 17s - loss: 5.0973 - acc: 0.8424"
     ]
    },
    {
     "name": "stderr",
     "output_type": "stream",
     "text": [
      "/linux/mnovak/penv/lib/python3.5/site-packages/keras/callbacks.py:122: UserWarning: Method on_batch_end() is slow compared to the batch update (0.105774). Check your callbacks.\n",
      "  % delta_t_median)\n"
     ]
    },
    {
     "name": "stdout",
     "output_type": "stream",
     "text": [
      "40000/40000 [==============================] - 14s 361us/step - loss: 5.0644 - acc: 0.8422 - val_loss: 5.5349 - val_acc: 0.6212\n",
      "current learning rate: 0.0010000000474974513\n",
      "Epoch 6/50\n",
      "  768/40000 [..............................] - ETA: 18s - loss: 4.9166 - acc: 0.9167"
     ]
    },
    {
     "name": "stderr",
     "output_type": "stream",
     "text": [
      "/linux/mnovak/penv/lib/python3.5/site-packages/keras/callbacks.py:122: UserWarning: Method on_batch_end() is slow compared to the batch update (0.109442). Check your callbacks.\n",
      "  % delta_t_median)\n"
     ]
    },
    {
     "name": "stdout",
     "output_type": "stream",
     "text": [
      "40000/40000 [==============================] - 14s 350us/step - loss: 4.8998 - acc: 0.9177 - val_loss: 5.4721 - val_acc: 0.6385\n",
      "current learning rate: 0.0010000000474974513\n",
      "Epoch 7/50\n",
      "  768/40000 [..............................] - ETA: 18s - loss: 4.7815 - acc: 0.9661"
     ]
    },
    {
     "name": "stderr",
     "output_type": "stream",
     "text": [
      "/linux/mnovak/penv/lib/python3.5/site-packages/keras/callbacks.py:122: UserWarning: Method on_batch_end() is slow compared to the batch update (0.108965). Check your callbacks.\n",
      "  % delta_t_median)\n"
     ]
    },
    {
     "name": "stdout",
     "output_type": "stream",
     "text": [
      "40000/40000 [==============================] - 14s 355us/step - loss: 4.7644 - acc: 0.9674 - val_loss: 5.4571 - val_acc: 0.6436\n",
      "current learning rate: 0.0010000000474974513\n",
      "Epoch 8/50\n",
      "  768/40000 [..............................] - ETA: 18s - loss: 4.6678 - acc: 0.9935"
     ]
    },
    {
     "name": "stderr",
     "output_type": "stream",
     "text": [
      "/linux/mnovak/penv/lib/python3.5/site-packages/keras/callbacks.py:122: UserWarning: Method on_batch_end() is slow compared to the batch update (0.102422). Check your callbacks.\n",
      "  % delta_t_median)\n"
     ]
    },
    {
     "name": "stdout",
     "output_type": "stream",
     "text": [
      "40000/40000 [==============================] - 14s 352us/step - loss: 4.6607 - acc: 0.9903 - val_loss: 5.4190 - val_acc: 0.6484\n",
      "current learning rate: 0.0010000000474974513\n",
      "Epoch 9/50\n",
      "  768/40000 [..............................] - ETA: 18s - loss: 4.6088 - acc: 0.9974"
     ]
    },
    {
     "name": "stderr",
     "output_type": "stream",
     "text": [
      "/linux/mnovak/penv/lib/python3.5/site-packages/keras/callbacks.py:122: UserWarning: Method on_batch_end() is slow compared to the batch update (0.100454). Check your callbacks.\n",
      "  % delta_t_median)\n"
     ]
    },
    {
     "name": "stdout",
     "output_type": "stream",
     "text": [
      "40000/40000 [==============================] - 14s 355us/step - loss: 4.5899 - acc: 0.9965 - val_loss: 5.3941 - val_acc: 0.6474\n",
      "current learning rate: 0.0010000000474974513\n",
      "Epoch 10/50\n",
      "  768/40000 [..............................] - ETA: 18s - loss: 4.5424 - acc: 1.0000"
     ]
    },
    {
     "name": "stderr",
     "output_type": "stream",
     "text": [
      "/linux/mnovak/penv/lib/python3.5/site-packages/keras/callbacks.py:122: UserWarning: Method on_batch_end() is slow compared to the batch update (0.100867). Check your callbacks.\n",
      "  % delta_t_median)\n"
     ]
    },
    {
     "name": "stdout",
     "output_type": "stream",
     "text": [
      "40000/40000 [==============================] - 14s 352us/step - loss: 4.5362 - acc: 0.9987 - val_loss: 5.3797 - val_acc: 0.6470\n",
      "current learning rate: 0.0010000000474974513\n",
      "Epoch 11/50\n",
      "  768/40000 [..............................] - ETA: 18s - loss: 4.5085 - acc: 1.0000"
     ]
    },
    {
     "name": "stderr",
     "output_type": "stream",
     "text": [
      "/linux/mnovak/penv/lib/python3.5/site-packages/keras/callbacks.py:122: UserWarning: Method on_batch_end() is slow compared to the batch update (0.106803). Check your callbacks.\n",
      "  % delta_t_median)\n"
     ]
    },
    {
     "name": "stdout",
     "output_type": "stream",
     "text": [
      "40000/40000 [==============================] - 14s 353us/step - loss: 4.4932 - acc: 0.9994 - val_loss: 5.3439 - val_acc: 0.6480\n",
      "current learning rate: 0.0010000000474974513\n",
      "Epoch 12/50\n",
      "40000/40000 [==============================] - 14s 350us/step - loss: 4.4550 - acc: 0.9997 - val_loss: 5.3261 - val_acc: 0.6494\n",
      "current learning rate: 0.0010000000474974513\n",
      "Epoch 13/50\n",
      "  768/40000 [..............................] - ETA: 18s - loss: 4.4360 - acc: 1.0000"
     ]
    },
    {
     "name": "stderr",
     "output_type": "stream",
     "text": [
      "/linux/mnovak/penv/lib/python3.5/site-packages/keras/callbacks.py:122: UserWarning: Method on_batch_end() is slow compared to the batch update (0.101710). Check your callbacks.\n",
      "  % delta_t_median)\n"
     ]
    },
    {
     "name": "stdout",
     "output_type": "stream",
     "text": [
      "40000/40000 [==============================] - 14s 349us/step - loss: 4.4187 - acc: 0.9998 - val_loss: 5.2959 - val_acc: 0.6516\n",
      "current learning rate: 0.0010000000474974513\n",
      "Epoch 14/50\n",
      "  768/40000 [..............................] - ETA: 18s - loss: 4.3991 - acc: 1.0000"
     ]
    },
    {
     "name": "stderr",
     "output_type": "stream",
     "text": [
      "/linux/mnovak/penv/lib/python3.5/site-packages/keras/callbacks.py:122: UserWarning: Method on_batch_end() is slow compared to the batch update (0.107503). Check your callbacks.\n",
      "  % delta_t_median)\n"
     ]
    },
    {
     "name": "stdout",
     "output_type": "stream",
     "text": [
      "40000/40000 [==============================] - 14s 352us/step - loss: 4.3890 - acc: 1.0000 - val_loss: 5.2663 - val_acc: 0.6558\n",
      "current learning rate: 0.0010000000474974513\n",
      "Epoch 15/50\n",
      "40000/40000 [==============================] - 14s 352us/step - loss: 4.3578 - acc: 1.0000 - val_loss: 5.2465 - val_acc: 0.6573\n",
      "current learning rate: 0.0010000000474974513\n",
      "Epoch 16/50\n",
      "40000/40000 [==============================] - 14s 349us/step - loss: 4.3268 - acc: 1.0000 - val_loss: 5.2171 - val_acc: 0.6560\n",
      "current learning rate: 0.0010000000474974513\n"
     ]
    },
    {
     "data": {
      "image/png": "[encoded data removed]",
      "text/plain": [
       "<Figure size 432x288 with 1 Axes>"
      ]
     },
     "metadata": {
      "needs_background": "light"
     },
     "output_type": "display_data"
    }
   ],
   "source": [
    "train(model_name='vgg16_wdecay_0', lr=0.001, epochs=50, batch_size=256, validation_split=0.2, momentum=0.9, layca=False, lr_decay=True)"
   ]
  },
  {
   "cell_type": "markdown",
   "metadata": {},
   "source": [
    "## Layca"
   ]
  },
  {
   "cell_type": "code",
   "execution_count": 47,
   "metadata": {
    "collapsed": true
   },
   "outputs": [
    {
     "name": "stdout",
     "output_type": "stream",
     "text": [
      "Train on 40000 samples, validate on 10000 samples\n",
      "Epoch 1/50\n",
      "40000/40000 [==============================] - 18s 454us/step - loss: 1.9595 - acc: 0.2315 - val_loss: 5.2564 - val_acc: 0.0980\n",
      "current learning rate: 0.05000000074505806\n",
      "Epoch 2/50\n",
      "  768/40000 [..............................] - ETA: 18s - loss: 1.8503 - acc: 0.2760"
     ]
    },
    {
     "name": "stderr",
     "output_type": "stream",
     "text": [
      "/linux/mnovak/penv/lib/python3.5/site-packages/keras/callbacks.py:122: UserWarning: Method on_batch_end() is slow compared to the batch update (0.104551). Check your callbacks.\n",
      "  % delta_t_median)\n"
     ]
    },
    {
     "name": "stdout",
     "output_type": "stream",
     "text": [
      "40000/40000 [==============================] - 15s 365us/step - loss: 1.6702 - acc: 0.3725 - val_loss: 2.7064 - val_acc: 0.1088\n",
      "current learning rate: 0.05000000074505806\n",
      "Epoch 3/50\n",
      "  768/40000 [..............................] - ETA: 18s - loss: 1.5059 - acc: 0.4727"
     ]
    },
    {
     "name": "stderr",
     "output_type": "stream",
     "text": [
      "/linux/mnovak/penv/lib/python3.5/site-packages/keras/callbacks.py:122: UserWarning: Method on_batch_end() is slow compared to the batch update (0.115855). Check your callbacks.\n",
      "  % delta_t_median)\n"
     ]
    },
    {
     "name": "stdout",
     "output_type": "stream",
     "text": [
      "40000/40000 [==============================] - 15s 366us/step - loss: 1.3938 - acc: 0.5200 - val_loss: 2.3765 - val_acc: 0.1840\n",
      "current learning rate: 0.05000000074505806\n",
      "Epoch 4/50\n",
      "  768/40000 [..............................] - ETA: 19s - loss: 1.2781 - acc: 0.5820"
     ]
    },
    {
     "name": "stderr",
     "output_type": "stream",
     "text": [
      "/linux/mnovak/penv/lib/python3.5/site-packages/keras/callbacks.py:122: UserWarning: Method on_batch_end() is slow compared to the batch update (0.108686). Check your callbacks.\n",
      "  % delta_t_median)\n"
     ]
    },
    {
     "name": "stdout",
     "output_type": "stream",
     "text": [
      "40000/40000 [==============================] - 15s 369us/step - loss: 1.2612 - acc: 0.5909 - val_loss: 2.2654 - val_acc: 0.1867\n",
      "current learning rate: 0.05000000074505806\n",
      "Epoch 5/50\n",
      "  768/40000 [..............................] - ETA: 19s - loss: 1.2603 - acc: 0.5938"
     ]
    },
    {
     "name": "stderr",
     "output_type": "stream",
     "text": [
      "/linux/mnovak/penv/lib/python3.5/site-packages/keras/callbacks.py:122: UserWarning: Method on_batch_end() is slow compared to the batch update (0.109040). Check your callbacks.\n",
      "  % delta_t_median)\n"
     ]
    },
    {
     "name": "stdout",
     "output_type": "stream",
     "text": [
      "40000/40000 [==============================] - 15s 370us/step - loss: 1.1979 - acc: 0.6227 - val_loss: 2.2233 - val_acc: 0.2147\n",
      "current learning rate: 0.05000000074505806\n",
      "Epoch 6/50\n",
      "  768/40000 [..............................] - ETA: 19s - loss: 1.2368 - acc: 0.6042"
     ]
    },
    {
     "name": "stderr",
     "output_type": "stream",
     "text": [
      "/linux/mnovak/penv/lib/python3.5/site-packages/keras/callbacks.py:122: UserWarning: Method on_batch_end() is slow compared to the batch update (0.108748). Check your callbacks.\n",
      "  % delta_t_median)\n"
     ]
    },
    {
     "name": "stdout",
     "output_type": "stream",
     "text": [
      "40000/40000 [==============================] - 15s 371us/step - loss: 1.1626 - acc: 0.6362 - val_loss: 2.6424 - val_acc: 0.1672\n",
      "current learning rate: 0.05000000074505806\n",
      "Epoch 7/50\n",
      "  768/40000 [..............................] - ETA: 19s - loss: 1.1841 - acc: 0.6224"
     ]
    },
    {
     "name": "stderr",
     "output_type": "stream",
     "text": [
      "/linux/mnovak/penv/lib/python3.5/site-packages/keras/callbacks.py:122: UserWarning: Method on_batch_end() is slow compared to the batch update (0.108908). Check your callbacks.\n",
      "  % delta_t_median)\n"
     ]
    },
    {
     "name": "stdout",
     "output_type": "stream",
     "text": [
      "40000/40000 [==============================] - 15s 372us/step - loss: 1.1399 - acc: 0.6483 - val_loss: 1.7436 - val_acc: 0.3858\n",
      "current learning rate: 0.05000000074505806\n",
      "Epoch 8/50\n",
      "  768/40000 [..............................] - ETA: 19s - loss: 1.1752 - acc: 0.6458"
     ]
    },
    {
     "name": "stderr",
     "output_type": "stream",
     "text": [
      "/linux/mnovak/penv/lib/python3.5/site-packages/keras/callbacks.py:122: UserWarning: Method on_batch_end() is slow compared to the batch update (0.124823). Check your callbacks.\n",
      "  % delta_t_median)\n"
     ]
    },
    {
     "name": "stdout",
     "output_type": "stream",
     "text": [
      "40000/40000 [==============================] - 15s 372us/step - loss: 1.1358 - acc: 0.6504 - val_loss: 1.8581 - val_acc: 0.3556\n",
      "current learning rate: 0.05000000074505806\n",
      "Epoch 9/50\n",
      "  768/40000 [..............................] - ETA: 19s - loss: 1.1213 - acc: 0.6523"
     ]
    },
    {
     "name": "stderr",
     "output_type": "stream",
     "text": [
      "/linux/mnovak/penv/lib/python3.5/site-packages/keras/callbacks.py:122: UserWarning: Method on_batch_end() is slow compared to the batch update (0.115929). Check your callbacks.\n",
      "  % delta_t_median)\n"
     ]
    },
    {
     "name": "stdout",
     "output_type": "stream",
     "text": [
      "40000/40000 [==============================] - 15s 370us/step - loss: 1.1304 - acc: 0.6529 - val_loss: 1.6288 - val_acc: 0.4473\n",
      "current learning rate: 0.05000000074505806\n",
      "Epoch 10/50\n",
      "40000/40000 [==============================] - 15s 371us/step - loss: 1.1219 - acc: 0.6569 - val_loss: 1.6392 - val_acc: 0.4530\n",
      "current learning rate: 0.05000000074505806\n",
      "Epoch 11/50\n",
      "  768/40000 [..............................] - ETA: 19s - loss: 1.1053 - acc: 0.6784"
     ]
    },
    {
     "name": "stderr",
     "output_type": "stream",
     "text": [
      "/linux/mnovak/penv/lib/python3.5/site-packages/keras/callbacks.py:122: UserWarning: Method on_batch_end() is slow compared to the batch update (0.112201). Check your callbacks.\n",
      "  % delta_t_median)\n"
     ]
    },
    {
     "name": "stdout",
     "output_type": "stream",
     "text": [
      "40000/40000 [==============================] - 15s 371us/step - loss: 1.1083 - acc: 0.6590 - val_loss: 1.9198 - val_acc: 0.3585\n",
      "current learning rate: 0.05000000074505806\n",
      "Epoch 12/50\n",
      "  768/40000 [..............................] - ETA: 18s - loss: 1.0510 - acc: 0.6888"
     ]
    },
    {
     "name": "stderr",
     "output_type": "stream",
     "text": [
      "/linux/mnovak/penv/lib/python3.5/site-packages/keras/callbacks.py:122: UserWarning: Method on_batch_end() is slow compared to the batch update (0.101757). Check your callbacks.\n",
      "  % delta_t_median)\n"
     ]
    },
    {
     "name": "stdout",
     "output_type": "stream",
     "text": [
      "40000/40000 [==============================] - 15s 371us/step - loss: 1.1078 - acc: 0.6609 - val_loss: 2.0647 - val_acc: 0.2983\n",
      "current learning rate: 0.05000000074505806\n",
      "Epoch 13/50\n",
      "  768/40000 [..............................] - ETA: 19s - loss: 1.1258 - acc: 0.6510"
     ]
    },
    {
     "name": "stderr",
     "output_type": "stream",
     "text": [
      "/linux/mnovak/penv/lib/python3.5/site-packages/keras/callbacks.py:122: UserWarning: Method on_batch_end() is slow compared to the batch update (0.108800). Check your callbacks.\n",
      "  % delta_t_median)\n"
     ]
    },
    {
     "name": "stdout",
     "output_type": "stream",
     "text": [
      "40000/40000 [==============================] - 15s 375us/step - loss: 1.1119 - acc: 0.6599 - val_loss: 1.9091 - val_acc: 0.3500\n",
      "current learning rate: 0.05000000074505806\n",
      "Epoch 14/50\n",
      "  768/40000 [..............................] - ETA: 18s - loss: 1.1702 - acc: 0.6510"
     ]
    },
    {
     "name": "stderr",
     "output_type": "stream",
     "text": [
      "/linux/mnovak/penv/lib/python3.5/site-packages/keras/callbacks.py:122: UserWarning: Method on_batch_end() is slow compared to the batch update (0.102248). Check your callbacks.\n",
      "  % delta_t_median)\n"
     ]
    },
    {
     "name": "stdout",
     "output_type": "stream",
     "text": [
      "40000/40000 [==============================] - 15s 373us/step - loss: 1.1193 - acc: 0.6579 - val_loss: 1.6568 - val_acc: 0.4339\n",
      "current learning rate: 0.009999999776482582\n",
      "Epoch 15/50\n",
      "  768/40000 [..............................] - ETA: 19s - loss: 1.0831 - acc: 0.6615"
     ]
    },
    {
     "name": "stderr",
     "output_type": "stream",
     "text": [
      "/linux/mnovak/penv/lib/python3.5/site-packages/keras/callbacks.py:122: UserWarning: Method on_batch_end() is slow compared to the batch update (0.108750). Check your callbacks.\n",
      "  % delta_t_median)\n"
     ]
    },
    {
     "name": "stdout",
     "output_type": "stream",
     "text": [
      "40000/40000 [==============================] - 15s 369us/step - loss: 0.8471 - acc: 0.7657 - val_loss: 1.0616 - val_acc: 0.7169\n",
      "current learning rate: 0.009999999776482582\n",
      "Epoch 16/50\n",
      "40000/40000 [==============================] - 15s 371us/step - loss: 0.7121 - acc: 0.8217 - val_loss: 0.9805 - val_acc: 0.7260\n",
      "current learning rate: 0.009999999776482582\n",
      "Epoch 17/50\n",
      "  768/40000 [..............................] - ETA: 18s - loss: 0.6528 - acc: 0.8438"
     ]
    },
    {
     "name": "stderr",
     "output_type": "stream",
     "text": [
      "/linux/mnovak/penv/lib/python3.5/site-packages/keras/callbacks.py:122: UserWarning: Method on_batch_end() is slow compared to the batch update (0.102816). Check your callbacks.\n",
      "  % delta_t_median)\n"
     ]
    },
    {
     "name": "stdout",
     "output_type": "stream",
     "text": [
      "40000/40000 [==============================] - 15s 374us/step - loss: 0.6514 - acc: 0.8471 - val_loss: 0.9633 - val_acc: 0.7298\n",
      "current learning rate: 0.009999999776482582\n",
      "Epoch 18/50\n",
      "  768/40000 [..............................] - ETA: 19s - loss: 0.6109 - acc: 0.8620"
     ]
    },
    {
     "name": "stderr",
     "output_type": "stream",
     "text": [
      "/linux/mnovak/penv/lib/python3.5/site-packages/keras/callbacks.py:122: UserWarning: Method on_batch_end() is slow compared to the batch update (0.111693). Check your callbacks.\n",
      "  % delta_t_median)\n"
     ]
    },
    {
     "name": "stdout",
     "output_type": "stream",
     "text": [
      "40000/40000 [==============================] - 15s 371us/step - loss: 0.6023 - acc: 0.8685 - val_loss: 0.8647 - val_acc: 0.7635\n",
      "current learning rate: 0.009999999776482582\n",
      "Epoch 19/50\n",
      "  768/40000 [..............................] - ETA: 19s - loss: 0.5527 - acc: 0.8854"
     ]
    },
    {
     "name": "stderr",
     "output_type": "stream",
     "text": [
      "/linux/mnovak/penv/lib/python3.5/site-packages/keras/callbacks.py:122: UserWarning: Method on_batch_end() is slow compared to the batch update (0.111024). Check your callbacks.\n",
      "  % delta_t_median)\n"
     ]
    },
    {
     "name": "stdout",
     "output_type": "stream",
     "text": [
      "40000/40000 [==============================] - 15s 373us/step - loss: 0.5666 - acc: 0.8848 - val_loss: 0.9670 - val_acc: 0.7322\n",
      "current learning rate: 0.009999999776482582\n",
      "Epoch 20/50\n",
      "  768/40000 [..............................] - ETA: 19s - loss: 0.5407 - acc: 0.8958"
     ]
    },
    {
     "name": "stderr",
     "output_type": "stream",
     "text": [
      "/linux/mnovak/penv/lib/python3.5/site-packages/keras/callbacks.py:122: UserWarning: Method on_batch_end() is slow compared to the batch update (0.103760). Check your callbacks.\n",
      "  % delta_t_median)\n"
     ]
    },
    {
     "name": "stdout",
     "output_type": "stream",
     "text": [
      "40000/40000 [==============================] - 15s 373us/step - loss: 0.5382 - acc: 0.8961 - val_loss: 0.8076 - val_acc: 0.7909\n",
      "current learning rate: 0.009999999776482582\n",
      "Epoch 21/50\n",
      "  768/40000 [..............................] - ETA: 19s - loss: 0.4915 - acc: 0.9232"
     ]
    },
    {
     "name": "stderr",
     "output_type": "stream",
     "text": [
      "/linux/mnovak/penv/lib/python3.5/site-packages/keras/callbacks.py:122: UserWarning: Method on_batch_end() is slow compared to the batch update (0.112920). Check your callbacks.\n",
      "  % delta_t_median)\n"
     ]
    },
    {
     "name": "stdout",
     "output_type": "stream",
     "text": [
      "40000/40000 [==============================] - 15s 370us/step - loss: 0.5143 - acc: 0.9063 - val_loss: 0.9136 - val_acc: 0.7507\n",
      "current learning rate: 0.009999999776482582\n",
      "Epoch 22/50\n",
      "  768/40000 [..............................] - ETA: 19s - loss: 0.4827 - acc: 0.9193"
     ]
    },
    {
     "name": "stderr",
     "output_type": "stream",
     "text": [
      "/linux/mnovak/penv/lib/python3.5/site-packages/keras/callbacks.py:122: UserWarning: Method on_batch_end() is slow compared to the batch update (0.112678). Check your callbacks.\n",
      "  % delta_t_median)\n"
     ]
    },
    {
     "name": "stdout",
     "output_type": "stream",
     "text": [
      "40000/40000 [==============================] - 15s 373us/step - loss: 0.4979 - acc: 0.9132 - val_loss: 0.8624 - val_acc: 0.7664\n",
      "current learning rate: 0.009999999776482582\n",
      "Epoch 23/50\n",
      "  768/40000 [..............................] - ETA: 19s - loss: 0.4839 - acc: 0.9193"
     ]
    },
    {
     "name": "stderr",
     "output_type": "stream",
     "text": [
      "/linux/mnovak/penv/lib/python3.5/site-packages/keras/callbacks.py:122: UserWarning: Method on_batch_end() is slow compared to the batch update (0.111758). Check your callbacks.\n",
      "  % delta_t_median)\n"
     ]
    },
    {
     "name": "stdout",
     "output_type": "stream",
     "text": [
      "40000/40000 [==============================] - 15s 373us/step - loss: 0.4866 - acc: 0.9176 - val_loss: 0.8603 - val_acc: 0.7697\n",
      "current learning rate: 0.009999999776482582\n",
      "Epoch 24/50\n",
      "  768/40000 [..............................] - ETA: 18s - loss: 0.4656 - acc: 0.9245"
     ]
    },
    {
     "name": "stderr",
     "output_type": "stream",
     "text": [
      "/linux/mnovak/penv/lib/python3.5/site-packages/keras/callbacks.py:122: UserWarning: Method on_batch_end() is slow compared to the batch update (0.112811). Check your callbacks.\n",
      "  % delta_t_median)\n"
     ]
    },
    {
     "name": "stdout",
     "output_type": "stream",
     "text": [
      "40000/40000 [==============================] - 15s 374us/step - loss: 0.4778 - acc: 0.9215 - val_loss: 1.0632 - val_acc: 0.6980\n",
      "current learning rate: 0.009999999776482582\n",
      "Epoch 25/50\n",
      "  768/40000 [..............................] - ETA: 19s - loss: 0.4392 - acc: 0.9453"
     ]
    },
    {
     "name": "stderr",
     "output_type": "stream",
     "text": [
      "/linux/mnovak/penv/lib/python3.5/site-packages/keras/callbacks.py:122: UserWarning: Method on_batch_end() is slow compared to the batch update (0.112353). Check your callbacks.\n",
      "  % delta_t_median)\n"
     ]
    },
    {
     "name": "stdout",
     "output_type": "stream",
     "text": [
      "40000/40000 [==============================] - 15s 371us/step - loss: 0.4658 - acc: 0.9271 - val_loss: 0.8713 - val_acc: 0.7765\n",
      "current learning rate: 0.001999999862164259\n",
      "Epoch 26/50\n",
      "  768/40000 [..............................] - ETA: 19s - loss: 0.4535 - acc: 0.9310"
     ]
    },
    {
     "name": "stderr",
     "output_type": "stream",
     "text": [
      "/linux/mnovak/penv/lib/python3.5/site-packages/keras/callbacks.py:122: UserWarning: Method on_batch_end() is slow compared to the batch update (0.113152). Check your callbacks.\n",
      "  % delta_t_median)\n"
     ]
    },
    {
     "name": "stdout",
     "output_type": "stream",
     "text": [
      "40000/40000 [==============================] - 15s 374us/step - loss: 0.3759 - acc: 0.9669 - val_loss: 0.6934 - val_acc: 0.8474\n",
      "current learning rate: 0.001999999862164259\n",
      "Epoch 27/50\n",
      "  768/40000 [..............................] - ETA: 19s - loss: 0.3240 - acc: 0.9857"
     ]
    },
    {
     "name": "stderr",
     "output_type": "stream",
     "text": [
      "/linux/mnovak/penv/lib/python3.5/site-packages/keras/callbacks.py:122: UserWarning: Method on_batch_end() is slow compared to the batch update (0.110198). Check your callbacks.\n",
      "  % delta_t_median)\n"
     ]
    },
    {
     "name": "stdout",
     "output_type": "stream",
     "text": [
      "40000/40000 [==============================] - 15s 371us/step - loss: 0.3372 - acc: 0.9834 - val_loss: 0.7138 - val_acc: 0.8450\n",
      "current learning rate: 0.001999999862164259\n",
      "Epoch 28/50\n",
      "  768/40000 [..............................] - ETA: 18s - loss: 0.3157 - acc: 0.9909"
     ]
    },
    {
     "name": "stderr",
     "output_type": "stream",
     "text": [
      "/linux/mnovak/penv/lib/python3.5/site-packages/keras/callbacks.py:122: UserWarning: Method on_batch_end() is slow compared to the batch update (0.107167). Check your callbacks.\n",
      "  % delta_t_median)\n"
     ]
    },
    {
     "name": "stdout",
     "output_type": "stream",
     "text": [
      "40000/40000 [==============================] - 15s 373us/step - loss: 0.3250 - acc: 0.9876 - val_loss: 0.7163 - val_acc: 0.8432\n",
      "current learning rate: 0.001999999862164259\n",
      "Epoch 29/50\n",
      "  768/40000 [..............................] - ETA: 19s - loss: 0.3157 - acc: 0.9935"
     ]
    },
    {
     "name": "stderr",
     "output_type": "stream",
     "text": [
      "/linux/mnovak/penv/lib/python3.5/site-packages/keras/callbacks.py:122: UserWarning: Method on_batch_end() is slow compared to the batch update (0.109675). Check your callbacks.\n",
      "  % delta_t_median)\n"
     ]
    },
    {
     "name": "stdout",
     "output_type": "stream",
     "text": [
      "40000/40000 [==============================] - 15s 372us/step - loss: 0.3212 - acc: 0.9895 - val_loss: 0.7153 - val_acc: 0.8417\n",
      "current learning rate: 0.001999999862164259\n",
      "Epoch 30/50\n",
      "  768/40000 [..............................] - ETA: 18s - loss: 0.3400 - acc: 0.9831"
     ]
    },
    {
     "name": "stderr",
     "output_type": "stream",
     "text": [
      "/linux/mnovak/penv/lib/python3.5/site-packages/keras/callbacks.py:122: UserWarning: Method on_batch_end() is slow compared to the batch update (0.107821). Check your callbacks.\n",
      "  % delta_t_median)\n"
     ]
    },
    {
     "name": "stdout",
     "output_type": "stream",
     "text": [
      "40000/40000 [==============================] - 15s 374us/step - loss: 0.3183 - acc: 0.9902 - val_loss: 0.6979 - val_acc: 0.8513\n",
      "current learning rate: 0.001999999862164259\n",
      "Epoch 31/50\n",
      "  768/40000 [..............................] - ETA: 18s - loss: 0.3094 - acc: 0.9935"
     ]
    },
    {
     "name": "stderr",
     "output_type": "stream",
     "text": [
      "/linux/mnovak/penv/lib/python3.5/site-packages/keras/callbacks.py:122: UserWarning: Method on_batch_end() is slow compared to the batch update (0.107619). Check your callbacks.\n",
      "  % delta_t_median)\n"
     ]
    },
    {
     "name": "stdout",
     "output_type": "stream",
     "text": [
      "40000/40000 [==============================] - 15s 371us/step - loss: 0.3142 - acc: 0.9916 - val_loss: 0.7251 - val_acc: 0.8378\n",
      "current learning rate: 0.0003999999607913196\n",
      "Epoch 32/50\n",
      "  768/40000 [..............................] - ETA: 19s - loss: 0.3324 - acc: 0.9857"
     ]
    },
    {
     "name": "stderr",
     "output_type": "stream",
     "text": [
      "/linux/mnovak/penv/lib/python3.5/site-packages/keras/callbacks.py:122: UserWarning: Method on_batch_end() is slow compared to the batch update (0.108251). Check your callbacks.\n",
      "  % delta_t_median)\n"
     ]
    },
    {
     "name": "stdout",
     "output_type": "stream",
     "text": [
      "40000/40000 [==============================] - 15s 372us/step - loss: 0.3081 - acc: 0.9941 - val_loss: 0.6701 - val_acc: 0.8639\n",
      "current learning rate: 0.0003999999607913196\n",
      "Epoch 33/50\n",
      "  768/40000 [..............................] - ETA: 18s - loss: 0.3031 - acc: 0.9961"
     ]
    },
    {
     "name": "stderr",
     "output_type": "stream",
     "text": [
      "/linux/mnovak/penv/lib/python3.5/site-packages/keras/callbacks.py:122: UserWarning: Method on_batch_end() is slow compared to the batch update (0.101749). Check your callbacks.\n",
      "  % delta_t_median)\n"
     ]
    },
    {
     "name": "stdout",
     "output_type": "stream",
     "text": [
      "40000/40000 [==============================] - 15s 372us/step - loss: 0.3038 - acc: 0.9955 - val_loss: 0.6763 - val_acc: 0.8625\n",
      "current learning rate: 0.0003999999607913196\n",
      "Epoch 34/50\n",
      "  768/40000 [..............................] - ETA: 19s - loss: 0.3011 - acc: 0.9961"
     ]
    },
    {
     "name": "stderr",
     "output_type": "stream",
     "text": [
      "/linux/mnovak/penv/lib/python3.5/site-packages/keras/callbacks.py:122: UserWarning: Method on_batch_end() is slow compared to the batch update (0.102845). Check your callbacks.\n",
      "  % delta_t_median)\n"
     ]
    },
    {
     "name": "stdout",
     "output_type": "stream",
     "text": [
      "40000/40000 [==============================] - 15s 373us/step - loss: 0.3026 - acc: 0.9958 - val_loss: 0.6864 - val_acc: 0.8580\n",
      "current learning rate: 0.0003999999607913196\n",
      "Epoch 35/50\n",
      "  768/40000 [..............................] - ETA: 19s - loss: 0.2926 - acc: 0.9974"
     ]
    },
    {
     "name": "stderr",
     "output_type": "stream",
     "text": [
      "/linux/mnovak/penv/lib/python3.5/site-packages/keras/callbacks.py:122: UserWarning: Method on_batch_end() is slow compared to the batch update (0.101627). Check your callbacks.\n",
      "  % delta_t_median)\n"
     ]
    },
    {
     "name": "stdout",
     "output_type": "stream",
     "text": [
      "40000/40000 [==============================] - 15s 374us/step - loss: 0.3015 - acc: 0.9961 - val_loss: 0.6825 - val_acc: 0.8606\n",
      "current learning rate: 0.0003999999607913196\n",
      "Epoch 36/50\n",
      "  768/40000 [..............................] - ETA: 18s - loss: 0.3010 - acc: 0.9974"
     ]
    },
    {
     "name": "stderr",
     "output_type": "stream",
     "text": [
      "/linux/mnovak/penv/lib/python3.5/site-packages/keras/callbacks.py:122: UserWarning: Method on_batch_end() is slow compared to the batch update (0.108909). Check your callbacks.\n",
      "  % delta_t_median)\n"
     ]
    },
    {
     "name": "stdout",
     "output_type": "stream",
     "text": [
      "40000/40000 [==============================] - 15s 373us/step - loss: 0.3009 - acc: 0.9964 - val_loss: 0.6767 - val_acc: 0.8629\n",
      "current learning rate: 0.0003999999607913196\n",
      "Epoch 37/50\n",
      "  768/40000 [..............................] - ETA: 18s - loss: 0.3084 - acc: 0.9948"
     ]
    },
    {
     "name": "stderr",
     "output_type": "stream",
     "text": [
      "/linux/mnovak/penv/lib/python3.5/site-packages/keras/callbacks.py:122: UserWarning: Method on_batch_end() is slow compared to the batch update (0.101371). Check your callbacks.\n",
      "  % delta_t_median)\n"
     ]
    },
    {
     "name": "stdout",
     "output_type": "stream",
     "text": [
      "40000/40000 [==============================] - 15s 374us/step - loss: 0.3003 - acc: 0.9965 - val_loss: 0.6845 - val_acc: 0.8619\n",
      "current learning rate: 7.99999907030724e-05\n",
      "Epoch 38/50\n",
      "40000/40000 [==============================] - 15s 372us/step - loss: 0.2995 - acc: 0.9970 - val_loss: 0.6658 - val_acc: 0.8658\n",
      "current learning rate: 7.99999907030724e-05\n",
      "Epoch 39/50\n",
      "  768/40000 [..............................] - ETA: 18s - loss: 0.3022 - acc: 0.9961"
     ]
    },
    {
     "name": "stderr",
     "output_type": "stream",
     "text": [
      "/linux/mnovak/penv/lib/python3.5/site-packages/keras/callbacks.py:122: UserWarning: Method on_batch_end() is slow compared to the batch update (0.104806). Check your callbacks.\n",
      "  % delta_t_median)\n"
     ]
    },
    {
     "name": "stdout",
     "output_type": "stream",
     "text": [
      "40000/40000 [==============================] - 15s 370us/step - loss: 0.2980 - acc: 0.9972 - val_loss: 0.6652 - val_acc: 0.8663\n",
      "current learning rate: 7.99999907030724e-05\n",
      "Epoch 40/50\n",
      "  768/40000 [..............................] - ETA: 19s - loss: 0.3025 - acc: 0.9948"
     ]
    },
    {
     "name": "stderr",
     "output_type": "stream",
     "text": [
      "/linux/mnovak/penv/lib/python3.5/site-packages/keras/callbacks.py:122: UserWarning: Method on_batch_end() is slow compared to the batch update (0.112594). Check your callbacks.\n",
      "  % delta_t_median)\n"
     ]
    },
    {
     "name": "stdout",
     "output_type": "stream",
     "text": [
      "40000/40000 [==============================] - 15s 372us/step - loss: 0.2986 - acc: 0.9973 - val_loss: 0.6668 - val_acc: 0.8657\n",
      "current learning rate: 7.99999907030724e-05\n",
      "Epoch 41/50\n",
      "  768/40000 [..............................] - ETA: 19s - loss: 0.2954 - acc: 0.9974"
     ]
    },
    {
     "name": "stderr",
     "output_type": "stream",
     "text": [
      "/linux/mnovak/penv/lib/python3.5/site-packages/keras/callbacks.py:122: UserWarning: Method on_batch_end() is slow compared to the batch update (0.104140). Check your callbacks.\n",
      "  % delta_t_median)\n"
     ]
    },
    {
     "name": "stdout",
     "output_type": "stream",
     "text": [
      "40000/40000 [==============================] - 15s 377us/step - loss: 0.2975 - acc: 0.9974 - val_loss: 0.6691 - val_acc: 0.8650\n",
      "current learning rate: 7.99999907030724e-05\n",
      "Epoch 42/50\n",
      "  768/40000 [..............................] - ETA: 18s - loss: 0.2981 - acc: 0.9974"
     ]
    },
    {
     "name": "stderr",
     "output_type": "stream",
     "text": [
      "/linux/mnovak/penv/lib/python3.5/site-packages/keras/callbacks.py:122: UserWarning: Method on_batch_end() is slow compared to the batch update (0.106272). Check your callbacks.\n",
      "  % delta_t_median)\n"
     ]
    },
    {
     "name": "stdout",
     "output_type": "stream",
     "text": [
      "40000/40000 [==============================] - 15s 374us/step - loss: 0.2966 - acc: 0.9976 - val_loss: 0.6674 - val_acc: 0.8642\n",
      "current learning rate: 7.99999907030724e-05\n",
      "Epoch 43/50\n",
      "  768/40000 [..............................] - ETA: 18s - loss: 0.3025 - acc: 0.9974"
     ]
    },
    {
     "name": "stderr",
     "output_type": "stream",
     "text": [
      "/linux/mnovak/penv/lib/python3.5/site-packages/keras/callbacks.py:122: UserWarning: Method on_batch_end() is slow compared to the batch update (0.101761). Check your callbacks.\n",
      "  % delta_t_median)\n"
     ]
    },
    {
     "name": "stdout",
     "output_type": "stream",
     "text": [
      "40000/40000 [==============================] - 15s 372us/step - loss: 0.2960 - acc: 0.9977 - val_loss: 0.6702 - val_acc: 0.8633\n",
      "current learning rate: 7.99999907030724e-05\n",
      "Epoch 44/50\n",
      "  768/40000 [..............................] - ETA: 19s - loss: 0.2929 - acc: 1.0000"
     ]
    },
    {
     "name": "stderr",
     "output_type": "stream",
     "text": [
      "/linux/mnovak/penv/lib/python3.5/site-packages/keras/callbacks.py:122: UserWarning: Method on_batch_end() is slow compared to the batch update (0.107435). Check your callbacks.\n",
      "  % delta_t_median)\n"
     ]
    },
    {
     "name": "stdout",
     "output_type": "stream",
     "text": [
      "40000/40000 [==============================] - 15s 372us/step - loss: 0.2965 - acc: 0.9978 - val_loss: 0.6677 - val_acc: 0.8641\n",
      "current learning rate: 1.599999814061448e-05\n",
      "Epoch 45/50\n",
      "40000/40000 [==============================] - 15s 372us/step - loss: 0.2969 - acc: 0.9979 - val_loss: 0.6676 - val_acc: 0.8644\n",
      "current learning rate: 1.599999814061448e-05\n",
      "Epoch 46/50\n",
      "  768/40000 [..............................] - ETA: 19s - loss: 0.2931 - acc: 0.9974"
     ]
    },
    {
     "name": "stderr",
     "output_type": "stream",
     "text": [
      "/linux/mnovak/penv/lib/python3.5/site-packages/keras/callbacks.py:122: UserWarning: Method on_batch_end() is slow compared to the batch update (0.119739). Check your callbacks.\n",
      "  % delta_t_median)\n"
     ]
    },
    {
     "name": "stdout",
     "output_type": "stream",
     "text": [
      "40000/40000 [==============================] - 15s 372us/step - loss: 0.2966 - acc: 0.9980 - val_loss: 0.6673 - val_acc: 0.8645\n",
      "current learning rate: 1.599999814061448e-05\n",
      "Epoch 47/50\n",
      "  768/40000 [..............................] - ETA: 19s - loss: 0.3010 - acc: 0.9974"
     ]
    },
    {
     "name": "stderr",
     "output_type": "stream",
     "text": [
      "/linux/mnovak/penv/lib/python3.5/site-packages/keras/callbacks.py:122: UserWarning: Method on_batch_end() is slow compared to the batch update (0.108932). Check your callbacks.\n",
      "  % delta_t_median)\n"
     ]
    },
    {
     "name": "stdout",
     "output_type": "stream",
     "text": [
      "40000/40000 [==============================] - 15s 372us/step - loss: 0.2966 - acc: 0.9979 - val_loss: 0.6676 - val_acc: 0.8638\n",
      "current learning rate: 1.599999814061448e-05\n",
      "Epoch 48/50\n",
      "  768/40000 [..............................] - ETA: 19s - loss: 0.2924 - acc: 1.0000"
     ]
    },
    {
     "name": "stderr",
     "output_type": "stream",
     "text": [
      "/linux/mnovak/penv/lib/python3.5/site-packages/keras/callbacks.py:122: UserWarning: Method on_batch_end() is slow compared to the batch update (0.124014). Check your callbacks.\n",
      "  % delta_t_median)\n"
     ]
    },
    {
     "name": "stdout",
     "output_type": "stream",
     "text": [
      "40000/40000 [==============================] - 15s 372us/step - loss: 0.2961 - acc: 0.9980 - val_loss: 0.6681 - val_acc: 0.8644\n",
      "current learning rate: 1.599999814061448e-05\n",
      "Epoch 49/50\n",
      "  768/40000 [..............................] - ETA: 19s - loss: 0.2954 - acc: 0.9987"
     ]
    },
    {
     "name": "stderr",
     "output_type": "stream",
     "text": [
      "/linux/mnovak/penv/lib/python3.5/site-packages/keras/callbacks.py:122: UserWarning: Method on_batch_end() is slow compared to the batch update (0.112183). Check your callbacks.\n",
      "  % delta_t_median)\n"
     ]
    },
    {
     "name": "stdout",
     "output_type": "stream",
     "text": [
      "40000/40000 [==============================] - 15s 376us/step - loss: 0.2962 - acc: 0.9979 - val_loss: 0.6683 - val_acc: 0.8641\n",
      "current learning rate: 3.199999582648161e-06\n",
      "Epoch 50/50\n",
      "  768/40000 [..............................] - ETA: 19s - loss: 0.2952 - acc: 0.9974"
     ]
    },
    {
     "name": "stderr",
     "output_type": "stream",
     "text": [
      "/linux/mnovak/penv/lib/python3.5/site-packages/keras/callbacks.py:122: UserWarning: Method on_batch_end() is slow compared to the batch update (0.102007). Check your callbacks.\n",
      "  % delta_t_median)\n"
     ]
    },
    {
     "name": "stdout",
     "output_type": "stream",
     "text": [
      "40000/40000 [==============================] - 15s 368us/step - loss: 0.2954 - acc: 0.9979 - val_loss: 0.6680 - val_acc: 0.8644\n",
      "current learning rate: 3.199999582648161e-06\n"
     ]
    },
    {
     "data": {
      "image/png": "[encoded data removed]",
      "text/plain": [
       "<Figure size 432x288 with 1 Axes>"
      ]
     },
     "metadata": {
      "needs_background": "light"
     },
     "output_type": "display_data"
    }
   ],
   "source": [
    "train(model_name='vgg16_layca_2', lr=0.05, epochs=50, batch_size=256, validation_split=0.2, momentum=0.9, layca=True, lr_decay=True)"
   ]
  },
  {
   "cell_type": "code",
   "execution_count": 53,
   "metadata": {
    "collapsed": true
   },
   "outputs": [
    {
     "name": "stdout",
     "output_type": "stream",
     "text": [
      "Train on 40000 samples, validate on 10000 samples\n",
      "Epoch 1/50\n",
      "40000/40000 [==============================] - 20s 493us/step - loss: 1.3580 - acc: 0.5435 - val_loss: 1.6025 - val_acc: 0.5213\n",
      "current learning rate: 0.003000000026077032\n",
      "Epoch 2/50\n",
      "40000/40000 [==============================] - 15s 367us/step - loss: 0.9199 - acc: 0.7321 - val_loss: 1.2486 - val_acc: 0.6418\n",
      "current learning rate: 0.003000000026077032\n",
      "Epoch 3/50\n",
      "40000/40000 [==============================] - 15s 368us/step - loss: 0.7473 - acc: 0.8063 - val_loss: 1.0877 - val_acc: 0.6766\n",
      "current learning rate: 0.003000000026077032\n",
      "Epoch 4/50\n",
      "  768/40000 [..............................] - ETA: 19s - loss: 0.6382 - acc: 0.8646"
     ]
    },
    {
     "name": "stderr",
     "output_type": "stream",
     "text": [
      "/linux/mnovak/penv/lib/python3.5/site-packages/keras/callbacks.py:122: UserWarning: Method on_batch_end() is slow compared to the batch update (0.113019). Check your callbacks.\n",
      "  % delta_t_median)\n"
     ]
    },
    {
     "name": "stdout",
     "output_type": "stream",
     "text": [
      "40000/40000 [==============================] - 15s 373us/step - loss: 0.6236 - acc: 0.8606 - val_loss: 0.9733 - val_acc: 0.7118\n",
      "current learning rate: 0.003000000026077032\n",
      "Epoch 5/50\n",
      "  768/40000 [..............................] - ETA: 19s - loss: 0.5270 - acc: 0.9141"
     ]
    },
    {
     "name": "stderr",
     "output_type": "stream",
     "text": [
      "/linux/mnovak/penv/lib/python3.5/site-packages/keras/callbacks.py:122: UserWarning: Method on_batch_end() is slow compared to the batch update (0.110984). Check your callbacks.\n",
      "  % delta_t_median)\n"
     ]
    },
    {
     "name": "stdout",
     "output_type": "stream",
     "text": [
      "40000/40000 [==============================] - 15s 370us/step - loss: 0.5333 - acc: 0.8998 - val_loss: 0.8937 - val_acc: 0.7514\n",
      "current learning rate: 0.003000000026077032\n",
      "Epoch 6/50\n",
      "  768/40000 [..............................] - ETA: 20s - loss: 0.4997 - acc: 0.9167"
     ]
    },
    {
     "name": "stderr",
     "output_type": "stream",
     "text": [
      "/linux/mnovak/penv/lib/python3.5/site-packages/keras/callbacks.py:122: UserWarning: Method on_batch_end() is slow compared to the batch update (0.112490). Check your callbacks.\n",
      "  % delta_t_median)\n"
     ]
    },
    {
     "name": "stdout",
     "output_type": "stream",
     "text": [
      "40000/40000 [==============================] - 15s 370us/step - loss: 0.4818 - acc: 0.9207 - val_loss: 0.8667 - val_acc: 0.7652\n",
      "current learning rate: 0.003000000026077032\n",
      "Epoch 7/50\n",
      "  768/40000 [..............................] - ETA: 19s - loss: 0.4512 - acc: 0.9310"
     ]
    },
    {
     "name": "stderr",
     "output_type": "stream",
     "text": [
      "/linux/mnovak/penv/lib/python3.5/site-packages/keras/callbacks.py:122: UserWarning: Method on_batch_end() is slow compared to the batch update (0.106487). Check your callbacks.\n",
      "  % delta_t_median)\n"
     ]
    },
    {
     "name": "stdout",
     "output_type": "stream",
     "text": [
      "40000/40000 [==============================] - 15s 369us/step - loss: 0.4488 - acc: 0.9348 - val_loss: 0.8830 - val_acc: 0.7585\n",
      "current learning rate: 0.003000000026077032\n",
      "Epoch 8/50\n",
      "  768/40000 [..............................] - ETA: 19s - loss: 0.3944 - acc: 0.9596"
     ]
    },
    {
     "name": "stderr",
     "output_type": "stream",
     "text": [
      "/linux/mnovak/penv/lib/python3.5/site-packages/keras/callbacks.py:122: UserWarning: Method on_batch_end() is slow compared to the batch update (0.100922). Check your callbacks.\n",
      "  % delta_t_median)\n"
     ]
    },
    {
     "name": "stdout",
     "output_type": "stream",
     "text": [
      "40000/40000 [==============================] - 15s 370us/step - loss: 0.4228 - acc: 0.9455 - val_loss: 0.8894 - val_acc: 0.7616\n",
      "current learning rate: 0.003000000026077032\n",
      "Epoch 9/50\n",
      "40000/40000 [==============================] - 15s 371us/step - loss: 0.4042 - acc: 0.9535 - val_loss: 0.9617 - val_acc: 0.7416\n",
      "current learning rate: 0.003000000026077032\n",
      "Epoch 10/50\n",
      "  768/40000 [..............................] - ETA: 19s - loss: 0.3953 - acc: 0.9583"
     ]
    },
    {
     "name": "stderr",
     "output_type": "stream",
     "text": [
      "/linux/mnovak/penv/lib/python3.5/site-packages/keras/callbacks.py:122: UserWarning: Method on_batch_end() is slow compared to the batch update (0.106991). Check your callbacks.\n",
      "  % delta_t_median)\n"
     ]
    },
    {
     "name": "stdout",
     "output_type": "stream",
     "text": [
      "40000/40000 [==============================] - 15s 369us/step - loss: 0.3926 - acc: 0.9586 - val_loss: 0.8541 - val_acc: 0.7790\n",
      "current learning rate: 0.003000000026077032\n",
      "Epoch 11/50\n",
      "  768/40000 [..............................] - ETA: 19s - loss: 0.3743 - acc: 0.9648"
     ]
    },
    {
     "name": "stderr",
     "output_type": "stream",
     "text": [
      "/linux/mnovak/penv/lib/python3.5/site-packages/keras/callbacks.py:122: UserWarning: Method on_batch_end() is slow compared to the batch update (0.109689). Check your callbacks.\n",
      "  % delta_t_median)\n"
     ]
    },
    {
     "name": "stdout",
     "output_type": "stream",
     "text": [
      "40000/40000 [==============================] - 15s 370us/step - loss: 0.3839 - acc: 0.9616 - val_loss: 0.9969 - val_acc: 0.7353\n",
      "current learning rate: 0.003000000026077032\n",
      "Epoch 12/50\n",
      "  768/40000 [..............................] - ETA: 19s - loss: 0.3677 - acc: 0.9688"
     ]
    },
    {
     "name": "stderr",
     "output_type": "stream",
     "text": [
      "/linux/mnovak/penv/lib/python3.5/site-packages/keras/callbacks.py:122: UserWarning: Method on_batch_end() is slow compared to the batch update (0.107731). Check your callbacks.\n",
      "  % delta_t_median)\n"
     ]
    },
    {
     "name": "stdout",
     "output_type": "stream",
     "text": [
      "40000/40000 [==============================] - 15s 373us/step - loss: 0.3762 - acc: 0.9650 - val_loss: 0.8530 - val_acc: 0.7829\n",
      "current learning rate: 0.003000000026077032\n",
      "Epoch 13/50\n",
      "  768/40000 [..............................] - ETA: 18s - loss: 0.3503 - acc: 0.9792"
     ]
    },
    {
     "name": "stderr",
     "output_type": "stream",
     "text": [
      "/linux/mnovak/penv/lib/python3.5/site-packages/keras/callbacks.py:122: UserWarning: Method on_batch_end() is slow compared to the batch update (0.103968). Check your callbacks.\n",
      "  % delta_t_median)\n"
     ]
    },
    {
     "name": "stdout",
     "output_type": "stream",
     "text": [
      "40000/40000 [==============================] - 15s 367us/step - loss: 0.3712 - acc: 0.9664 - val_loss: 0.9002 - val_acc: 0.7702\n",
      "current learning rate: 0.003000000026077032\n",
      "Epoch 14/50\n",
      "  768/40000 [..............................] - ETA: 18s - loss: 0.3610 - acc: 0.9688"
     ]
    },
    {
     "name": "stderr",
     "output_type": "stream",
     "text": [
      "/linux/mnovak/penv/lib/python3.5/site-packages/keras/callbacks.py:122: UserWarning: Method on_batch_end() is slow compared to the batch update (0.103056). Check your callbacks.\n",
      "  % delta_t_median)\n"
     ]
    },
    {
     "name": "stdout",
     "output_type": "stream",
     "text": [
      "40000/40000 [==============================] - 15s 373us/step - loss: 0.3624 - acc: 0.9704 - val_loss: 0.8877 - val_acc: 0.7739\n",
      "current learning rate: 0.003000000026077032\n",
      "Epoch 15/50\n",
      "  768/40000 [..............................] - ETA: 18s - loss: 0.3613 - acc: 0.9740"
     ]
    },
    {
     "name": "stderr",
     "output_type": "stream",
     "text": [
      "/linux/mnovak/penv/lib/python3.5/site-packages/keras/callbacks.py:122: UserWarning: Method on_batch_end() is slow compared to the batch update (0.109988). Check your callbacks.\n",
      "  % delta_t_median)\n"
     ]
    },
    {
     "name": "stdout",
     "output_type": "stream",
     "text": [
      "40000/40000 [==============================] - 15s 371us/step - loss: 0.3615 - acc: 0.9715 - val_loss: 0.8350 - val_acc: 0.7958\n",
      "current learning rate: 0.003000000026077032\n",
      "Epoch 16/50\n",
      "  768/40000 [..............................] - ETA: 19s - loss: 0.3561 - acc: 0.9714"
     ]
    },
    {
     "name": "stderr",
     "output_type": "stream",
     "text": [
      "/linux/mnovak/penv/lib/python3.5/site-packages/keras/callbacks.py:122: UserWarning: Method on_batch_end() is slow compared to the batch update (0.112911). Check your callbacks.\n",
      "  % delta_t_median)\n"
     ]
    },
    {
     "name": "stdout",
     "output_type": "stream",
     "text": [
      "40000/40000 [==============================] - 15s 369us/step - loss: 0.3537 - acc: 0.9737 - val_loss: 0.9915 - val_acc: 0.7397\n",
      "current learning rate: 0.003000000026077032\n",
      "Epoch 17/50\n",
      "  768/40000 [..............................] - ETA: 19s - loss: 0.3425 - acc: 0.9818"
     ]
    },
    {
     "name": "stderr",
     "output_type": "stream",
     "text": [
      "/linux/mnovak/penv/lib/python3.5/site-packages/keras/callbacks.py:122: UserWarning: Method on_batch_end() is slow compared to the batch update (0.110731). Check your callbacks.\n",
      "  % delta_t_median)\n"
     ]
    },
    {
     "name": "stdout",
     "output_type": "stream",
     "text": [
      "40000/40000 [==============================] - 15s 371us/step - loss: 0.3524 - acc: 0.9748 - val_loss: 0.8857 - val_acc: 0.7769\n",
      "current learning rate: 0.003000000026077032\n",
      "Epoch 18/50\n",
      "40000/40000 [==============================] - 15s 371us/step - loss: 0.3492 - acc: 0.9755 - val_loss: 0.8923 - val_acc: 0.7760\n",
      "current learning rate: 0.003000000026077032\n",
      "Epoch 19/50\n",
      "  768/40000 [..............................] - ETA: 18s - loss: 0.3342 - acc: 0.9870"
     ]
    },
    {
     "name": "stderr",
     "output_type": "stream",
     "text": [
      "/linux/mnovak/penv/lib/python3.5/site-packages/keras/callbacks.py:122: UserWarning: Method on_batch_end() is slow compared to the batch update (0.102922). Check your callbacks.\n",
      "  % delta_t_median)\n"
     ]
    },
    {
     "name": "stdout",
     "output_type": "stream",
     "text": [
      "40000/40000 [==============================] - 15s 369us/step - loss: 0.3456 - acc: 0.9772 - val_loss: 0.8832 - val_acc: 0.7796\n",
      "current learning rate: 0.003000000026077032\n",
      "Epoch 20/50\n",
      "40000/40000 [==============================] - 15s 372us/step - loss: 0.3429 - acc: 0.9778 - val_loss: 0.9927 - val_acc: 0.7460\n",
      "current learning rate: 0.0006000000284984708\n"
     ]
    },
    {
     "data": {
      "image/png": "[encoded data removed]",
      "text/plain": [
       "<Figure size 432x288 with 1 Axes>"
      ]
     },
     "metadata": {
      "needs_background": "light"
     },
     "output_type": "display_data"
    }
   ],
   "source": [
    "train(model_name='vgg16_layca_1', lr=0.003, epochs=50, batch_size=256, validation_split=0.2, momentum=0.9, layca=True, lr_decay=True)"
   ]
  },
  {
   "cell_type": "code",
   "execution_count": 51,
   "metadata": {
    "collapsed": true
   },
   "outputs": [
    {
     "name": "stdout",
     "output_type": "stream",
     "text": [
      "Train on 40000 samples, validate on 10000 samples\n",
      "Epoch 1/50\n",
      "40000/40000 [==============================] - 19s 471us/step - loss: 1.5894 - acc: 0.4488 - val_loss: 1.4616 - val_acc: 0.5039\n",
      "current learning rate: 0.0007999999797903001\n",
      "Epoch 2/50\n",
      "  768/40000 [..............................] - ETA: 18s - loss: 1.1901 - acc: 0.6211"
     ]
    },
    {
     "name": "stderr",
     "output_type": "stream",
     "text": [
      "/linux/mnovak/penv/lib/python3.5/site-packages/keras/callbacks.py:122: UserWarning: Method on_batch_end() is slow compared to the batch update (0.102876). Check your callbacks.\n",
      "  % delta_t_median)\n"
     ]
    },
    {
     "name": "stdout",
     "output_type": "stream",
     "text": [
      "40000/40000 [==============================] - 15s 365us/step - loss: 1.1372 - acc: 0.6450 - val_loss: 1.2845 - val_acc: 0.5927\n",
      "current learning rate: 0.0007999999797903001\n",
      "Epoch 3/50\n",
      "40000/40000 [==============================] - 15s 369us/step - loss: 0.8967 - acc: 0.7539 - val_loss: 1.3085 - val_acc: 0.5918\n",
      "current learning rate: 0.0007999999797903001\n",
      "Epoch 4/50\n",
      "  768/40000 [..............................] - ETA: 19s - loss: 0.7167 - acc: 0.8490"
     ]
    },
    {
     "name": "stderr",
     "output_type": "stream",
     "text": [
      "/linux/mnovak/penv/lib/python3.5/site-packages/keras/callbacks.py:122: UserWarning: Method on_batch_end() is slow compared to the batch update (0.107295). Check your callbacks.\n",
      "  % delta_t_median)\n"
     ]
    },
    {
     "name": "stdout",
     "output_type": "stream",
     "text": [
      "40000/40000 [==============================] - 15s 372us/step - loss: 0.6863 - acc: 0.8558 - val_loss: 1.3159 - val_acc: 0.5987\n",
      "current learning rate: 0.0007999999797903001\n",
      "Epoch 5/50\n",
      "  768/40000 [..............................] - ETA: 18s - loss: 0.5296 - acc: 0.9219"
     ]
    },
    {
     "name": "stderr",
     "output_type": "stream",
     "text": [
      "/linux/mnovak/penv/lib/python3.5/site-packages/keras/callbacks.py:122: UserWarning: Method on_batch_end() is slow compared to the batch update (0.101825). Check your callbacks.\n",
      "  % delta_t_median)\n"
     ]
    },
    {
     "name": "stdout",
     "output_type": "stream",
     "text": [
      "40000/40000 [==============================] - 15s 371us/step - loss: 0.5168 - acc: 0.9291 - val_loss: 1.1782 - val_acc: 0.6508\n",
      "current learning rate: 0.0007999999797903001\n",
      "Epoch 6/50\n",
      "  768/40000 [..............................] - ETA: 18s - loss: 0.4128 - acc: 0.9740"
     ]
    },
    {
     "name": "stderr",
     "output_type": "stream",
     "text": [
      "/linux/mnovak/penv/lib/python3.5/site-packages/keras/callbacks.py:122: UserWarning: Method on_batch_end() is slow compared to the batch update (0.101580). Check your callbacks.\n",
      "  % delta_t_median)\n"
     ]
    },
    {
     "name": "stdout",
     "output_type": "stream",
     "text": [
      "40000/40000 [==============================] - 15s 373us/step - loss: 0.4236 - acc: 0.9631 - val_loss: 1.1363 - val_acc: 0.6662\n",
      "current learning rate: 0.0007999999797903001\n",
      "Epoch 7/50\n",
      "  768/40000 [..............................] - ETA: 19s - loss: 0.3596 - acc: 0.9844"
     ]
    },
    {
     "name": "stderr",
     "output_type": "stream",
     "text": [
      "/linux/mnovak/penv/lib/python3.5/site-packages/keras/callbacks.py:122: UserWarning: Method on_batch_end() is slow compared to the batch update (0.117798). Check your callbacks.\n",
      "  % delta_t_median)\n"
     ]
    },
    {
     "name": "stdout",
     "output_type": "stream",
     "text": [
      "40000/40000 [==============================] - 15s 377us/step - loss: 0.3860 - acc: 0.9736 - val_loss: 1.2357 - val_acc: 0.6395\n",
      "current learning rate: 0.0007999999797903001\n",
      "Epoch 8/50\n",
      "  768/40000 [..............................] - ETA: 19s - loss: 0.3572 - acc: 0.9909"
     ]
    },
    {
     "name": "stderr",
     "output_type": "stream",
     "text": [
      "/linux/mnovak/penv/lib/python3.5/site-packages/keras/callbacks.py:122: UserWarning: Method on_batch_end() is slow compared to the batch update (0.110545). Check your callbacks.\n",
      "  % delta_t_median)\n"
     ]
    },
    {
     "name": "stdout",
     "output_type": "stream",
     "text": [
      "40000/40000 [==============================] - 15s 375us/step - loss: 0.3682 - acc: 0.9774 - val_loss: 1.1833 - val_acc: 0.6514\n",
      "current learning rate: 0.0007999999797903001\n",
      "Epoch 9/50\n",
      "  768/40000 [..............................] - ETA: 19s - loss: 0.3468 - acc: 0.9831"
     ]
    },
    {
     "name": "stderr",
     "output_type": "stream",
     "text": [
      "/linux/mnovak/penv/lib/python3.5/site-packages/keras/callbacks.py:122: UserWarning: Method on_batch_end() is slow compared to the batch update (0.105889). Check your callbacks.\n",
      "  % delta_t_median)\n"
     ]
    },
    {
     "name": "stdout",
     "output_type": "stream",
     "text": [
      "40000/40000 [==============================] - 15s 370us/step - loss: 0.3611 - acc: 0.9782 - val_loss: 1.2111 - val_acc: 0.6532\n",
      "current learning rate: 0.0007999999797903001\n",
      "Epoch 10/50\n",
      "  768/40000 [..............................] - ETA: 18s - loss: 0.3510 - acc: 0.9753"
     ]
    },
    {
     "name": "stderr",
     "output_type": "stream",
     "text": [
      "/linux/mnovak/penv/lib/python3.5/site-packages/keras/callbacks.py:122: UserWarning: Method on_batch_end() is slow compared to the batch update (0.105936). Check your callbacks.\n",
      "  % delta_t_median)\n"
     ]
    },
    {
     "name": "stdout",
     "output_type": "stream",
     "text": [
      "40000/40000 [==============================] - 15s 372us/step - loss: 0.3554 - acc: 0.9787 - val_loss: 1.2352 - val_acc: 0.6436\n",
      "current learning rate: 0.0007999999797903001\n",
      "Epoch 11/50\n",
      "  768/40000 [..............................] - ETA: 19s - loss: 0.3329 - acc: 0.9870"
     ]
    },
    {
     "name": "stderr",
     "output_type": "stream",
     "text": [
      "/linux/mnovak/penv/lib/python3.5/site-packages/keras/callbacks.py:122: UserWarning: Method on_batch_end() is slow compared to the batch update (0.121927). Check your callbacks.\n",
      "  % delta_t_median)\n"
     ]
    },
    {
     "name": "stdout",
     "output_type": "stream",
     "text": [
      "40000/40000 [==============================] - 15s 375us/step - loss: 0.3510 - acc: 0.9805 - val_loss: 1.1968 - val_acc: 0.6625\n",
      "current learning rate: 0.0007999999797903001\n"
     ]
    },
    {
     "data": {
      "image/png": "[encoded data removed]",
      "text/plain": [
       "<Figure size 432x288 with 1 Axes>"
      ]
     },
     "metadata": {
      "needs_background": "light"
     },
     "output_type": "display_data"
    }
   ],
   "source": [
    "train(model_name='vgg16_layca_0', lr=0.0008, epochs=50, batch_size=256, validation_split=0.2, momentum=0.9, layca=True, lr_decay=False)"
   ]
  },
  {
   "cell_type": "markdown",
   "metadata": {},
   "source": [
    "## Saving models"
   ]
  },
  {
   "cell_type": "code",
   "execution_count": 58,
   "metadata": {},
   "outputs": [],
   "source": [
    "for name, model in models.items():\n",
    "    model.save_weights(weights_path(simulation_id, name) + 'final/weights-final.hdf5')"
   ]
  }
 ],
 "metadata": {
  "kernelspec": {
   "display_name": "Python 3",
   "language": "python",
   "name": "python3"
  },
  "language_info": {
   "codemirror_mode": {
    "name": "ipython",
    "version": 3
   },
   "file_extension": ".py",
   "mimetype": "text/x-python",
   "name": "python",
   "nbconvert_exporter": "python",
   "pygments_lexer": "ipython3",
   "version": "3.5.2"
  }
 },
 "nbformat": 4,
 "nbformat_minor": 2
}
