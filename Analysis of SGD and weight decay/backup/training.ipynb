{
 "cells": [
  {
   "cell_type": "markdown",
   "metadata": {},
   "source": [
    "# Notebook initialization"
   ]
  },
  {
   "cell_type": "markdown",
   "metadata": {},
   "source": [
    "## Selecting best GPU to execute on"
   ]
  },
  {
   "cell_type": "code",
   "execution_count": 31,
   "metadata": {},
   "outputs": [
    {
     "name": "stdout",
     "output_type": "stream",
     "text": [
      "setGPU: Setting GPU to: 0\n"
     ]
    }
   ],
   "source": [
    "import os\n",
    "os.environ['PYTHONHASHSEED'] = '0'\n",
    "import gpustat\n",
    "\n",
    "stats = gpustat.GPUStatCollection.new_query()\n",
    "ids = map(lambda gpu: int(gpu.entry['index']), stats)\n",
    "ratios = map(lambda gpu: float(gpu.entry['memory.used'])/float(gpu.entry['memory.total']), stats)\n",
    "bestGPU = 0#min(zip(ids, ratios), key=lambda x: x[1])[0]\n",
    "\n",
    "print(\"setGPU: Setting GPU to: {}\".format(bestGPU))\n",
    "os.environ['CUDA_DEVICE_ORDER'] = 'PCI_BUS_ID'\n",
    "os.environ['CUDA_VISIBLE_DEVICES'] = str(bestGPU)"
   ]
  },
  {
   "cell_type": "markdown",
   "metadata": {},
   "source": [
    "##  Global variables"
   ]
  },
  {
   "cell_type": "code",
   "execution_count": 32,
   "metadata": {},
   "outputs": [
    {
     "name": "stdout",
     "output_type": "stream",
     "text": [
      "The autoreload extension is already loaded. To reload it, use:\n",
      "  %reload_ext autoreload\n"
     ]
    }
   ],
   "source": [
    "# IPython extension to reload modules before executing user code.\n",
    "# 'autoreload' reloads modules automatically before entering the execution of code typed at the IPython prompt.\n",
    "%load_ext autoreload\n",
    "%autoreload 2\n",
    "import sys\n",
    "sys.path.insert(0, \"../\")"
   ]
  },
  {
   "cell_type": "code",
   "execution_count": 33,
   "metadata": {},
   "outputs": [],
   "source": [
    "with open('simulation_id.txt', 'r') as f:\n",
    "    simulation_id = int(f.read())\n",
    "\n",
    "#with open('simulation_id.txt', 'w') as f:\n",
    " #   f.write(str(simulation_id))"
   ]
  },
  {
   "cell_type": "code",
   "execution_count": 34,
   "metadata": {},
   "outputs": [],
   "source": [
    "weights_path = lambda wid, name: '../weights/{}/{}/'.format(wid, name)\n",
    "figures_path = lambda name: 'figures/{}/{}/'.format(simulation_id, name)"
   ]
  },
  {
   "cell_type": "code",
   "execution_count": 35,
   "metadata": {},
   "outputs": [
    {
     "name": "stdout",
     "output_type": "stream",
     "text": [
      "3\n"
     ]
    }
   ],
   "source": [
    "print(simulation_id)\n",
    "import datetime\n",
    "date = datetime.datetime.now()"
   ]
  },
  {
   "cell_type": "markdown",
   "metadata": {},
   "source": [
    "## Seed initialization (for reproductible results)"
   ]
  },
  {
   "cell_type": "code",
   "execution_count": 36,
   "metadata": {},
   "outputs": [],
   "source": [
    "# Setting the seed for NumPy generated random numbers\n",
    "import numpy as np\n",
    "np.random.seed(0)\n",
    "\n",
    "# Setting the seed for Python random numbers\n",
    "import random as rn\n",
    "rn.seed(0)\n",
    "\n",
    "# Setting the seed for TensorFlow random numbers\n",
    "import tensorflow as tf\n",
    "tf.set_random_seed(0)\n",
    "\n",
    "#from keras.backend.tensorflow_backend import set_session\n",
    "#config = tf.ConfigProto()\n",
    "#config.gpu_options.per_process_gpu_memory_fraction = 0.5\n",
    "#set_session(tf.Session(config=config))"
   ]
  },
  {
   "cell_type": "markdown",
   "metadata": {},
   "source": [
    "# Importing packages"
   ]
  },
  {
   "cell_type": "markdown",
   "metadata": {},
   "source": [
    "## User defined packages"
   ]
  },
  {
   "cell_type": "code",
   "execution_count": 37,
   "metadata": {},
   "outputs": [],
   "source": [
    "from data_utils import *\n",
    "from keras_utils import plot_layerwise_angle_deviation_curves, LayerwiseAngleDeviationCurves, LearningRateMonitor, get_kernel_layer_names\n",
    "from models import VGG16_Vanilla, VGG16, VGG16_Vanilla_beta, VGG16_beta"
   ]
  },
  {
   "cell_type": "markdown",
   "metadata": {},
   "source": [
    "## Other packages"
   ]
  },
  {
   "cell_type": "code",
   "execution_count": 38,
   "metadata": {},
   "outputs": [],
   "source": [
    "from keras import optimizers\n",
    "from keras import callbacks\n",
    "from keras.models import clone_model\n",
    "from keras.callbacks import LearningRateScheduler, EarlyStopping, ReduceLROnPlateau, ModelCheckpoint\n",
    "from collections import defaultdict\n",
    "import scipy\n",
    "import matplotlib.pyplot as plt\n",
    "import pathlib\n",
    "import pickle\n",
    "from layca_optimizers import SGD"
   ]
  },
  {
   "cell_type": "markdown",
   "metadata": {},
   "source": [
    "# Training model"
   ]
  },
  {
   "cell_type": "code",
   "execution_count": 39,
   "metadata": {},
   "outputs": [],
   "source": [
    "num_classes = 10"
   ]
  },
  {
   "cell_type": "code",
   "execution_count": 40,
   "metadata": {},
   "outputs": [],
   "source": [
    "(x_train, y_train), (x_test, y_test) = import_cifar(num_classes)"
   ]
  },
  {
   "cell_type": "code",
   "execution_count": 41,
   "metadata": {},
   "outputs": [],
   "source": [
    "model_names = ['vgg16_vanilla_layca_bad']\n",
    "models = {\n",
    "    'vgg16_vanilla_layca_bad': VGG16_Vanilla_beta(input_shape=(32,32,3), num_classes=num_classes)\n",
    "} "
   ]
  },
  {
   "cell_type": "code",
   "execution_count": 42,
   "metadata": {},
   "outputs": [],
   "source": [
    "for name, model in models.items():\n",
    "    pathlib.Path(weights_path(simulation_id, name) + 'initial/').mkdir(parents=True, exist_ok=True) \n",
    "    pathlib.Path(weights_path(simulation_id, name) + 'final/').mkdir(parents=True, exist_ok=True) \n",
    "    pathlib.Path(weights_path(simulation_id, name) + 'byepoch/').mkdir(parents=True, exist_ok=True) \n",
    "    pathlib.Path(figures_path(name)).mkdir(parents=True, exist_ok=True)"
   ]
  },
  {
   "cell_type": "code",
   "execution_count": 43,
   "metadata": {},
   "outputs": [],
   "source": [
    "for name, model in models.items():\n",
    "    model.save_weights(weights_path(simulation_id, name) + 'initial/weights-initial.hdf5')"
   ]
  },
  {
   "cell_type": "code",
   "execution_count": 25,
   "metadata": {},
   "outputs": [],
   "source": [
    "def train(model_name, lr, epochs, batch_size, validation_split, momentum, layca):  \n",
    "       \n",
    "    with open(weights_path(simulation_id, model_name) + 'parameters.pickle', 'wb') as handle:\n",
    "        pickle.dump({'date': date,\n",
    "                     'lr': lr, \n",
    "                     'epochs': epochs,\n",
    "                     'batch_size': batch_size,\n",
    "                     'validation_split': validation_split,\n",
    "                     'momentum': momentum\n",
    "                    }, handle, protocol=pickle.HIGHEST_PROTOCOL)\n",
    "    \n",
    "    model = models[model_name]\n",
    "    \n",
    "    ladc = LayerwiseAngleDeviationCurves()\n",
    "    callbacks = [ladc]\n",
    "    callbacks += [ReduceLROnPlateau(monitor='val_loss', factor=0.2, patience=5, min_delta=1e-7)]\n",
    "    callbacks += [LearningRateMonitor()]\n",
    "    callbacks += [ModelCheckpoint(weights_path(simulation_id, model_name) + 'byepoch/weights-{epoch:02d}.hdf5', save_weights_only=True)]\n",
    "    \n",
    "    # Optimization details\n",
    "    sgd = SGD(lr=lr, momentum=momentum, nesterov=True, layca=layca)\n",
    "    model.compile(loss='categorical_crossentropy', optimizer=sgd, metrics=['accuracy'])\n",
    "    \n",
    "    hist = model.fit(x=x_train, \n",
    "                     y=y_train,\n",
    "                     validation_split=validation_split,\n",
    "                     batch_size=batch_size, \n",
    "                     epochs=epochs, \n",
    "                     verbose=1, \n",
    "                     callbacks=callbacks)\n",
    "    \n",
    "    with open(weights_path(simulation_id, model_name) + 'history.pickle', 'wb') as handle:\n",
    "        pickle.dump(hist.history, handle, protocol=pickle.HIGHEST_PROTOCOL)\n",
    "    \n",
    "    return ladc"
   ]
  },
  {
   "cell_type": "code",
   "execution_count": 44,
   "metadata": {
    "scrolled": true
   },
   "outputs": [
    {
     "name": "stdout",
     "output_type": "stream",
     "text": [
      "Train on 40000 samples, validate on 10000 samples\n",
      "Epoch 1/50\n",
      "40000/40000 [==============================] - 16s 395us/step - loss: 1.5937 - acc: 0.4476 - val_loss: 1.4839 - val_acc: 0.4949\n",
      "current learning rate: 0.0007999999797903001\n",
      "Epoch 2/50\n",
      "  768/40000 [..............................] - ETA: 17s - loss: 1.1879 - acc: 0.6237"
     ]
    },
    {
     "name": "stderr",
     "output_type": "stream",
     "text": [
      "/linux/mnovak/penv/lib/python3.5/site-packages/keras/callbacks.py:122: UserWarning: Method on_batch_end() is slow compared to the batch update (0.101054). Check your callbacks.\n",
      "  % delta_t_median)\n"
     ]
    },
    {
     "name": "stdout",
     "output_type": "stream",
     "text": [
      "40000/40000 [==============================] - 14s 354us/step - loss: 1.1445 - acc: 0.6422 - val_loss: 1.2438 - val_acc: 0.5950\n",
      "current learning rate: 0.0007999999797903001\n",
      "Epoch 3/50\n",
      "40000/40000 [==============================] - 14s 354us/step - loss: 0.8974 - acc: 0.7558 - val_loss: 1.2264 - val_acc: 0.6372\n",
      "current learning rate: 0.0007999999797903001\n",
      "Epoch 4/50\n",
      "40000/40000 [==============================] - 14s 357us/step - loss: 0.6796 - acc: 0.8572 - val_loss: 1.2395 - val_acc: 0.6317\n",
      "current learning rate: 0.0007999999797903001\n",
      "Epoch 5/50\n",
      "40000/40000 [==============================] - 14s 359us/step - loss: 0.5167 - acc: 0.9299 - val_loss: 1.2016 - val_acc: 0.6426\n",
      "current learning rate: 0.0007999999797903001\n",
      "Epoch 6/50\n",
      "40000/40000 [==============================] - 14s 359us/step - loss: 0.4216 - acc: 0.9643 - val_loss: 1.1589 - val_acc: 0.6612\n",
      "current learning rate: 0.0007999999797903001\n",
      "Epoch 7/50\n",
      "40000/40000 [==============================] - 14s 360us/step - loss: 0.3861 - acc: 0.9736 - val_loss: 1.2537 - val_acc: 0.6287\n",
      "current learning rate: 0.0007999999797903001\n",
      "Epoch 8/50\n",
      "40000/40000 [==============================] - 15s 363us/step - loss: 0.3694 - acc: 0.9764 - val_loss: 1.2492 - val_acc: 0.6402\n",
      "current learning rate: 0.0007999999797903001\n",
      "Epoch 9/50\n",
      "40000/40000 [==============================] - 14s 359us/step - loss: 0.3582 - acc: 0.9786 - val_loss: 1.2684 - val_acc: 0.6286\n",
      "current learning rate: 0.0007999999797903001\n",
      "Epoch 10/50\n",
      "40000/40000 [==============================] - 14s 359us/step - loss: 0.3568 - acc: 0.9788 - val_loss: 1.1958 - val_acc: 0.6632\n",
      "current learning rate: 0.0007999999797903001\n",
      "Epoch 11/50\n",
      "40000/40000 [==============================] - 14s 359us/step - loss: 0.3513 - acc: 0.9791 - val_loss: 1.3095 - val_acc: 0.6253\n",
      "current learning rate: 0.00015999999595806003\n",
      "Epoch 12/50\n",
      "40000/40000 [==============================] - 14s 359us/step - loss: 0.3167 - acc: 0.9929 - val_loss: 1.1030 - val_acc: 0.6947\n",
      "current learning rate: 0.00015999999595806003\n",
      "Epoch 13/50\n",
      "40000/40000 [==============================] - 14s 361us/step - loss: 0.3008 - acc: 0.9983 - val_loss: 1.1032 - val_acc: 0.6953\n",
      "current learning rate: 0.00015999999595806003\n",
      "Epoch 14/50\n",
      "40000/40000 [==============================] - 15s 363us/step - loss: 0.2988 - acc: 0.9988 - val_loss: 1.1188 - val_acc: 0.6933\n",
      "current learning rate: 0.00015999999595806003\n",
      "Epoch 15/50\n",
      "40000/40000 [==============================] - 15s 364us/step - loss: 0.2973 - acc: 0.9989 - val_loss: 1.0999 - val_acc: 0.6971\n",
      "current learning rate: 0.00015999999595806003\n",
      "Epoch 16/50\n",
      "40000/40000 [==============================] - 14s 360us/step - loss: 0.2954 - acc: 0.9992 - val_loss: 1.1001 - val_acc: 0.6992\n",
      "current learning rate: 0.00015999999595806003\n",
      "Epoch 17/50\n",
      "40000/40000 [==============================] - 14s 359us/step - loss: 0.2961 - acc: 0.9992 - val_loss: 1.1084 - val_acc: 0.6949\n",
      "current learning rate: 0.00015999999595806003\n",
      "Epoch 18/50\n",
      "40000/40000 [==============================] - 14s 362us/step - loss: 0.2958 - acc: 0.9992 - val_loss: 1.0952 - val_acc: 0.7008\n",
      "current learning rate: 0.00015999999595806003\n",
      "Epoch 19/50\n",
      "40000/40000 [==============================] - 14s 358us/step - loss: 0.2953 - acc: 0.9993 - val_loss: 1.1166 - val_acc: 0.6921\n",
      "current learning rate: 0.00015999999595806003\n",
      "Epoch 20/50\n",
      "40000/40000 [==============================] - 14s 361us/step - loss: 0.2943 - acc: 0.9994 - val_loss: 1.1054 - val_acc: 0.6992\n",
      "current learning rate: 0.00015999999595806003\n",
      "Epoch 21/50\n",
      "40000/40000 [==============================] - 15s 369us/step - loss: 0.2946 - acc: 0.9994 - val_loss: 1.1255 - val_acc: 0.6911\n",
      "current learning rate: 0.00015999999595806003\n",
      "Epoch 22/50\n",
      "40000/40000 [==============================] - 14s 360us/step - loss: 0.2940 - acc: 0.9995 - val_loss: 1.1085 - val_acc: 0.6967\n",
      "current learning rate: 0.00015999999595806003\n",
      "Epoch 23/50\n",
      "40000/40000 [==============================] - 14s 360us/step - loss: 0.2942 - acc: 0.9995 - val_loss: 1.1119 - val_acc: 0.6979\n",
      "current learning rate: 3.199999991920777e-05\n",
      "Epoch 24/50\n",
      "40000/40000 [==============================] - 14s 361us/step - loss: 0.2936 - acc: 0.9995 - val_loss: 1.0834 - val_acc: 0.7037\n",
      "current learning rate: 3.199999991920777e-05\n",
      "Epoch 25/50\n",
      "40000/40000 [==============================] - 14s 358us/step - loss: 0.2932 - acc: 0.9996 - val_loss: 1.0825 - val_acc: 0.7042\n",
      "current learning rate: 3.199999991920777e-05\n",
      "Epoch 26/50\n",
      "40000/40000 [==============================] - 15s 365us/step - loss: 0.2932 - acc: 0.9996 - val_loss: 1.0822 - val_acc: 0.7059\n",
      "current learning rate: 3.199999991920777e-05\n",
      "Epoch 27/50\n",
      "40000/40000 [==============================] - 14s 361us/step - loss: 0.2929 - acc: 0.9997 - val_loss: 1.0784 - val_acc: 0.7068\n",
      "current learning rate: 3.199999991920777e-05\n",
      "Epoch 28/50\n",
      "40000/40000 [==============================] - 14s 359us/step - loss: 0.2923 - acc: 0.9997 - val_loss: 1.0773 - val_acc: 0.7055\n",
      "current learning rate: 3.199999991920777e-05\n",
      "Epoch 29/50\n",
      "40000/40000 [==============================] - 15s 365us/step - loss: 0.2924 - acc: 0.9997 - val_loss: 1.0756 - val_acc: 0.7076\n",
      "current learning rate: 3.199999991920777e-05\n",
      "Epoch 30/50\n",
      "40000/40000 [==============================] - 14s 361us/step - loss: 0.2926 - acc: 0.9997 - val_loss: 1.0803 - val_acc: 0.7056\n",
      "current learning rate: 3.199999991920777e-05\n",
      "Epoch 31/50\n",
      "40000/40000 [==============================] - 14s 361us/step - loss: 0.2920 - acc: 0.9997 - val_loss: 1.0732 - val_acc: 0.7072\n",
      "current learning rate: 3.199999991920777e-05\n",
      "Epoch 32/50\n",
      "40000/40000 [==============================] - 14s 360us/step - loss: 0.2919 - acc: 0.9997 - val_loss: 1.0769 - val_acc: 0.7078\n",
      "current learning rate: 3.199999991920777e-05\n",
      "Epoch 33/50\n",
      "40000/40000 [==============================] - 14s 362us/step - loss: 0.2925 - acc: 0.9997 - val_loss: 1.0726 - val_acc: 0.7086\n",
      "current learning rate: 3.199999991920777e-05\n",
      "Epoch 34/50\n",
      "40000/40000 [==============================] - 14s 360us/step - loss: 0.2920 - acc: 0.9997 - val_loss: 1.0704 - val_acc: 0.7076\n",
      "current learning rate: 3.199999991920777e-05\n",
      "Epoch 35/50\n",
      "  768/40000 [..............................] - ETA: 18s - loss: 0.2875 - acc: 1.0000"
     ]
    },
    {
     "name": "stderr",
     "output_type": "stream",
     "text": [
      "/linux/mnovak/penv/lib/python3.5/site-packages/keras/callbacks.py:122: UserWarning: Method on_batch_end() is slow compared to the batch update (0.105794). Check your callbacks.\n",
      "  % delta_t_median)\n"
     ]
    },
    {
     "name": "stdout",
     "output_type": "stream",
     "text": [
      "40000/40000 [==============================] - 14s 361us/step - loss: 0.2925 - acc: 0.9998 - val_loss: 1.0702 - val_acc: 0.7081\n",
      "current learning rate: 3.199999991920777e-05\n",
      "Epoch 36/50\n",
      "40000/40000 [==============================] - 14s 362us/step - loss: 0.2917 - acc: 0.9998 - val_loss: 1.0738 - val_acc: 0.7086\n",
      "current learning rate: 3.199999991920777e-05\n",
      "Epoch 37/50\n",
      "40000/40000 [==============================] - 14s 358us/step - loss: 0.2925 - acc: 0.9998 - val_loss: 1.0690 - val_acc: 0.7098\n",
      "current learning rate: 3.199999991920777e-05\n",
      "Epoch 38/50\n",
      "40000/40000 [==============================] - 14s 360us/step - loss: 0.2931 - acc: 0.9998 - val_loss: 1.0716 - val_acc: 0.7114\n",
      "current learning rate: 3.199999991920777e-05\n",
      "Epoch 39/50\n",
      "40000/40000 [==============================] - 14s 362us/step - loss: 0.2927 - acc: 0.9999 - val_loss: 1.0703 - val_acc: 0.7096\n",
      "current learning rate: 3.199999991920777e-05\n",
      "Epoch 40/50\n",
      "40000/40000 [==============================] - 14s 359us/step - loss: 0.2915 - acc: 0.9999 - val_loss: 1.0710 - val_acc: 0.7093\n",
      "current learning rate: 3.199999991920777e-05\n",
      "Epoch 41/50\n",
      "40000/40000 [==============================] - 14s 359us/step - loss: 0.2920 - acc: 0.9999 - val_loss: 1.0689 - val_acc: 0.7128\n",
      "current learning rate: 3.199999991920777e-05\n",
      "Epoch 42/50\n",
      "40000/40000 [==============================] - 14s 361us/step - loss: 0.2914 - acc: 0.9999 - val_loss: 1.0703 - val_acc: 0.7105\n",
      "current learning rate: 3.199999991920777e-05\n",
      "Epoch 43/50\n",
      "40000/40000 [==============================] - 14s 359us/step - loss: 0.2921 - acc: 0.9999 - val_loss: 1.0681 - val_acc: 0.7127\n",
      "current learning rate: 3.199999991920777e-05\n",
      "Epoch 44/50\n",
      "40000/40000 [==============================] - 14s 360us/step - loss: 0.2918 - acc: 0.9999 - val_loss: 1.0686 - val_acc: 0.7134\n",
      "current learning rate: 3.199999991920777e-05\n",
      "Epoch 45/50\n",
      "40000/40000 [==============================] - 15s 363us/step - loss: 0.2918 - acc: 0.9999 - val_loss: 1.0667 - val_acc: 0.7102\n",
      "current learning rate: 3.199999991920777e-05\n",
      "Epoch 46/50\n",
      "40000/40000 [==============================] - 14s 359us/step - loss: 0.2915 - acc: 0.9999 - val_loss: 1.0698 - val_acc: 0.7092\n",
      "current learning rate: 3.199999991920777e-05\n",
      "Epoch 47/50\n",
      "40000/40000 [==============================] - 14s 358us/step - loss: 0.2917 - acc: 0.9999 - val_loss: 1.0645 - val_acc: 0.7116\n",
      "current learning rate: 3.199999991920777e-05\n",
      "Epoch 48/50\n",
      "40000/40000 [==============================] - 15s 367us/step - loss: 0.2923 - acc: 0.9999 - val_loss: 1.0706 - val_acc: 0.7125\n",
      "current learning rate: 3.199999991920777e-05\n",
      "Epoch 49/50\n",
      "40000/40000 [==============================] - 14s 358us/step - loss: 0.2921 - acc: 0.9999 - val_loss: 1.0648 - val_acc: 0.7110\n",
      "current learning rate: 3.199999991920777e-05\n",
      "Epoch 50/50\n",
      "40000/40000 [==============================] - 14s 361us/step - loss: 0.2916 - acc: 1.0000 - val_loss: 1.0618 - val_acc: 0.7148\n",
      "current learning rate: 3.199999991920777e-05\n"
     ]
    }
   ],
   "source": [
    "ladc_list = list()\n",
    "ladc_list.append(train(model_name='vgg16_vanilla_layca_bad', lr=0.0008, epochs=50, batch_size=256, validation_split=0.2, momentum=0.9, layca=True))"
   ]
  },
  {
   "cell_type": "code",
   "execution_count": 46,
   "metadata": {},
   "outputs": [
    {
     "data": {
      "image/png": "[encoded data removed]",
      "text/plain": [
       "<Figure size 432x288 with 1 Axes>"
      ]
     },
     "metadata": {
      "needs_background": "light"
     },
     "output_type": "display_data"
    }
   ],
   "source": [
    "for name, ladc in zip(model_names, ladc_list):\n",
    "    fig, ax = plt.subplots(nrows=1, ncols=1)\n",
    "    plot_layerwise_angle_deviation_curves(ladc.memory, ax)\n",
    "    fig.savefig(figures_path(name) + 'cosine_dist.png', dpi=100)"
   ]
  },
  {
   "cell_type": "code",
   "execution_count": 47,
   "metadata": {},
   "outputs": [
    {
     "ename": "TypeError",
     "evalue": "<lambda>() missing 1 required positional argument: 'name'",
     "output_type": "error",
     "traceback": [
      "\u001b[0;31m---------------------------------------------------------------------------\u001b[0m",
      "\u001b[0;31mTypeError\u001b[0m                                 Traceback (most recent call last)",
      "\u001b[0;32m<ipython-input-47-7a6bdbf58876>\u001b[0m in \u001b[0;36m<module>\u001b[0;34m\u001b[0m\n\u001b[1;32m      1\u001b[0m \u001b[0;32mfor\u001b[0m \u001b[0mname\u001b[0m\u001b[0;34m,\u001b[0m \u001b[0mmodel\u001b[0m \u001b[0;32min\u001b[0m \u001b[0mmodels\u001b[0m\u001b[0;34m.\u001b[0m\u001b[0mitems\u001b[0m\u001b[0;34m(\u001b[0m\u001b[0;34m)\u001b[0m\u001b[0;34m:\u001b[0m\u001b[0;34m\u001b[0m\u001b[0m\n\u001b[0;32m----> 2\u001b[0;31m     \u001b[0mmodel\u001b[0m\u001b[0;34m.\u001b[0m\u001b[0msave_weights\u001b[0m\u001b[0;34m(\u001b[0m\u001b[0mweights_path\u001b[0m\u001b[0;34m(\u001b[0m\u001b[0mname\u001b[0m\u001b[0;34m)\u001b[0m \u001b[0;34m+\u001b[0m \u001b[0;34m'final/weights-final.hdf5'\u001b[0m\u001b[0;34m)\u001b[0m\u001b[0;34m\u001b[0m\u001b[0m\n\u001b[0m",
      "\u001b[0;31mTypeError\u001b[0m: <lambda>() missing 1 required positional argument: 'name'"
     ]
    }
   ],
   "source": [
    "for wid, name, model in models.items():\n",
    "    model.save_weights(weights_path(name) + 'final/weights-final.hdf5')"
   ]
  },
  {
   "cell_type": "markdown",
   "metadata": {},
   "source": [
    "## Evaluation"
   ]
  },
  {
   "cell_type": "code",
   "execution_count": null,
   "metadata": {},
   "outputs": [],
   "source": [
    "# Simply loading both the initial and finals weights of our models\n",
    "\n",
    "models = [\n",
    "    (3, 'vgg16_vanilla_layca_bad', VGG16_Vanilla_beta(input_shape=(32,32,3), num_classes=10)),\n",
    "    (1, 'vgg16_vanilla_beta', VGG16_Vanilla_beta(input_shape=(32,32,3), num_classes=10)),\n",
    "    (1, 'vgg16_beta', VGG16_beta(input_shape=(32,32,3), num_classes=10, weight_decay=0.005)),\n",
    "    (1, 'vgg16_vanilla_layca', VGG16_Vanilla_beta(input_shape=(32,32,3), num_classes=10))\n",
    "]\n",
    "\n",
    "layer_names = [name.split('_', 1)[0] for name in get_kernel_layer_names(models[0][2])]\n",
    "n_layers = len(get_kernel_layer_names(models[0][2]))"
   ]
  },
  {
   "cell_type": "code",
   "execution_count": null,
   "metadata": {},
   "outputs": [],
   "source": [
    "for wid, name, model in models:\n",
    "    model.load_weights(weights_path(wid, name) + 'final/weights-final.hdf5') "
   ]
  },
  {
   "cell_type": "code",
   "execution_count": null,
   "metadata": {},
   "outputs": [],
   "source": [
    "for wid, name, model in models:\n",
    "    sgd = SGD(lr=0.001, momentum=0.9, nesterov=True)\n",
    "    model.compile(loss='categorical_crossentropy', optimizer=sgd, metrics=['accuracy'])\n",
    "    scores = model.evaluate(x_test, y_test, verbose=1)\n",
    "    print('Test loss:', scores[0])\n",
    "    print('Test accuracy:', scores[1])"
   ]
  },
  {
   "cell_type": "markdown",
   "metadata": {},
   "source": [
    "## Parameters of the model"
   ]
  },
  {
   "cell_type": "code",
   "execution_count": null,
   "metadata": {},
   "outputs": [],
   "source": []
  }
 ],
 "metadata": {
  "kernelspec": {
   "display_name": "Python 3",
   "language": "python",
   "name": "python3"
  },
  "language_info": {
   "codemirror_mode": {
    "name": "ipython",
    "version": 3
   },
   "file_extension": ".py",
   "mimetype": "text/x-python",
   "name": "python",
   "nbconvert_exporter": "python",
   "pygments_lexer": "ipython3",
   "version": "3.5.2"
  }
 },
 "nbformat": 4,
 "nbformat_minor": 2
}
