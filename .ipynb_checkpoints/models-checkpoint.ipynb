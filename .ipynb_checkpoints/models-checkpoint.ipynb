{
 "cells": [
  {
   "cell_type": "code",
   "execution_count": 1,
   "metadata": {
    "colab_type": "text",
    "id": "kLXh3qYjBkIA"
   },
   "outputs": [],
   "source": [
    "%load_ext autoreload\n",
    "%autoreload 2"
   ]
  },
  {
   "cell_type": "code",
   "execution_count": 2,
   "metadata": {},
   "outputs": [
    {
     "name": "stdout",
     "output_type": "stream",
     "text": [
      "setGPU: Setting GPU to: 0\n"
     ]
    }
   ],
   "source": [
    "import os\n",
    "import gpustat\n",
    "\n",
    "stats = gpustat.GPUStatCollection.new_query()\n",
    "ids = map(lambda gpu: int(gpu.entry['index']), stats)\n",
    "ratios = map(lambda gpu: float(gpu.entry['memory.used'])/float(gpu.entry['memory.total']), stats)\n",
    "bestGPU = min(zip(ids, ratios), key=lambda x: x[1])[0]\n",
    "\n",
    "print(\"setGPU: Setting GPU to: {}\".format(bestGPU))\n",
    "os.environ['CUDA_DEVICE_ORDER'] = 'PCI_BUS_ID'\n",
    "os.environ['CUDA_VISIBLE_DEVICES'] = str(bestGPU)"
   ]
  },
  {
   "cell_type": "markdown",
   "metadata": {
    "colab_type": "text",
    "id": "NUPYhRcUNt_R"
   },
   "source": [
    "\n",
    "# MODEL:\n",
    "1 model normal\n",
    "1 model Learning rate /2 regulierement qui apporte une meilleure generalisation que directement un petit learning rate\n",
    "1 model avec weights decay #L² (qui ameliore nettement l'orthogonalisation et donc le generalisation pour les SGD #Simon'sArticle)\n",
    "\n",
    "(+effets positifs des petits minibatch sur la generalisation)\n"
   ]
  },
  {
   "cell_type": "markdown",
   "metadata": {},
   "source": [
    "### Import packages"
   ]
  },
  {
   "cell_type": "code",
   "execution_count": 3,
   "metadata": {
    "colab": {},
    "colab_type": "code",
    "id": "CtIGNMthNs6o"
   },
   "outputs": [
    {
     "name": "stderr",
     "output_type": "stream",
     "text": [
      "Using TensorFlow backend.\n"
     ]
    }
   ],
   "source": [
    "# IMPORT\n",
    "import numpy\n",
    "\n",
    "import keras\n",
    "from keras import backend as K\n",
    "from keras import optimizers\n",
    "from keras import regularizers\n",
    "from keras.callbacks import LearningRateScheduler\n",
    "from keras.datasets import cifar10 # we can use also cifar100\n",
    "from keras.layers import Dense\n",
    "from keras.layers import Dropout\n",
    "from keras.layers import Flatten\n",
    "from keras.layers import Activation\n",
    "from keras.layers.convolutional import Conv2D\n",
    "from keras.layers.convolutional import MaxPooling2D\n",
    "from keras.models import Sequential\n",
    "from keras.models import load_model\n",
    "from keras.utils import plot_model\n",
    "from keras.utils.vis_utils import model_to_dot\n",
    "\n",
    "import matplotlib.pyplot as plt\n",
    "\n",
    "import sklearn\n",
    "import sklearn.metrics\n",
    "\n",
    "import tensorflow as tf\n",
    "\n",
    "from IPython.display import SVG\n",
    "\n",
    "\n",
    "#print(sklearn.__version__)"
   ]
  },
  {
   "cell_type": "code",
   "execution_count": 4,
   "metadata": {
    "colab": {
     "base_uri": "https://localhost:8080/",
     "height": 68
    },
    "colab_type": "code",
    "executionInfo": {
     "elapsed": 2851,
     "status": "ok",
     "timestamp": 1544018175823,
     "user": {
      "displayName": "Antoine Van Hoof",
      "photoUrl": "",
      "userId": "14540243825078360446"
     },
     "user_tz": -60
    },
    "id": "zeYCmklCneC2",
    "outputId": "15cf617f-01b7-495e-9272-c5e2b29c4484"
   },
   "outputs": [
    {
     "name": "stdout",
     "output_type": "stream",
     "text": [
      "x_train shape: (50000, 32, 32, 3)\n",
      "50000 train samples\n",
      "10000 test samples\n"
     ]
    }
   ],
   "source": [
    "# LOAD DATA\n",
    "num_classes = 10\n",
    "# The data, split between train and test sets:\n",
    "(x_train, y_train), (x_test, y_test) = cifar10.load_data()\n",
    "print('x_train shape:', x_train.shape)\n",
    "print(x_train.shape[0], 'train samples')\n",
    "print(x_test.shape[0], 'test samples')\n",
    "\n",
    "# Convert class vectors to binary class matrices.\n",
    "y_train = keras.utils.to_categorical(y_train, num_classes)\n",
    "y_test = keras.utils.to_categorical(y_test, num_classes)\n",
    "x_train = x_train.astype('float32')\n",
    "x_test = x_test.astype('float32')\n",
    "x_train /= 255\n",
    "x_test /= 255"
   ]
  },
  {
   "cell_type": "code",
   "execution_count": 5,
   "metadata": {
    "colab": {},
    "colab_type": "code",
    "id": "csHNHLbw2m5Q"
   },
   "outputs": [],
   "source": [
    "# MODEL 0\n",
    "def model_0(lr):\n",
    "  # create model\n",
    "  # https://github.com/keras-team/keras/blob/master/examples/cifar10_cnn.py\n",
    "  model = Sequential()\n",
    "  model.add(Conv2D(32, (3, 3), padding='same', input_shape=x_train.shape[1:]))\n",
    "  model.add(Activation('relu'))\n",
    "  model.add(Conv2D(32, (3, 3)))\n",
    "  model.add(Activation('relu'))\n",
    "  model.add(MaxPooling2D(pool_size=(2, 2)))\n",
    "  model.add(Dropout(0.25))\n",
    "  \n",
    "  model.add(Conv2D(64, (3, 3), padding='same'))\n",
    "  model.add(Activation('relu'))\n",
    "  model.add(Conv2D(64, (3, 3)))\n",
    "  model.add(Activation('relu'))\n",
    "  model.add(MaxPooling2D(pool_size=(2, 2)))\n",
    "  model.add(Dropout(0.25))\n",
    "  \n",
    "  model.add(Flatten())\n",
    "  model.add(Dense(512))\n",
    "  model.add(Activation('relu'))\n",
    "  model.add(Dropout(0.5))\n",
    "  model.add(Dense(num_classes))\n",
    "  model.add(Activation('softmax'))\n",
    "  # Optimizer\n",
    "  sgd = optimizers.SGD(lr)\n",
    "  #opt = keras.optimizers.rmsprop(lr=0.001, decay=0.0)\n",
    "  # Compile model\n",
    "  #loss : 'categorical_crossentropy', 'mean_squared_error'\n",
    "  #optimizer : 'adam', 'sgd',adadelta, adagrad, RMSprop, Adamax, Nadam\n",
    "  model.compile(loss='categorical_crossentropy', optimizer=sgd, metrics=['accuracy'])\n",
    "  return model"
   ]
  },
  {
   "cell_type": "code",
   "execution_count": 6,
   "metadata": {
    "colab": {},
    "colab_type": "code",
    "id": "ghIYG4xhnpSN"
   },
   "outputs": [],
   "source": [
    "# MODEL 1\n",
    "def model_1(lr, weightdecay):\n",
    "  # create model\n",
    "  # https://github.com/keras-team/keras/blob/master/examples/cifar10_cnn.py\n",
    "  model = Sequential()\n",
    "  model.add(Conv2D(32, (3, 3), padding='same', input_shape=x_train.shape[1:]))\n",
    "  model.add(Activation('relu'))\n",
    "  model.add(Conv2D(32, (3, 3)))\n",
    "  model.add(Activation('relu'))\n",
    "  model.add(MaxPooling2D(pool_size=(2, 2)))\n",
    "  model.add(Dropout(0.25))\n",
    "  \n",
    "  model.add(Conv2D(64, (3, 3), padding='same'))\n",
    "  model.add(Activation('relu'))\n",
    "  model.add(Conv2D(64, (3, 3)))\n",
    "  model.add(Activation('relu'))\n",
    "  model.add(MaxPooling2D(pool_size=(2, 2)))\n",
    "  model.add(Dropout(0.25))\n",
    "  \n",
    "  model.add(Flatten())\n",
    "  model.add(Dense(512, kernel_regularizer=regularizers.l2(weightdecay)))\n",
    "  model.add(Activation('relu'))\n",
    "  model.add(Dropout(0.5))\n",
    "  model.add(Dense(num_classes, kernel_regularizer=regularizers.l2(weightdecay)))\n",
    "  model.add(Activation('softmax'))\n",
    "  # Optimizer\n",
    "  sgd = optimizers.SGD(lr)\n",
    "  #opt = keras.optimizers.rmsprop(lr=0.0001, decay=1e-6)\n",
    "  # Compile model\n",
    "  #loss : 'categorical_crossentropy', 'mean_squared_error'\n",
    "  #optimizer : 'adam', 'sgd',adadelta, adagrad, RMSprop, Adamax, Nadam\n",
    "  model.compile(loss='categorical_crossentropy', optimizer=sgd, metrics=['accuracy'])\n",
    "  return model"
   ]
  },
  {
   "cell_type": "code",
   "execution_count": 7,
   "metadata": {
    "colab": {},
    "colab_type": "code",
    "id": "_Jhg6yjsnrR2"
   },
   "outputs": [],
   "source": [
    "# MODEL 2\n",
    "def model_2(lr, weightdecay):\n",
    "  # create model\n",
    "  model = Sequential()\n",
    "  model.add(Conv2D(32, (3, 3), padding='same', input_shape=x_train.shape[1:]))\n",
    "  model.add(Activation('relu'))\n",
    "  model.add(Conv2D(32, (3, 3)))\n",
    "  model.add(Activation('relu'))\n",
    "  model.add(MaxPooling2D(pool_size=(2, 2)))\n",
    "  model.add(Dropout(0.25))\n",
    "  \n",
    "  model.add(Conv2D(64, (3, 3), padding='same'))\n",
    "  model.add(Activation('relu'))\n",
    "  model.add(Conv2D(64, (3, 3)))\n",
    "  model.add(Activation('relu'))\n",
    "  model.add(MaxPooling2D(pool_size=(2, 2)))\n",
    "  model.add(Dropout(0.25))\n",
    "  \n",
    "  model.add(Flatten())\n",
    "  model.add(Dense(512, kernel_regularizer=regularizers.l2(weightdecay)))\n",
    "  model.add(Activation('relu'))\n",
    "  model.add(Dropout(0.5))\n",
    "  model.add(Dense(num_classes, kernel_regularizer=regularizers.l2(weightdecay)))\n",
    "  model.add(Activation('softmax'))\n",
    "  # Optimizer\n",
    "  sgd = optimizers.SGD(lr)\n",
    "  #opt = keras.optimizers.rmsprop(lr=0.0001, decay=1e-6)\n",
    "  # Compile model\n",
    "  #loss : 'categorical_crossentropy', 'mean_squared_error'\n",
    "  #optimizer : 'adam', 'sgd',adadelta, adagrad, RMSprop, Adamax, Nadam\n",
    "  model.compile(loss='categorical_crossentropy', optimizer=sgd, metrics=['accuracy'])\n",
    "  return model"
   ]
  },
  {
   "cell_type": "code",
   "execution_count": 8,
   "metadata": {
    "colab": {},
    "colab_type": "code",
    "id": "RX3K6_ov-_Db"
   },
   "outputs": [],
   "source": [
    "# pré-TRAINING\n",
    "batch_size = 32\n",
    "epochs = 25\n",
    "# build the models\n",
    "model0 = model_0(lr=0.1)\n",
    "model1 = model_1(lr=0.1, weightdecay=0.001)\n",
    "model2 = model_2(lr=0.1, weightdecay=0.001)"
   ]
  },
  {
   "cell_type": "code",
   "execution_count": 9,
   "metadata": {},
   "outputs": [
    {
     "data": {
      "image/svg+xml": [
       "<svg height=\"1359pt\" viewBox=\"0.00 0.00 215.00 1359.00\" width=\"215pt\" xmlns=\"http://www.w3.org/2000/svg\" xmlns:xlink=\"http://www.w3.org/1999/xlink\">\n",
       "<g class=\"graph\" id=\"graph0\" transform=\"scale(1 1) rotate(0) translate(4 1355)\">\n",
       "<title>G</title>\n",
       "<polygon fill=\"white\" points=\"-4,4 -4,-1355 211,-1355 211,4 -4,4\" stroke=\"none\"/>\n",
       "<!-- 140048407722024 -->\n",
       "<g class=\"node\" id=\"node1\"><title>140048407722024</title>\n",
       "<polygon fill=\"none\" points=\"42,-1241.5 42,-1277.5 165,-1277.5 165,-1241.5 42,-1241.5\" stroke=\"black\"/>\n",
       "<text font-family=\"Times,serif\" font-size=\"14.00\" text-anchor=\"middle\" x=\"103.5\" y=\"-1255.8\">conv2d_1: Conv2D</text>\n",
       "</g>\n",
       "<!-- 140048407723872 -->\n",
       "<g class=\"node\" id=\"node2\"><title>140048407723872</title>\n",
       "<polygon fill=\"none\" points=\"29.5,-1168.5 29.5,-1204.5 177.5,-1204.5 177.5,-1168.5 29.5,-1168.5\" stroke=\"black\"/>\n",
       "<text font-family=\"Times,serif\" font-size=\"14.00\" text-anchor=\"middle\" x=\"103.5\" y=\"-1182.8\">activation_1: Activation</text>\n",
       "</g>\n",
       "<!-- 140048407722024&#45;&gt;140048407723872 -->\n",
       "<g class=\"edge\" id=\"edge2\"><title>140048407722024-&gt;140048407723872</title>\n",
       "<path d=\"M103.5,-1241.31C103.5,-1233.29 103.5,-1223.55 103.5,-1214.57\" fill=\"none\" stroke=\"black\"/>\n",
       "<polygon fill=\"black\" points=\"107,-1214.53 103.5,-1204.53 100,-1214.53 107,-1214.53\" stroke=\"black\"/>\n",
       "</g>\n",
       "<!-- 140048407722304 -->\n",
       "<g class=\"node\" id=\"node3\"><title>140048407722304</title>\n",
       "<polygon fill=\"none\" points=\"42,-1095.5 42,-1131.5 165,-1131.5 165,-1095.5 42,-1095.5\" stroke=\"black\"/>\n",
       "<text font-family=\"Times,serif\" font-size=\"14.00\" text-anchor=\"middle\" x=\"103.5\" y=\"-1109.8\">conv2d_2: Conv2D</text>\n",
       "</g>\n",
       "<!-- 140048407723872&#45;&gt;140048407722304 -->\n",
       "<g class=\"edge\" id=\"edge3\"><title>140048407723872-&gt;140048407722304</title>\n",
       "<path d=\"M103.5,-1168.31C103.5,-1160.29 103.5,-1150.55 103.5,-1141.57\" fill=\"none\" stroke=\"black\"/>\n",
       "<polygon fill=\"black\" points=\"107,-1141.53 103.5,-1131.53 100,-1141.53 107,-1141.53\" stroke=\"black\"/>\n",
       "</g>\n",
       "<!-- 140048407468856 -->\n",
       "<g class=\"node\" id=\"node4\"><title>140048407468856</title>\n",
       "<polygon fill=\"none\" points=\"29.5,-1022.5 29.5,-1058.5 177.5,-1058.5 177.5,-1022.5 29.5,-1022.5\" stroke=\"black\"/>\n",
       "<text font-family=\"Times,serif\" font-size=\"14.00\" text-anchor=\"middle\" x=\"103.5\" y=\"-1036.8\">activation_2: Activation</text>\n",
       "</g>\n",
       "<!-- 140048407722304&#45;&gt;140048407468856 -->\n",
       "<g class=\"edge\" id=\"edge4\"><title>140048407722304-&gt;140048407468856</title>\n",
       "<path d=\"M103.5,-1095.31C103.5,-1087.29 103.5,-1077.55 103.5,-1068.57\" fill=\"none\" stroke=\"black\"/>\n",
       "<polygon fill=\"black\" points=\"107,-1068.53 103.5,-1058.53 100,-1068.53 107,-1068.53\" stroke=\"black\"/>\n",
       "</g>\n",
       "<!-- 140048407469528 -->\n",
       "<g class=\"node\" id=\"node5\"><title>140048407469528</title>\n",
       "<polygon fill=\"none\" points=\"0,-949.5 0,-985.5 207,-985.5 207,-949.5 0,-949.5\" stroke=\"black\"/>\n",
       "<text font-family=\"Times,serif\" font-size=\"14.00\" text-anchor=\"middle\" x=\"103.5\" y=\"-963.8\">max_pooling2d_1: MaxPooling2D</text>\n",
       "</g>\n",
       "<!-- 140048407468856&#45;&gt;140048407469528 -->\n",
       "<g class=\"edge\" id=\"edge5\"><title>140048407468856-&gt;140048407469528</title>\n",
       "<path d=\"M103.5,-1022.31C103.5,-1014.29 103.5,-1004.55 103.5,-995.569\" fill=\"none\" stroke=\"black\"/>\n",
       "<polygon fill=\"black\" points=\"107,-995.529 103.5,-985.529 100,-995.529 107,-995.529\" stroke=\"black\"/>\n",
       "</g>\n",
       "<!-- 140048407573504 -->\n",
       "<g class=\"node\" id=\"node6\"><title>140048407573504</title>\n",
       "<polygon fill=\"none\" points=\"41,-876.5 41,-912.5 166,-912.5 166,-876.5 41,-876.5\" stroke=\"black\"/>\n",
       "<text font-family=\"Times,serif\" font-size=\"14.00\" text-anchor=\"middle\" x=\"103.5\" y=\"-890.8\">dropout_1: Dropout</text>\n",
       "</g>\n",
       "<!-- 140048407469528&#45;&gt;140048407573504 -->\n",
       "<g class=\"edge\" id=\"edge6\"><title>140048407469528-&gt;140048407573504</title>\n",
       "<path d=\"M103.5,-949.313C103.5,-941.289 103.5,-931.547 103.5,-922.569\" fill=\"none\" stroke=\"black\"/>\n",
       "<polygon fill=\"black\" points=\"107,-922.529 103.5,-912.529 100,-922.529 107,-922.529\" stroke=\"black\"/>\n",
       "</g>\n",
       "<!-- 140048407468240 -->\n",
       "<g class=\"node\" id=\"node7\"><title>140048407468240</title>\n",
       "<polygon fill=\"none\" points=\"42,-803.5 42,-839.5 165,-839.5 165,-803.5 42,-803.5\" stroke=\"black\"/>\n",
       "<text font-family=\"Times,serif\" font-size=\"14.00\" text-anchor=\"middle\" x=\"103.5\" y=\"-817.8\">conv2d_3: Conv2D</text>\n",
       "</g>\n",
       "<!-- 140048407573504&#45;&gt;140048407468240 -->\n",
       "<g class=\"edge\" id=\"edge7\"><title>140048407573504-&gt;140048407468240</title>\n",
       "<path d=\"M103.5,-876.313C103.5,-868.289 103.5,-858.547 103.5,-849.569\" fill=\"none\" stroke=\"black\"/>\n",
       "<polygon fill=\"black\" points=\"107,-849.529 103.5,-839.529 100,-849.529 107,-849.529\" stroke=\"black\"/>\n",
       "</g>\n",
       "<!-- 140048407175464 -->\n",
       "<g class=\"node\" id=\"node8\"><title>140048407175464</title>\n",
       "<polygon fill=\"none\" points=\"29.5,-730.5 29.5,-766.5 177.5,-766.5 177.5,-730.5 29.5,-730.5\" stroke=\"black\"/>\n",
       "<text font-family=\"Times,serif\" font-size=\"14.00\" text-anchor=\"middle\" x=\"103.5\" y=\"-744.8\">activation_3: Activation</text>\n",
       "</g>\n",
       "<!-- 140048407468240&#45;&gt;140048407175464 -->\n",
       "<g class=\"edge\" id=\"edge8\"><title>140048407468240-&gt;140048407175464</title>\n",
       "<path d=\"M103.5,-803.313C103.5,-795.289 103.5,-785.547 103.5,-776.569\" fill=\"none\" stroke=\"black\"/>\n",
       "<polygon fill=\"black\" points=\"107,-776.529 103.5,-766.529 100,-776.529 107,-776.529\" stroke=\"black\"/>\n",
       "</g>\n",
       "<!-- 140048407179216 -->\n",
       "<g class=\"node\" id=\"node9\"><title>140048407179216</title>\n",
       "<polygon fill=\"none\" points=\"42,-657.5 42,-693.5 165,-693.5 165,-657.5 42,-657.5\" stroke=\"black\"/>\n",
       "<text font-family=\"Times,serif\" font-size=\"14.00\" text-anchor=\"middle\" x=\"103.5\" y=\"-671.8\">conv2d_4: Conv2D</text>\n",
       "</g>\n",
       "<!-- 140048407175464&#45;&gt;140048407179216 -->\n",
       "<g class=\"edge\" id=\"edge9\"><title>140048407175464-&gt;140048407179216</title>\n",
       "<path d=\"M103.5,-730.313C103.5,-722.289 103.5,-712.547 103.5,-703.569\" fill=\"none\" stroke=\"black\"/>\n",
       "<polygon fill=\"black\" points=\"107,-703.529 103.5,-693.529 100,-703.529 107,-703.529\" stroke=\"black\"/>\n",
       "</g>\n",
       "<!-- 140048406936768 -->\n",
       "<g class=\"node\" id=\"node10\"><title>140048406936768</title>\n",
       "<polygon fill=\"none\" points=\"29.5,-584.5 29.5,-620.5 177.5,-620.5 177.5,-584.5 29.5,-584.5\" stroke=\"black\"/>\n",
       "<text font-family=\"Times,serif\" font-size=\"14.00\" text-anchor=\"middle\" x=\"103.5\" y=\"-598.8\">activation_4: Activation</text>\n",
       "</g>\n",
       "<!-- 140048407179216&#45;&gt;140048406936768 -->\n",
       "<g class=\"edge\" id=\"edge10\"><title>140048407179216-&gt;140048406936768</title>\n",
       "<path d=\"M103.5,-657.313C103.5,-649.289 103.5,-639.547 103.5,-630.569\" fill=\"none\" stroke=\"black\"/>\n",
       "<polygon fill=\"black\" points=\"107,-630.529 103.5,-620.529 100,-630.529 107,-630.529\" stroke=\"black\"/>\n",
       "</g>\n",
       "<!-- 140048406530816 -->\n",
       "<g class=\"node\" id=\"node11\"><title>140048406530816</title>\n",
       "<polygon fill=\"none\" points=\"0,-511.5 0,-547.5 207,-547.5 207,-511.5 0,-511.5\" stroke=\"black\"/>\n",
       "<text font-family=\"Times,serif\" font-size=\"14.00\" text-anchor=\"middle\" x=\"103.5\" y=\"-525.8\">max_pooling2d_2: MaxPooling2D</text>\n",
       "</g>\n",
       "<!-- 140048406936768&#45;&gt;140048406530816 -->\n",
       "<g class=\"edge\" id=\"edge11\"><title>140048406936768-&gt;140048406530816</title>\n",
       "<path d=\"M103.5,-584.313C103.5,-576.289 103.5,-566.547 103.5,-557.569\" fill=\"none\" stroke=\"black\"/>\n",
       "<polygon fill=\"black\" points=\"107,-557.529 103.5,-547.529 100,-557.529 107,-557.529\" stroke=\"black\"/>\n",
       "</g>\n",
       "<!-- 140048406936488 -->\n",
       "<g class=\"node\" id=\"node12\"><title>140048406936488</title>\n",
       "<polygon fill=\"none\" points=\"41,-438.5 41,-474.5 166,-474.5 166,-438.5 41,-438.5\" stroke=\"black\"/>\n",
       "<text font-family=\"Times,serif\" font-size=\"14.00\" text-anchor=\"middle\" x=\"103.5\" y=\"-452.8\">dropout_2: Dropout</text>\n",
       "</g>\n",
       "<!-- 140048406530816&#45;&gt;140048406936488 -->\n",
       "<g class=\"edge\" id=\"edge12\"><title>140048406530816-&gt;140048406936488</title>\n",
       "<path d=\"M103.5,-511.313C103.5,-503.289 103.5,-493.547 103.5,-484.569\" fill=\"none\" stroke=\"black\"/>\n",
       "<polygon fill=\"black\" points=\"107,-484.529 103.5,-474.529 100,-484.529 107,-484.529\" stroke=\"black\"/>\n",
       "</g>\n",
       "<!-- 140048406936376 -->\n",
       "<g class=\"node\" id=\"node13\"><title>140048406936376</title>\n",
       "<polygon fill=\"none\" points=\"48.5,-365.5 48.5,-401.5 158.5,-401.5 158.5,-365.5 48.5,-365.5\" stroke=\"black\"/>\n",
       "<text font-family=\"Times,serif\" font-size=\"14.00\" text-anchor=\"middle\" x=\"103.5\" y=\"-379.8\">flatten_1: Flatten</text>\n",
       "</g>\n",
       "<!-- 140048406936488&#45;&gt;140048406936376 -->\n",
       "<g class=\"edge\" id=\"edge13\"><title>140048406936488-&gt;140048406936376</title>\n",
       "<path d=\"M103.5,-438.313C103.5,-430.289 103.5,-420.547 103.5,-411.569\" fill=\"none\" stroke=\"black\"/>\n",
       "<polygon fill=\"black\" points=\"107,-411.529 103.5,-401.529 100,-411.529 107,-411.529\" stroke=\"black\"/>\n",
       "</g>\n",
       "<!-- 140048406642984 -->\n",
       "<g class=\"node\" id=\"node14\"><title>140048406642984</title>\n",
       "<polygon fill=\"none\" points=\"52.5,-292.5 52.5,-328.5 154.5,-328.5 154.5,-292.5 52.5,-292.5\" stroke=\"black\"/>\n",
       "<text font-family=\"Times,serif\" font-size=\"14.00\" text-anchor=\"middle\" x=\"103.5\" y=\"-306.8\">dense_1: Dense</text>\n",
       "</g>\n",
       "<!-- 140048406936376&#45;&gt;140048406642984 -->\n",
       "<g class=\"edge\" id=\"edge14\"><title>140048406936376-&gt;140048406642984</title>\n",
       "<path d=\"M103.5,-365.313C103.5,-357.289 103.5,-347.547 103.5,-338.569\" fill=\"none\" stroke=\"black\"/>\n",
       "<polygon fill=\"black\" points=\"107,-338.529 103.5,-328.529 100,-338.529 107,-338.529\" stroke=\"black\"/>\n",
       "</g>\n",
       "<!-- 140048406397952 -->\n",
       "<g class=\"node\" id=\"node15\"><title>140048406397952</title>\n",
       "<polygon fill=\"none\" points=\"29.5,-219.5 29.5,-255.5 177.5,-255.5 177.5,-219.5 29.5,-219.5\" stroke=\"black\"/>\n",
       "<text font-family=\"Times,serif\" font-size=\"14.00\" text-anchor=\"middle\" x=\"103.5\" y=\"-233.8\">activation_5: Activation</text>\n",
       "</g>\n",
       "<!-- 140048406642984&#45;&gt;140048406397952 -->\n",
       "<g class=\"edge\" id=\"edge15\"><title>140048406642984-&gt;140048406397952</title>\n",
       "<path d=\"M103.5,-292.313C103.5,-284.289 103.5,-274.547 103.5,-265.569\" fill=\"none\" stroke=\"black\"/>\n",
       "<polygon fill=\"black\" points=\"107,-265.529 103.5,-255.529 100,-265.529 107,-265.529\" stroke=\"black\"/>\n",
       "</g>\n",
       "<!-- 140048406397448 -->\n",
       "<g class=\"node\" id=\"node16\"><title>140048406397448</title>\n",
       "<polygon fill=\"none\" points=\"41,-146.5 41,-182.5 166,-182.5 166,-146.5 41,-146.5\" stroke=\"black\"/>\n",
       "<text font-family=\"Times,serif\" font-size=\"14.00\" text-anchor=\"middle\" x=\"103.5\" y=\"-160.8\">dropout_3: Dropout</text>\n",
       "</g>\n",
       "<!-- 140048406397952&#45;&gt;140048406397448 -->\n",
       "<g class=\"edge\" id=\"edge16\"><title>140048406397952-&gt;140048406397448</title>\n",
       "<path d=\"M103.5,-219.313C103.5,-211.289 103.5,-201.547 103.5,-192.569\" fill=\"none\" stroke=\"black\"/>\n",
       "<polygon fill=\"black\" points=\"107,-192.529 103.5,-182.529 100,-192.529 107,-192.529\" stroke=\"black\"/>\n",
       "</g>\n",
       "<!-- 140048406400080 -->\n",
       "<g class=\"node\" id=\"node17\"><title>140048406400080</title>\n",
       "<polygon fill=\"none\" points=\"52.5,-73.5 52.5,-109.5 154.5,-109.5 154.5,-73.5 52.5,-73.5\" stroke=\"black\"/>\n",
       "<text font-family=\"Times,serif\" font-size=\"14.00\" text-anchor=\"middle\" x=\"103.5\" y=\"-87.8\">dense_2: Dense</text>\n",
       "</g>\n",
       "<!-- 140048406397448&#45;&gt;140048406400080 -->\n",
       "<g class=\"edge\" id=\"edge17\"><title>140048406397448-&gt;140048406400080</title>\n",
       "<path d=\"M103.5,-146.313C103.5,-138.289 103.5,-128.547 103.5,-119.569\" fill=\"none\" stroke=\"black\"/>\n",
       "<polygon fill=\"black\" points=\"107,-119.529 103.5,-109.529 100,-119.529 107,-119.529\" stroke=\"black\"/>\n",
       "</g>\n",
       "<!-- 140048330965792 -->\n",
       "<g class=\"node\" id=\"node18\"><title>140048330965792</title>\n",
       "<polygon fill=\"none\" points=\"29.5,-0.5 29.5,-36.5 177.5,-36.5 177.5,-0.5 29.5,-0.5\" stroke=\"black\"/>\n",
       "<text font-family=\"Times,serif\" font-size=\"14.00\" text-anchor=\"middle\" x=\"103.5\" y=\"-14.8\">activation_6: Activation</text>\n",
       "</g>\n",
       "<!-- 140048406400080&#45;&gt;140048330965792 -->\n",
       "<g class=\"edge\" id=\"edge18\"><title>140048406400080-&gt;140048330965792</title>\n",
       "<path d=\"M103.5,-73.3129C103.5,-65.2895 103.5,-55.5475 103.5,-46.5691\" fill=\"none\" stroke=\"black\"/>\n",
       "<polygon fill=\"black\" points=\"107,-46.5288 103.5,-36.5288 100,-46.5289 107,-46.5288\" stroke=\"black\"/>\n",
       "</g>\n",
       "<!-- 140048407723032 -->\n",
       "<g class=\"node\" id=\"node19\"><title>140048407723032</title>\n",
       "<polygon fill=\"none\" points=\"44.5,-1314.5 44.5,-1350.5 162.5,-1350.5 162.5,-1314.5 44.5,-1314.5\" stroke=\"black\"/>\n",
       "<text font-family=\"Times,serif\" font-size=\"14.00\" text-anchor=\"middle\" x=\"103.5\" y=\"-1328.8\">140048407723032</text>\n",
       "</g>\n",
       "<!-- 140048407723032&#45;&gt;140048407722024 -->\n",
       "<g class=\"edge\" id=\"edge1\"><title>140048407723032-&gt;140048407722024</title>\n",
       "<path d=\"M103.5,-1314.31C103.5,-1306.29 103.5,-1296.55 103.5,-1287.57\" fill=\"none\" stroke=\"black\"/>\n",
       "<polygon fill=\"black\" points=\"107,-1287.53 103.5,-1277.53 100,-1287.53 107,-1287.53\" stroke=\"black\"/>\n",
       "</g>\n",
       "</g>\n",
       "</svg>"
      ],
      "text/plain": [
       "<IPython.core.display.SVG object>"
      ]
     },
     "execution_count": 9,
     "metadata": {},
     "output_type": "execute_result"
    }
   ],
   "source": [
    "# plot the model\n",
    "SVG(model_to_dot(model0).create(prog='dot', format='svg'))"
   ]
  },
  {
   "cell_type": "code",
   "execution_count": 10,
   "metadata": {},
   "outputs": [],
   "source": [
    "# get weights\n",
    "weights01 = model0.get_weights()\n",
    "weights11 = model1.get_weights()\n",
    "weights21 = model2.get_weights()"
   ]
  },
  {
   "cell_type": "code",
   "execution_count": 11,
   "metadata": {},
   "outputs": [],
   "source": [
    "# Save the models and the initial weights\n",
    "model0.save(\"models/model0.h5\")\n",
    "model1.save(\"models/model1.h5\")\n",
    "model2.save(\"models/model2.h5\")\n",
    "model0.save_weights(\"models/model0_weights0.h5\")\n",
    "model1.save_weights(\"models/model1_weights0.h5\")\n",
    "model2.save_weights(\"models/model2_weights0.h5\")"
   ]
  },
  {
   "cell_type": "code",
   "execution_count": 12,
   "metadata": {},
   "outputs": [],
   "source": [
    "data_augmentation = False"
   ]
  },
  {
   "cell_type": "code",
   "execution_count": 13,
   "metadata": {
    "colab": {
     "base_uri": "https://localhost:8080/",
     "height": 731
    },
    "colab_type": "code",
    "executionInfo": {
     "elapsed": 740607,
     "status": "ok",
     "timestamp": 1544018913722,
     "user": {
      "displayName": "Antoine Van Hoof",
      "photoUrl": "",
      "userId": "14540243825078360446"
     },
     "user_tz": -60
    },
    "id": "dTiWMuSw3Wl4",
    "outputId": "45eb2e89-a9d7-4944-9fc1-05934425aaae",
    "scrolled": true
   },
   "outputs": [
    {
     "name": "stdout",
     "output_type": "stream",
     "text": [
      "Not using data augmentation.\n",
      "Train on 50000 samples, validate on 10000 samples\n",
      "Epoch 1/25\n",
      "50000/50000 [==============================] - 10s 192us/step - loss: 1.9002 - acc: 0.3032 - val_loss: 1.5058 - val_acc: 0.4460\n",
      "Epoch 2/25\n",
      "50000/50000 [==============================] - 8s 169us/step - loss: 1.4408 - acc: 0.4813 - val_loss: 1.5178 - val_acc: 0.4781\n",
      "Epoch 3/25\n",
      "50000/50000 [==============================] - 8s 169us/step - loss: 1.2467 - acc: 0.5550 - val_loss: 1.0833 - val_acc: 0.6227\n",
      "Epoch 4/25\n",
      "50000/50000 [==============================] - 8s 168us/step - loss: 1.1219 - acc: 0.6021 - val_loss: 1.0421 - val_acc: 0.6298\n",
      "Epoch 5/25\n",
      "50000/50000 [==============================] - 8s 169us/step - loss: 1.0227 - acc: 0.6427 - val_loss: 0.9166 - val_acc: 0.6797\n",
      "Epoch 6/25\n",
      "50000/50000 [==============================] - 8s 167us/step - loss: 0.9560 - acc: 0.6662 - val_loss: 0.8964 - val_acc: 0.6831\n",
      "Epoch 7/25\n",
      "50000/50000 [==============================] - 8s 170us/step - loss: 0.9120 - acc: 0.6809 - val_loss: 0.8378 - val_acc: 0.7056\n",
      "Epoch 8/25\n",
      "50000/50000 [==============================] - 8s 168us/step - loss: 0.8657 - acc: 0.6971 - val_loss: 0.8529 - val_acc: 0.7047\n",
      "Epoch 9/25\n",
      "50000/50000 [==============================] - 8s 169us/step - loss: 0.8427 - acc: 0.7068 - val_loss: 0.7956 - val_acc: 0.7229\n",
      "Epoch 10/25\n",
      "50000/50000 [==============================] - 9s 171us/step - loss: 0.8144 - acc: 0.7181 - val_loss: 0.9474 - val_acc: 0.6800\n",
      "Epoch 11/25\n",
      "50000/50000 [==============================] - 8s 166us/step - loss: 0.7903 - acc: 0.7270 - val_loss: 0.7840 - val_acc: 0.7291\n",
      "Epoch 12/25\n",
      "50000/50000 [==============================] - 8s 169us/step - loss: 0.7692 - acc: 0.7322 - val_loss: 0.8180 - val_acc: 0.7180\n",
      "Epoch 13/25\n",
      "50000/50000 [==============================] - 8s 167us/step - loss: 0.7583 - acc: 0.7387 - val_loss: 0.7479 - val_acc: 0.7486\n",
      "Epoch 14/25\n",
      "50000/50000 [==============================] - 8s 167us/step - loss: 0.7515 - acc: 0.7415 - val_loss: 0.8037 - val_acc: 0.7244\n",
      "Epoch 15/25\n",
      "50000/50000 [==============================] - 8s 168us/step - loss: 0.7372 - acc: 0.7428 - val_loss: 0.8575 - val_acc: 0.7199\n",
      "Epoch 16/25\n",
      "50000/50000 [==============================] - 8s 168us/step - loss: 0.7303 - acc: 0.7463 - val_loss: 0.7925 - val_acc: 0.7334\n",
      "Epoch 17/25\n",
      "50000/50000 [==============================] - 8s 169us/step - loss: 0.7206 - acc: 0.7513 - val_loss: 0.7394 - val_acc: 0.7493\n",
      "Epoch 18/25\n",
      "50000/50000 [==============================] - 8s 167us/step - loss: 0.7027 - acc: 0.7568 - val_loss: 0.7604 - val_acc: 0.7449\n",
      "Epoch 19/25\n",
      "50000/50000 [==============================] - 8s 168us/step - loss: 0.6948 - acc: 0.7598 - val_loss: 0.7574 - val_acc: 0.7455\n",
      "Epoch 20/25\n",
      "50000/50000 [==============================] - 8s 170us/step - loss: 0.6926 - acc: 0.7618 - val_loss: 0.7569 - val_acc: 0.7442\n",
      "Epoch 21/25\n",
      "50000/50000 [==============================] - 8s 167us/step - loss: 0.6840 - acc: 0.7641 - val_loss: 0.7320 - val_acc: 0.7556\n",
      "Epoch 22/25\n",
      "50000/50000 [==============================] - 8s 167us/step - loss: 0.6708 - acc: 0.7685 - val_loss: 0.7272 - val_acc: 0.7578\n",
      "Epoch 23/25\n",
      "50000/50000 [==============================] - 8s 166us/step - loss: 0.6797 - acc: 0.7654 - val_loss: 0.7531 - val_acc: 0.7493\n",
      "Epoch 24/25\n",
      "50000/50000 [==============================] - 8s 168us/step - loss: 0.6830 - acc: 0.7649 - val_loss: 0.8288 - val_acc: 0.7232\n",
      "Epoch 25/25\n",
      "50000/50000 [==============================] - 8s 169us/step - loss: 0.6717 - acc: 0.7702 - val_loss: 0.7554 - val_acc: 0.7527\n"
     ]
    }
   ],
   "source": [
    "# Fit the model 0\n",
    "if not data_augmentation:\n",
    "    print('Not using data augmentation.')\n",
    "    history0 = model0.fit(x_train, y_train, batch_size=batch_size, epochs=epochs, validation_data=(x_test, y_test), shuffle=True, verbose=1)"
   ]
  },
  {
   "cell_type": "code",
   "execution_count": 14,
   "metadata": {},
   "outputs": [
    {
     "data": {
      "image/png": "[encoded data removed]",
      "text/plain": [
       "<Figure size 432x288 with 1 Axes>"
      ]
     },
     "metadata": {
      "needs_background": "light"
     },
     "output_type": "display_data"
    },
    {
     "data": {
      "image/png": "[encoded data removed]",
      "text/plain": [
       "<Figure size 432x288 with 1 Axes>"
      ]
     },
     "metadata": {
      "needs_background": "light"
     },
     "output_type": "display_data"
    }
   ],
   "source": [
    "# Plot training & validation accuracy values\n",
    "plt.plot(history0.history['acc'])\n",
    "plt.plot(history0.history['val_acc'])\n",
    "plt.title('Model accuracy')\n",
    "plt.ylabel('Accuracy')\n",
    "plt.xlabel('Epoch')\n",
    "plt.legend(['Train', 'Test'], loc='upper left')\n",
    "plt.show()\n",
    "\n",
    "# Plot training & validation loss values\n",
    "plt.plot(history0.history['loss'])\n",
    "plt.plot(history0.history['val_loss'])\n",
    "plt.title('Model loss')\n",
    "plt.ylabel('Loss')\n",
    "plt.xlabel('Epoch')\n",
    "plt.legend(['Train', 'Test'], loc='upper left')\n",
    "plt.show()"
   ]
  },
  {
   "cell_type": "code",
   "execution_count": 15,
   "metadata": {},
   "outputs": [],
   "source": [
    "model0.save_weights(\"models/model0_weights25.h5\")"
   ]
  },
  {
   "cell_type": "code",
   "execution_count": 16,
   "metadata": {
    "colab": {
     "base_uri": "https://localhost:8080/",
     "height": 731
    },
    "colab_type": "code",
    "executionInfo": {
     "elapsed": 1285611,
     "status": "ok",
     "timestamp": 1544019458747,
     "user": {
      "displayName": "Antoine Van Hoof",
      "photoUrl": "",
      "userId": "14540243825078360446"
     },
     "user_tz": -60
    },
    "id": "p5RKI8UontYP",
    "outputId": "a688dd9a-6277-4b53-ae34-ad796ecc7543",
    "scrolled": true
   },
   "outputs": [
    {
     "name": "stdout",
     "output_type": "stream",
     "text": [
      "Not using data augmentation.\n",
      "Train on 50000 samples, validate on 10000 samples\n",
      "Epoch 1/25\n",
      "50000/50000 [==============================] - 9s 180us/step - loss: 2.6458 - acc: 0.2642 - val_loss: 2.0748 - val_acc: 0.4262\n",
      "Epoch 2/25\n",
      "50000/50000 [==============================] - 9s 173us/step - loss: 1.9299 - acc: 0.4439 - val_loss: 1.7248 - val_acc: 0.4992\n",
      "Epoch 3/25\n",
      "50000/50000 [==============================] - 9s 172us/step - loss: 1.6044 - acc: 0.5311 - val_loss: 1.4429 - val_acc: 0.5831\n",
      "Epoch 4/25\n",
      "50000/50000 [==============================] - 9s 174us/step - loss: 1.4114 - acc: 0.5903 - val_loss: 1.2600 - val_acc: 0.6476\n",
      "Epoch 5/25\n",
      "50000/50000 [==============================] - 9s 171us/step - loss: 1.2960 - acc: 0.6350 - val_loss: 1.1876 - val_acc: 0.6717\n",
      "Epoch 6/25\n",
      "50000/50000 [==============================] - 9s 173us/step - loss: 1.2276 - acc: 0.6641 - val_loss: 1.2878 - val_acc: 0.6637\n",
      "Epoch 7/25\n",
      "50000/50000 [==============================] - 8s 170us/step - loss: 1.1892 - acc: 0.6853 - val_loss: 1.4874 - val_acc: 0.6158\n",
      "Epoch 8/25\n",
      "50000/50000 [==============================] - 9s 170us/step - loss: 1.1549 - acc: 0.7039 - val_loss: 1.0987 - val_acc: 0.7282\n",
      "Epoch 9/25\n",
      "50000/50000 [==============================] - 9s 172us/step - loss: 1.1423 - acc: 0.7158 - val_loss: 1.1744 - val_acc: 0.7058\n",
      "Epoch 10/25\n",
      "50000/50000 [==============================] - 9s 173us/step - loss: 1.1339 - acc: 0.7243 - val_loss: 1.1188 - val_acc: 0.7316\n",
      "Epoch 11/25\n",
      "50000/50000 [==============================] - 9s 172us/step - loss: 1.1290 - acc: 0.7341 - val_loss: 1.1539 - val_acc: 0.7351\n",
      "Epoch 12/25\n",
      "50000/50000 [==============================] - 9s 171us/step - loss: 1.1251 - acc: 0.7410 - val_loss: 1.1966 - val_acc: 0.7238\n",
      "Epoch 13/25\n",
      "50000/50000 [==============================] - 9s 173us/step - loss: 1.1199 - acc: 0.7447 - val_loss: 1.1673 - val_acc: 0.7376\n",
      "Epoch 14/25\n",
      "50000/50000 [==============================] - 9s 171us/step - loss: 1.1238 - acc: 0.7492 - val_loss: 1.1468 - val_acc: 0.7477\n",
      "Epoch 15/25\n",
      "50000/50000 [==============================] - 9s 173us/step - loss: 1.1288 - acc: 0.7524 - val_loss: 1.0770 - val_acc: 0.7747\n",
      "Epoch 16/25\n",
      "50000/50000 [==============================] - 9s 172us/step - loss: 1.1227 - acc: 0.7582 - val_loss: 1.1168 - val_acc: 0.7607\n",
      "Epoch 17/25\n",
      "50000/50000 [==============================] - 9s 172us/step - loss: 1.1217 - acc: 0.7593 - val_loss: 1.1536 - val_acc: 0.7568\n",
      "Epoch 18/25\n",
      "50000/50000 [==============================] - 9s 172us/step - loss: 1.1273 - acc: 0.7642 - val_loss: 1.2017 - val_acc: 0.7444\n",
      "Epoch 19/25\n",
      "50000/50000 [==============================] - 9s 171us/step - loss: 1.1219 - acc: 0.7676 - val_loss: 1.1850 - val_acc: 0.7488\n",
      "Epoch 20/25\n",
      "50000/50000 [==============================] - 9s 172us/step - loss: 1.1225 - acc: 0.7683 - val_loss: 1.1539 - val_acc: 0.7548\n",
      "Epoch 21/25\n",
      "50000/50000 [==============================] - 9s 171us/step - loss: 1.1174 - acc: 0.7722 - val_loss: 1.1180 - val_acc: 0.7795\n",
      "Epoch 22/25\n",
      "50000/50000 [==============================] - 9s 173us/step - loss: 1.1259 - acc: 0.7718 - val_loss: 1.1254 - val_acc: 0.7801\n",
      "Epoch 23/25\n",
      "50000/50000 [==============================] - 9s 172us/step - loss: 1.1178 - acc: 0.7743 - val_loss: 1.1353 - val_acc: 0.7760\n",
      "Epoch 24/25\n",
      "50000/50000 [==============================] - 9s 171us/step - loss: 1.1205 - acc: 0.7776 - val_loss: 1.1712 - val_acc: 0.7651\n",
      "Epoch 25/25\n",
      "50000/50000 [==============================] - 9s 172us/step - loss: 1.1234 - acc: 0.7750 - val_loss: 1.1295 - val_acc: 0.7802\n"
     ]
    }
   ],
   "source": [
    "# Fit the model 1\n",
    "if not data_augmentation:\n",
    "    print('Not using data augmentation.')\n",
    "    history1 = model1.fit(x_train, y_train, batch_size=batch_size, epochs=epochs, validation_data=(x_test, y_test), shuffle=True)"
   ]
  },
  {
   "cell_type": "code",
   "execution_count": 17,
   "metadata": {},
   "outputs": [
    {
     "data": {
      "image/png": "[encoded data removed]",
      "text/plain": [
       "<Figure size 432x288 with 1 Axes>"
      ]
     },
     "metadata": {
      "needs_background": "light"
     },
     "output_type": "display_data"
    },
    {
     "data": {
      "image/png": "[encoded data removed]",
      "text/plain": [
       "<Figure size 432x288 with 1 Axes>"
      ]
     },
     "metadata": {
      "needs_background": "light"
     },
     "output_type": "display_data"
    }
   ],
   "source": [
    "# Plot training & validation accuracy values\n",
    "plt.plot(history1.history['acc'])\n",
    "plt.plot(history1.history['val_acc'])\n",
    "plt.title('Model accuracy')\n",
    "plt.ylabel('Accuracy')\n",
    "plt.xlabel('Epoch')\n",
    "plt.legend(['Train', 'Test'], loc='upper left')\n",
    "plt.show()\n",
    "\n",
    "# Plot training & validation loss values\n",
    "plt.plot(history1.history['loss'])\n",
    "plt.plot(history1.history['val_loss'])\n",
    "plt.title('Model loss')\n",
    "plt.ylabel('Loss')\n",
    "plt.xlabel('Epoch')\n",
    "plt.legend(['Train', 'Test'], loc='upper left')\n",
    "plt.show()"
   ]
  },
  {
   "cell_type": "code",
   "execution_count": 18,
   "metadata": {},
   "outputs": [],
   "source": [
    "model1.save_weights(\"models/model1_weights25.h5\")"
   ]
  },
  {
   "cell_type": "code",
   "execution_count": 19,
   "metadata": {},
   "outputs": [],
   "source": [
    "def scheduler(epoch):\n",
    "    if (epoch == 10) or (epoch == 20):\n",
    "        print(\"Changing learning rate \"+str(K.get_value(model2.optimizer.lr))+\" to \"+str(K.get_value(model2.optimizer.lr)/2))\n",
    "        K.set_value(model2.optimizer.lr, K.get_value(model2.optimizer.lr)/2)\n",
    "    return K.get_value(model2.optimizer.lr)"
   ]
  },
  {
   "cell_type": "code",
   "execution_count": 20,
   "metadata": {},
   "outputs": [],
   "source": [
    "change_lr = LearningRateScheduler(scheduler)"
   ]
  },
  {
   "cell_type": "code",
   "execution_count": 21,
   "metadata": {
    "colab": {
     "base_uri": "https://localhost:8080/",
     "height": 731
    },
    "colab_type": "code",
    "executionInfo": {
     "elapsed": 1742189,
     "status": "ok",
     "timestamp": 1544019915343,
     "user": {
      "displayName": "Antoine Van Hoof",
      "photoUrl": "",
      "userId": "14540243825078360446"
     },
     "user_tz": -60
    },
    "id": "UUjFN7HT1U4f",
    "outputId": "21b2c166-2dee-46f4-fdf7-687438347e15"
   },
   "outputs": [
    {
     "name": "stdout",
     "output_type": "stream",
     "text": [
      "Not using data augmentation.\n",
      "Train on 50000 samples, validate on 10000 samples\n",
      "Epoch 1/25\n",
      "50000/50000 [==============================] - 9s 182us/step - loss: 2.6972 - acc: 0.2409 - val_loss: 2.3679 - val_acc: 0.3230\n",
      "Epoch 2/25\n",
      "50000/50000 [==============================] - 9s 172us/step - loss: 1.9639 - acc: 0.4313 - val_loss: 1.6948 - val_acc: 0.4909\n",
      "Epoch 3/25\n",
      "50000/50000 [==============================] - 9s 173us/step - loss: 1.6472 - acc: 0.5105 - val_loss: 1.4317 - val_acc: 0.5747\n",
      "Epoch 4/25\n",
      "50000/50000 [==============================] - 9s 173us/step - loss: 1.4550 - acc: 0.5686 - val_loss: 1.4373 - val_acc: 0.5918\n",
      "Epoch 5/25\n",
      "50000/50000 [==============================] - 9s 172us/step - loss: 1.3383 - acc: 0.6133 - val_loss: 1.2114 - val_acc: 0.6614\n",
      "Epoch 6/25\n",
      "50000/50000 [==============================] - 9s 171us/step - loss: 1.2540 - acc: 0.6522 - val_loss: 1.2245 - val_acc: 0.6724\n",
      "Epoch 7/25\n",
      "50000/50000 [==============================] - 9s 174us/step - loss: 1.2110 - acc: 0.6777 - val_loss: 1.2667 - val_acc: 0.6548\n",
      "Epoch 8/25\n",
      "50000/50000 [==============================] - 9s 171us/step - loss: 1.1794 - acc: 0.6975 - val_loss: 1.1879 - val_acc: 0.6981\n",
      "Epoch 9/25\n",
      "50000/50000 [==============================] - 9s 173us/step - loss: 1.1642 - acc: 0.7095 - val_loss: 1.1099 - val_acc: 0.7323\n",
      "Epoch 10/25\n",
      "50000/50000 [==============================] - 9s 172us/step - loss: 1.1465 - acc: 0.7232 - val_loss: 1.1224 - val_acc: 0.7389\n",
      "Epoch 11/25\n",
      "Changing learning rate 0.1 to 0.05000000074505806\n",
      "50000/50000 [==============================] - 9s 172us/step - loss: 0.9941 - acc: 0.7716 - val_loss: 0.9894 - val_acc: 0.7699\n",
      "Epoch 12/25\n",
      "50000/50000 [==============================] - 9s 171us/step - loss: 0.9214 - acc: 0.7875 - val_loss: 0.9626 - val_acc: 0.7735\n",
      "Epoch 13/25\n",
      "50000/50000 [==============================] - 9s 172us/step - loss: 0.8931 - acc: 0.7920 - val_loss: 0.9434 - val_acc: 0.7851\n",
      "Epoch 14/25\n",
      "50000/50000 [==============================] - 9s 171us/step - loss: 0.8814 - acc: 0.7973 - val_loss: 0.9335 - val_acc: 0.7863\n",
      "Epoch 15/25\n",
      "50000/50000 [==============================] - 9s 172us/step - loss: 0.8652 - acc: 0.8048 - val_loss: 1.0101 - val_acc: 0.7668\n",
      "Epoch 16/25\n",
      "50000/50000 [==============================] - 9s 171us/step - loss: 0.8722 - acc: 0.8055 - val_loss: 0.9363 - val_acc: 0.7901\n",
      "Epoch 17/25\n",
      "50000/50000 [==============================] - 9s 171us/step - loss: 0.8662 - acc: 0.8111 - val_loss: 0.9505 - val_acc: 0.7870\n",
      "Epoch 18/25\n",
      "50000/50000 [==============================] - 9s 172us/step - loss: 0.8659 - acc: 0.8138 - val_loss: 0.9561 - val_acc: 0.7958\n",
      "Epoch 19/25\n",
      "50000/50000 [==============================] - 9s 171us/step - loss: 0.8670 - acc: 0.8150 - val_loss: 0.9776 - val_acc: 0.7875\n",
      "Epoch 20/25\n",
      "50000/50000 [==============================] - 9s 171us/step - loss: 0.8605 - acc: 0.8217 - val_loss: 0.9561 - val_acc: 0.7939\n",
      "Epoch 21/25\n",
      "Changing learning rate 0.05 to 0.02500000037252903\n",
      "50000/50000 [==============================] - 9s 172us/step - loss: 0.7622 - acc: 0.8519 - val_loss: 0.9041 - val_acc: 0.8079\n",
      "Epoch 22/25\n",
      "50000/50000 [==============================] - 9s 172us/step - loss: 0.7110 - acc: 0.8647 - val_loss: 0.8687 - val_acc: 0.8161\n",
      "Epoch 23/25\n",
      "50000/50000 [==============================] - 9s 173us/step - loss: 0.6913 - acc: 0.8644 - val_loss: 0.8644 - val_acc: 0.8164\n",
      "Epoch 24/25\n",
      "50000/50000 [==============================] - 8s 170us/step - loss: 0.6669 - acc: 0.8725 - val_loss: 0.8596 - val_acc: 0.8126\n",
      "Epoch 25/25\n",
      "50000/50000 [==============================] - 9s 172us/step - loss: 0.6581 - acc: 0.8756 - val_loss: 0.8739 - val_acc: 0.8090\n"
     ]
    }
   ],
   "source": [
    "# Fit the model 2\n",
    "if not data_augmentation:\n",
    "    print('Not using data augmentation.')\n",
    "    history2 = model2.fit(x_train, y_train, \n",
    "               batch_size=batch_size, \n",
    "               epochs=epochs, \n",
    "               validation_data=(x_test, y_test), \n",
    "               shuffle=True,\n",
    "               callbacks=[change_lr])"
   ]
  },
  {
   "cell_type": "code",
   "execution_count": 22,
   "metadata": {},
   "outputs": [
    {
     "data": {
      "image/png": "[encoded data removed]",
      "text/plain": [
       "<Figure size 432x288 with 1 Axes>"
      ]
     },
     "metadata": {
      "needs_background": "light"
     },
     "output_type": "display_data"
    },
    {
     "data": {
      "image/png": "[encoded data removed]",
      "text/plain": [
       "<Figure size 432x288 with 1 Axes>"
      ]
     },
     "metadata": {
      "needs_background": "light"
     },
     "output_type": "display_data"
    }
   ],
   "source": [
    "# Plot training & validation accuracy values\n",
    "plt.plot(history2.history['acc'])\n",
    "plt.plot(history2.history['val_acc'])\n",
    "plt.title('Model accuracy')\n",
    "plt.ylabel('Accuracy')\n",
    "plt.xlabel('Epoch')\n",
    "plt.legend(['Train', 'Test'], loc='upper left')\n",
    "plt.show()\n",
    "\n",
    "# Plot training & validation loss values\n",
    "plt.plot(history2.history['loss'])\n",
    "plt.plot(history2.history['val_loss'])\n",
    "plt.title('Model loss')\n",
    "plt.ylabel('Loss')\n",
    "plt.xlabel('Epoch')\n",
    "plt.legend(['Train', 'Test'], loc='upper left')\n",
    "plt.show()"
   ]
  },
  {
   "cell_type": "code",
   "execution_count": 23,
   "metadata": {},
   "outputs": [],
   "source": [
    "model2.save_weights(\"models/model2_weights25.h5\")"
   ]
  },
  {
   "cell_type": "code",
   "execution_count": 24,
   "metadata": {
    "colab": {
     "base_uri": "https://localhost:8080/",
     "height": 221
    },
    "colab_type": "code",
    "executionInfo": {
     "elapsed": 1746657,
     "status": "ok",
     "timestamp": 1544019919828,
     "user": {
      "displayName": "Antoine Van Hoof",
      "photoUrl": "",
      "userId": "14540243825078360446"
     },
     "user_tz": -60
    },
    "id": "tpKE6IpL8_k8",
    "outputId": "d1dd32e1-2786-454b-8817-bdda6e359441"
   },
   "outputs": [
    {
     "name": "stdout",
     "output_type": "stream",
     "text": [
      "10000/10000 [==============================] - 1s 65us/step\n",
      "Test loss: 0.7553634078979492\n",
      "Test accuracy: 0.7527\n",
      "Model 0 Error: 24.73%\n",
      "10000/10000 [==============================] - 1s 67us/step\n",
      "Test loss: 1.1294522844314576\n",
      "Test accuracy: 0.7802\n",
      "Model 1 CNN Error: 21.98%\n",
      "10000/10000 [==============================] - 1s 67us/step\n",
      "Test loss: 0.8739109447479249\n",
      "Test accuracy: 0.809\n",
      "Model 2 Error: 19.10%\n"
     ]
    }
   ],
   "source": [
    "# EVALUATION\n",
    "# Final evaluation of the models\n",
    "scores0 = model0.evaluate(x_test, y_test, verbose=1)\n",
    "print('Test loss:', scores0[0])\n",
    "print('Test accuracy:', scores0[1])\n",
    "print(\"Model 0 Error: %.2f%%\" % (100-scores0[1]*100))\n",
    "scores1 = model1.evaluate(x_test, y_test, verbose=1)\n",
    "print('Test loss:', scores1[0])\n",
    "print('Test accuracy:', scores1[1])\n",
    "print(\"Model 1 CNN Error: %.2f%%\" % (100-scores1[1]*100))\n",
    "scores2 = model2.evaluate(x_test, y_test, verbose=1)\n",
    "print('Test loss:', scores2[0])\n",
    "print('Test accuracy:', scores2[1])\n",
    "print(\"Model 2 Error: %.2f%%\" % (100-scores2[1]*100))"
   ]
  },
  {
   "cell_type": "code",
   "execution_count": null,
   "metadata": {},
   "outputs": [],
   "source": []
  }
 ],
 "metadata": {
  "accelerator": "GPU",
  "colab": {
   "collapsed_sections": [],
   "name": "Analyse2.ipynb",
   "provenance": [],
   "version": "0.3.2"
  },
  "kernelspec": {
   "display_name": "Python 3",
   "language": "python",
   "name": "python3"
  },
  "language_info": {
   "codemirror_mode": {
    "name": "ipython",
    "version": 3
   },
   "file_extension": ".py",
   "mimetype": "text/x-python",
   "name": "python",
   "nbconvert_exporter": "python",
   "pygments_lexer": "ipython3",
   "version": "3.5.2"
  }
 },
 "nbformat": 4,
 "nbformat_minor": 1
}
